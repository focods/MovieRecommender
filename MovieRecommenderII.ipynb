{
  "nbformat": 4,
  "nbformat_minor": 0,
  "metadata": {
    "colab": {
      "name": "MovieRecommenderII.ipynb",
      "version": "0.3.2",
      "provenance": [],
      "collapsed_sections": [
        "dIDMrUw6a76g",
        "hhyLdodV8ihz",
        "J1c1QIe5udmZ",
        "jKO_4lqHum7b"
      ],
      "machine_shape": "hm"
    },
    "kernelspec": {
      "name": "python3",
      "display_name": "Python 3"
    },
    "accelerator": "GPU"
  },
  "cells": [
    {
      "cell_type": "markdown",
      "metadata": {
        "id": "zr-U558Kt8dV",
        "colab_type": "text"
      },
      "source": [
        "# Movie Recommender II"
      ]
    },
    {
      "cell_type": "markdown",
      "metadata": {
        "id": "hae2C0NCxzNX",
        "colab_type": "text"
      },
      "source": [
        "We will build a movie recommendation system to learn scipy's sparse array handling. We'll use data from the [GroupLens](https://grouplens.org) project, an effort by the University of Minnesota Department of Computer Science.  Among other things, GroupLens researches recommender systems."
      ]
    },
    {
      "cell_type": "code",
      "metadata": {
        "id": "XC-usFZjtEcd",
        "colab_type": "code",
        "colab": {}
      },
      "source": [
        "#requisite libraries:\n",
        "import numpy as np\n",
        "import pandas as pd\n",
        "from urllib.request import urlopen\n"
      ],
      "execution_count": 0,
      "outputs": []
    },
    {
      "cell_type": "markdown",
      "metadata": {
        "id": "CmA9qkn05p1r",
        "colab_type": "text"
      },
      "source": [
        "## Data Files\n",
        "The data for this exercise comes from publicly available datasets maintained and provided by GroupLens.  The data files are available [here](http://grouplens.org/datasets/).  Please see the [Readme](http://files.grouplens.org/datasets/movielens/ml-latest-README.html) for a description of the complete dataset.\n",
        "\n",
        "For our purposes, we need only two files from the complete dataset.  These two files files, nearly 1 GB in size have been downloaded, read into pandas dataframes, pickled and uploaded to AWS S3 storage so that they are available for easy access.\n",
        "\n",
        "**These files may disappear. If you intend to continue using this data after tonights session, please get your own copy from the source.**\n",
        "\n",
        "For this exercise, we need the movies.csv file and the ratings.csv file."
      ]
    },
    {
      "cell_type": "markdown",
      "metadata": {
        "id": "dIDMrUw6a76g",
        "colab_type": "text"
      },
      "source": [
        "### Movies"
      ]
    },
    {
      "cell_type": "code",
      "metadata": {
        "id": "2A90x3t_tm7a",
        "colab_type": "code",
        "cellView": "both",
        "colab": {}
      },
      "source": [
        "# read pickled data files\n",
        "path = 'https://focods.s3.us-east-2.amazonaws.com/movies.pcl'\n",
        "movies = pd.read_pickle(urlopen(path), compression=None)\n"
      ],
      "execution_count": 0,
      "outputs": []
    },
    {
      "cell_type": "code",
      "metadata": {
        "id": "SICoJVrohEBE",
        "colab_type": "code",
        "cellView": "both",
        "outputId": "497ef41b-a9c7-44c6-fc09-dc6c6b2c2326",
        "colab": {
          "base_uri": "https://localhost:8080/",
          "height": 0
        }
      },
      "source": [
        "#@title\n",
        "movies.head()"
      ],
      "execution_count": 3,
      "outputs": [
        {
          "output_type": "execute_result",
          "data": {
            "text/html": [
              "<div>\n",
              "<style scoped>\n",
              "    .dataframe tbody tr th:only-of-type {\n",
              "        vertical-align: middle;\n",
              "    }\n",
              "\n",
              "    .dataframe tbody tr th {\n",
              "        vertical-align: top;\n",
              "    }\n",
              "\n",
              "    .dataframe thead th {\n",
              "        text-align: right;\n",
              "    }\n",
              "</style>\n",
              "<table border=\"1\" class=\"dataframe\">\n",
              "  <thead>\n",
              "    <tr style=\"text-align: right;\">\n",
              "      <th></th>\n",
              "      <th>title</th>\n",
              "      <th>genres</th>\n",
              "    </tr>\n",
              "    <tr>\n",
              "      <th>movieId</th>\n",
              "      <th></th>\n",
              "      <th></th>\n",
              "    </tr>\n",
              "  </thead>\n",
              "  <tbody>\n",
              "    <tr>\n",
              "      <th>1</th>\n",
              "      <td>Toy Story (1995)</td>\n",
              "      <td>Adventure|Animation|Children|Comedy|Fantasy</td>\n",
              "    </tr>\n",
              "    <tr>\n",
              "      <th>2</th>\n",
              "      <td>Jumanji (1995)</td>\n",
              "      <td>Adventure|Children|Fantasy</td>\n",
              "    </tr>\n",
              "    <tr>\n",
              "      <th>3</th>\n",
              "      <td>Grumpier Old Men (1995)</td>\n",
              "      <td>Comedy|Romance</td>\n",
              "    </tr>\n",
              "    <tr>\n",
              "      <th>4</th>\n",
              "      <td>Waiting to Exhale (1995)</td>\n",
              "      <td>Comedy|Drama|Romance</td>\n",
              "    </tr>\n",
              "    <tr>\n",
              "      <th>5</th>\n",
              "      <td>Father of the Bride Part II (1995)</td>\n",
              "      <td>Comedy</td>\n",
              "    </tr>\n",
              "  </tbody>\n",
              "</table>\n",
              "</div>"
            ],
            "text/plain": [
              "                                      title                                       genres\n",
              "movieId                                                                                 \n",
              "1                          Toy Story (1995)  Adventure|Animation|Children|Comedy|Fantasy\n",
              "2                            Jumanji (1995)                   Adventure|Children|Fantasy\n",
              "3                   Grumpier Old Men (1995)                               Comedy|Romance\n",
              "4                  Waiting to Exhale (1995)                         Comedy|Drama|Romance\n",
              "5        Father of the Bride Part II (1995)                                       Comedy"
            ]
          },
          "metadata": {
            "tags": []
          },
          "execution_count": 3
        }
      ]
    },
    {
      "cell_type": "code",
      "metadata": {
        "id": "qev50_o46JHA",
        "colab_type": "code",
        "outputId": "366f49f8-3c5d-434a-b473-c237c0f493c2",
        "colab": {
          "base_uri": "https://localhost:8080/",
          "height": 0
        }
      },
      "source": [
        "len(movies)"
      ],
      "execution_count": 4,
      "outputs": [
        {
          "output_type": "execute_result",
          "data": {
            "text/plain": [
              "58098"
            ]
          },
          "metadata": {
            "tags": []
          },
          "execution_count": 4
        }
      ]
    },
    {
      "cell_type": "markdown",
      "metadata": {
        "id": "hhyLdodV8ihz",
        "colab_type": "text"
      },
      "source": [
        "### Ratings"
      ]
    },
    {
      "cell_type": "code",
      "metadata": {
        "id": "muECfnBGkbmt",
        "colab_type": "code",
        "colab": {}
      },
      "source": [
        "#Ratings: (takes about 20 seconds)\n",
        "path = 'https://focods.s3.us-east-2.amazonaws.com/ratings.pcl'\n",
        "ratings = pd.read_pickle(urlopen(path), compression=None)\n"
      ],
      "execution_count": 0,
      "outputs": []
    },
    {
      "cell_type": "code",
      "metadata": {
        "id": "CvD--wK_obEB",
        "colab_type": "code",
        "outputId": "0f5e16f1-1373-4745-e0cb-ccf25204d84b",
        "colab": {
          "base_uri": "https://localhost:8080/",
          "height": 0
        }
      },
      "source": [
        "ratings.head()"
      ],
      "execution_count": 6,
      "outputs": [
        {
          "output_type": "execute_result",
          "data": {
            "text/html": [
              "<div>\n",
              "<style scoped>\n",
              "    .dataframe tbody tr th:only-of-type {\n",
              "        vertical-align: middle;\n",
              "    }\n",
              "\n",
              "    .dataframe tbody tr th {\n",
              "        vertical-align: top;\n",
              "    }\n",
              "\n",
              "    .dataframe thead th {\n",
              "        text-align: right;\n",
              "    }\n",
              "</style>\n",
              "<table border=\"1\" class=\"dataframe\">\n",
              "  <thead>\n",
              "    <tr style=\"text-align: right;\">\n",
              "      <th></th>\n",
              "      <th>userId</th>\n",
              "      <th>movieId</th>\n",
              "      <th>rating</th>\n",
              "      <th>timestamp</th>\n",
              "    </tr>\n",
              "  </thead>\n",
              "  <tbody>\n",
              "    <tr>\n",
              "      <th>0</th>\n",
              "      <td>1</td>\n",
              "      <td>307</td>\n",
              "      <td>3.5</td>\n",
              "      <td>2009-10-27 21:00:21</td>\n",
              "    </tr>\n",
              "    <tr>\n",
              "      <th>1</th>\n",
              "      <td>1</td>\n",
              "      <td>481</td>\n",
              "      <td>3.5</td>\n",
              "      <td>2009-10-27 21:04:16</td>\n",
              "    </tr>\n",
              "    <tr>\n",
              "      <th>2</th>\n",
              "      <td>1</td>\n",
              "      <td>1091</td>\n",
              "      <td>1.5</td>\n",
              "      <td>2009-10-27 21:04:31</td>\n",
              "    </tr>\n",
              "    <tr>\n",
              "      <th>3</th>\n",
              "      <td>1</td>\n",
              "      <td>1257</td>\n",
              "      <td>4.5</td>\n",
              "      <td>2009-10-27 21:04:20</td>\n",
              "    </tr>\n",
              "    <tr>\n",
              "      <th>4</th>\n",
              "      <td>1</td>\n",
              "      <td>1449</td>\n",
              "      <td>4.5</td>\n",
              "      <td>2009-10-27 21:01:04</td>\n",
              "    </tr>\n",
              "  </tbody>\n",
              "</table>\n",
              "</div>"
            ],
            "text/plain": [
              "   userId  movieId  rating           timestamp\n",
              "0       1      307     3.5 2009-10-27 21:00:21\n",
              "1       1      481     3.5 2009-10-27 21:04:16\n",
              "2       1     1091     1.5 2009-10-27 21:04:31\n",
              "3       1     1257     4.5 2009-10-27 21:04:20\n",
              "4       1     1449     4.5 2009-10-27 21:01:04"
            ]
          },
          "metadata": {
            "tags": []
          },
          "execution_count": 6
        }
      ]
    },
    {
      "cell_type": "code",
      "metadata": {
        "id": "fnS51r6w6WUQ",
        "colab_type": "code",
        "outputId": "c75f9108-803f-4179-f69e-387917aa0379",
        "colab": {
          "base_uri": "https://localhost:8080/",
          "height": 0
        }
      },
      "source": [
        "len(ratings)"
      ],
      "execution_count": 7,
      "outputs": [
        {
          "output_type": "execute_result",
          "data": {
            "text/plain": [
              "27753444"
            ]
          },
          "metadata": {
            "tags": []
          },
          "execution_count": 7
        }
      ]
    },
    {
      "cell_type": "markdown",
      "metadata": {
        "id": "iPeUTZW59KwV",
        "colab_type": "text"
      },
      "source": [
        "From the [Readme](http://files.grouplens.org/datasets/movielens/ml-latest-README.html), the definition of the  rating column is:\n",
        "> >Ratings are made on a 5-star scale, with half-star increments (0.5 stars - 5.0 stars).\n"
      ]
    },
    {
      "cell_type": "markdown",
      "metadata": {
        "id": "V1sK2NLHuPf2",
        "colab_type": "text"
      },
      "source": [
        "## Partition Dataset: Training and Test\n",
        "\n",
        "Partition on the basis of users, i.e. a user is either a training user or a test user.  Need to partition the ratings on whether the user providing the rating is a training or test user."
      ]
    },
    {
      "cell_type": "markdown",
      "metadata": {
        "id": "J1c1QIe5udmZ",
        "colab_type": "text"
      },
      "source": [
        "### Assign Users to Training or Test Partition\n",
        "\n",
        "Keep training partition whole for now; don't break out a validation partition, save for later in case of doing cross validation"
      ]
    },
    {
      "cell_type": "code",
      "metadata": {
        "id": "FmYdfY0b1rgF",
        "colab_type": "code",
        "outputId": "295382fb-f925-4d09-8130-1a334f4b73df",
        "colab": {
          "base_uri": "https://localhost:8080/",
          "height": 0
        }
      },
      "source": [
        "train_pct = 0.7 # 70% for training\n",
        "np.random.seed(1234)\n",
        "users = ratings.userId.unique()\n",
        "user_partition = np.where(np.random.random(len(users)) < train_pct,'train','test')\n",
        "\n",
        "np.unique(user_partition, return_counts=True)"
      ],
      "execution_count": 8,
      "outputs": [
        {
          "output_type": "execute_result",
          "data": {
            "text/plain": [
              "(array(['test', 'train'], dtype='<U5'), array([ 84628, 198600]))"
            ]
          },
          "metadata": {
            "tags": []
          },
          "execution_count": 8
        }
      ]
    },
    {
      "cell_type": "code",
      "metadata": {
        "id": "MebPHW9g6ANP",
        "colab_type": "code",
        "colab": {}
      },
      "source": [
        "# make a look up table user_id -> status\n",
        "partition_lookup = pd.DataFrame({'Partition': user_partition}, index=users)"
      ],
      "execution_count": 0,
      "outputs": []
    },
    {
      "cell_type": "code",
      "metadata": {
        "id": "RtsBOVcH4rLX",
        "colab_type": "code",
        "outputId": "cb5d4d47-b62b-41df-c5de-b2df4694115a",
        "colab": {
          "base_uri": "https://localhost:8080/",
          "height": 0
        }
      },
      "source": [
        "# tack the user's partition onto the ratings data frame\n",
        "ratings['partition'] = partition_lookup.loc[ratings.userId].Partition.values\n",
        "ratings.partition.value_counts(normalize=True)"
      ],
      "execution_count": 10,
      "outputs": [
        {
          "output_type": "execute_result",
          "data": {
            "text/plain": [
              "train    0.700547\n",
              "test     0.299453\n",
              "Name: partition, dtype: float64"
            ]
          },
          "metadata": {
            "tags": []
          },
          "execution_count": 10
        }
      ]
    },
    {
      "cell_type": "markdown",
      "metadata": {
        "id": "jKO_4lqHum7b",
        "colab_type": "text"
      },
      "source": [
        "### Cut the Ratings by User's Partition"
      ]
    },
    {
      "cell_type": "code",
      "metadata": {
        "id": "xj_B7E9U0_wo",
        "colab_type": "code",
        "colab": {}
      },
      "source": [
        "train_ratings = ratings.query('partition == \\'train\\'')\n",
        "test_ratings = ratings.query('partition == \\'test\\'')"
      ],
      "execution_count": 0,
      "outputs": []
    },
    {
      "cell_type": "code",
      "metadata": {
        "id": "W1GqsLk2Oi3x",
        "colab_type": "code",
        "outputId": "15c7547a-0773-43d0-e51f-4fdd2daa97fe",
        "colab": {
          "base_uri": "https://localhost:8080/",
          "height": 0
        }
      },
      "source": [
        "#look at the ratings for arbitrary user\n",
        "train_ratings.query('userId == 283225').sort_values('timestamp')"
      ],
      "execution_count": 12,
      "outputs": [
        {
          "output_type": "execute_result",
          "data": {
            "text/html": [
              "<div>\n",
              "<style scoped>\n",
              "    .dataframe tbody tr th:only-of-type {\n",
              "        vertical-align: middle;\n",
              "    }\n",
              "\n",
              "    .dataframe tbody tr th {\n",
              "        vertical-align: top;\n",
              "    }\n",
              "\n",
              "    .dataframe thead th {\n",
              "        text-align: right;\n",
              "    }\n",
              "</style>\n",
              "<table border=\"1\" class=\"dataframe\">\n",
              "  <thead>\n",
              "    <tr style=\"text-align: right;\">\n",
              "      <th></th>\n",
              "      <th>userId</th>\n",
              "      <th>movieId</th>\n",
              "      <th>rating</th>\n",
              "      <th>timestamp</th>\n",
              "      <th>partition</th>\n",
              "    </tr>\n",
              "  </thead>\n",
              "  <tbody>\n",
              "    <tr>\n",
              "      <th>27753288</th>\n",
              "      <td>283225</td>\n",
              "      <td>784</td>\n",
              "      <td>3.0</td>\n",
              "      <td>2006-02-08 00:19:50</td>\n",
              "      <td>train</td>\n",
              "    </tr>\n",
              "    <tr>\n",
              "      <th>27753298</th>\n",
              "      <td>283225</td>\n",
              "      <td>2599</td>\n",
              "      <td>4.0</td>\n",
              "      <td>2006-02-08 00:19:54</td>\n",
              "      <td>train</td>\n",
              "    </tr>\n",
              "    <tr>\n",
              "      <th>27753292</th>\n",
              "      <td>283225</td>\n",
              "      <td>1380</td>\n",
              "      <td>2.5</td>\n",
              "      <td>2006-02-08 00:20:15</td>\n",
              "      <td>train</td>\n",
              "    </tr>\n",
              "    <tr>\n",
              "      <th>27753293</th>\n",
              "      <td>283225</td>\n",
              "      <td>1500</td>\n",
              "      <td>4.0</td>\n",
              "      <td>2006-02-08 00:20:19</td>\n",
              "      <td>train</td>\n",
              "    </tr>\n",
              "    <tr>\n",
              "      <th>27753287</th>\n",
              "      <td>283225</td>\n",
              "      <td>370</td>\n",
              "      <td>3.0</td>\n",
              "      <td>2006-02-08 00:20:21</td>\n",
              "      <td>train</td>\n",
              "    </tr>\n",
              "    <tr>\n",
              "      <th>27753284</th>\n",
              "      <td>283225</td>\n",
              "      <td>151</td>\n",
              "      <td>2.5</td>\n",
              "      <td>2006-02-08 00:20:57</td>\n",
              "      <td>train</td>\n",
              "    </tr>\n",
              "    <tr>\n",
              "      <th>27753297</th>\n",
              "      <td>283225</td>\n",
              "      <td>2406</td>\n",
              "      <td>3.0</td>\n",
              "      <td>2006-02-08 00:21:01</td>\n",
              "      <td>train</td>\n",
              "    </tr>\n",
              "    <tr>\n",
              "      <th>27753283</th>\n",
              "      <td>283225</td>\n",
              "      <td>112</td>\n",
              "      <td>2.5</td>\n",
              "      <td>2006-02-08 00:21:03</td>\n",
              "      <td>train</td>\n",
              "    </tr>\n",
              "    <tr>\n",
              "      <th>27753291</th>\n",
              "      <td>283225</td>\n",
              "      <td>1288</td>\n",
              "      <td>3.0</td>\n",
              "      <td>2006-02-08 00:21:05</td>\n",
              "      <td>train</td>\n",
              "    </tr>\n",
              "    <tr>\n",
              "      <th>27753290</th>\n",
              "      <td>283225</td>\n",
              "      <td>1252</td>\n",
              "      <td>4.0</td>\n",
              "      <td>2006-02-08 00:21:18</td>\n",
              "      <td>train</td>\n",
              "    </tr>\n",
              "    <tr>\n",
              "      <th>27753285</th>\n",
              "      <td>283225</td>\n",
              "      <td>163</td>\n",
              "      <td>3.5</td>\n",
              "      <td>2006-02-08 00:21:20</td>\n",
              "      <td>train</td>\n",
              "    </tr>\n",
              "    <tr>\n",
              "      <th>27753302</th>\n",
              "      <td>283225</td>\n",
              "      <td>5445</td>\n",
              "      <td>3.0</td>\n",
              "      <td>2006-02-08 00:21:24</td>\n",
              "      <td>train</td>\n",
              "    </tr>\n",
              "    <tr>\n",
              "      <th>27753301</th>\n",
              "      <td>283225</td>\n",
              "      <td>4034</td>\n",
              "      <td>3.5</td>\n",
              "      <td>2006-02-08 00:21:31</td>\n",
              "      <td>train</td>\n",
              "    </tr>\n",
              "    <tr>\n",
              "      <th>27753294</th>\n",
              "      <td>283225</td>\n",
              "      <td>1639</td>\n",
              "      <td>2.5</td>\n",
              "      <td>2006-02-08 00:21:40</td>\n",
              "      <td>train</td>\n",
              "    </tr>\n",
              "    <tr>\n",
              "      <th>27753296</th>\n",
              "      <td>283225</td>\n",
              "      <td>2353</td>\n",
              "      <td>2.5</td>\n",
              "      <td>2006-02-08 00:21:50</td>\n",
              "      <td>train</td>\n",
              "    </tr>\n",
              "    <tr>\n",
              "      <th>27753286</th>\n",
              "      <td>283225</td>\n",
              "      <td>172</td>\n",
              "      <td>2.0</td>\n",
              "      <td>2006-02-08 00:21:54</td>\n",
              "      <td>train</td>\n",
              "    </tr>\n",
              "    <tr>\n",
              "      <th>27753299</th>\n",
              "      <td>283225</td>\n",
              "      <td>2692</td>\n",
              "      <td>4.0</td>\n",
              "      <td>2006-02-08 00:22:05</td>\n",
              "      <td>train</td>\n",
              "    </tr>\n",
              "    <tr>\n",
              "      <th>27753289</th>\n",
              "      <td>283225</td>\n",
              "      <td>1234</td>\n",
              "      <td>4.0</td>\n",
              "      <td>2006-02-08 00:22:08</td>\n",
              "      <td>train</td>\n",
              "    </tr>\n",
              "    <tr>\n",
              "      <th>27753295</th>\n",
              "      <td>283225</td>\n",
              "      <td>2302</td>\n",
              "      <td>3.0</td>\n",
              "      <td>2006-02-08 00:22:22</td>\n",
              "      <td>train</td>\n",
              "    </tr>\n",
              "    <tr>\n",
              "      <th>27753300</th>\n",
              "      <td>283225</td>\n",
              "      <td>3623</td>\n",
              "      <td>2.5</td>\n",
              "      <td>2006-02-08 00:22:25</td>\n",
              "      <td>train</td>\n",
              "    </tr>\n",
              "  </tbody>\n",
              "</table>\n",
              "</div>"
            ],
            "text/plain": [
              "          userId  movieId  rating           timestamp partition\n",
              "27753288  283225      784     3.0 2006-02-08 00:19:50     train\n",
              "27753298  283225     2599     4.0 2006-02-08 00:19:54     train\n",
              "27753292  283225     1380     2.5 2006-02-08 00:20:15     train\n",
              "27753293  283225     1500     4.0 2006-02-08 00:20:19     train\n",
              "27753287  283225      370     3.0 2006-02-08 00:20:21     train\n",
              "27753284  283225      151     2.5 2006-02-08 00:20:57     train\n",
              "27753297  283225     2406     3.0 2006-02-08 00:21:01     train\n",
              "27753283  283225      112     2.5 2006-02-08 00:21:03     train\n",
              "27753291  283225     1288     3.0 2006-02-08 00:21:05     train\n",
              "27753290  283225     1252     4.0 2006-02-08 00:21:18     train\n",
              "27753285  283225      163     3.5 2006-02-08 00:21:20     train\n",
              "27753302  283225     5445     3.0 2006-02-08 00:21:24     train\n",
              "27753301  283225     4034     3.5 2006-02-08 00:21:31     train\n",
              "27753294  283225     1639     2.5 2006-02-08 00:21:40     train\n",
              "27753296  283225     2353     2.5 2006-02-08 00:21:50     train\n",
              "27753286  283225      172     2.0 2006-02-08 00:21:54     train\n",
              "27753299  283225     2692     4.0 2006-02-08 00:22:05     train\n",
              "27753289  283225     1234     4.0 2006-02-08 00:22:08     train\n",
              "27753295  283225     2302     3.0 2006-02-08 00:22:22     train\n",
              "27753300  283225     3623     2.5 2006-02-08 00:22:25     train"
            ]
          },
          "metadata": {
            "tags": []
          },
          "execution_count": 12
        }
      ]
    },
    {
      "cell_type": "markdown",
      "metadata": {
        "id": "tMDzuS-kvEjN",
        "colab_type": "text"
      },
      "source": [
        "### Create Response and Predictor Variables"
      ]
    },
    {
      "cell_type": "markdown",
      "metadata": {
        "id": "ScwSyXB_wD5i",
        "colab_type": "text"
      },
      "source": [
        "User's most recent rating is response; previous ratings are predictors. return these as a CSR matrix.\n",
        "\n",
        "Dimension all of the arrays to by n_users by n_movies so that the userId and movieId values can be used as indices into the arrays"
      ]
    },
    {
      "cell_type": "code",
      "metadata": {
        "id": "aD7AcqbSKezp",
        "colab_type": "code",
        "colab": {}
      },
      "source": [
        "n_users =ratings.userId.max()+1\n",
        "n_movies = ratings.movieId.max()+1"
      ],
      "execution_count": 0,
      "outputs": []
    },
    {
      "cell_type": "code",
      "metadata": {
        "id": "PBkF-mpXNHJk",
        "colab_type": "code",
        "colab": {}
      },
      "source": [
        "from scipy.sparse import csr_matrix\n",
        "\n",
        "def get_preds_response(df, shape):\n",
        "  \"\"\"\n",
        "  splits the argument data frame into predictor and response sparse matrices.\n",
        "  The response is the latest movieId and rating for each user in the arg df.\n",
        "  The predictors are the movieId and ratings of all the other movies reviewed\n",
        "  by each user.\n",
        "  The return values are csr_matrices of shape user x movie\n",
        "  \"\"\"\n",
        "  # get the index of each user's latest rating\n",
        "  indx = df.groupby('userId').timestamp.idxmax()\n",
        "  # get the rows of the data frame corresponding to the each users latest rating\n",
        "  y_df = df.loc[indx]\n",
        "  \n",
        "  # exclude the latest ratings from the input data frame\n",
        "  x_df = df.drop(indx)\n",
        "  \n",
        "  # turn them into sparse matrices\n",
        "  preds = csr_matrix((x_df.rating, (x_df.userId, x_df.movieId)), shape=shape)\n",
        "  resp  = csr_matrix((y_df.rating, (y_df.userId, y_df.movieId)), shape=shape)\n",
        "  \n",
        "  return preds, resp"
      ],
      "execution_count": 0,
      "outputs": []
    },
    {
      "cell_type": "code",
      "metadata": {
        "id": "9RgGHPHlN5ut",
        "colab_type": "code",
        "colab": {}
      },
      "source": [
        "x_train, y_train = get_preds_response(train_ratings, (n_users, n_movies))"
      ],
      "execution_count": 0,
      "outputs": []
    },
    {
      "cell_type": "markdown",
      "metadata": {
        "id": "KOq2za2mhp5W",
        "colab_type": "text"
      },
      "source": [
        "Both x_train and y_train are of dimension users x movies."
      ]
    },
    {
      "cell_type": "code",
      "metadata": {
        "id": "NTy4jcdtOhid",
        "colab_type": "code",
        "outputId": "4ae23c30-f0c2-4942-cb43-f7379af92aee",
        "colab": {
          "base_uri": "https://localhost:8080/",
          "height": 51
        }
      },
      "source": [
        "x_train"
      ],
      "execution_count": 16,
      "outputs": [
        {
          "output_type": "execute_result",
          "data": {
            "text/plain": [
              "<283229x193887 sparse matrix of type '<class 'numpy.float64'>'\n",
              "\twith 19243991 stored elements in Compressed Sparse Row format>"
            ]
          },
          "metadata": {
            "tags": []
          },
          "execution_count": 16
        }
      ]
    },
    {
      "cell_type": "code",
      "metadata": {
        "id": "opixjEfShaI0",
        "colab_type": "code",
        "outputId": "28ca2319-446b-465e-c97d-533a49987524",
        "colab": {
          "base_uri": "https://localhost:8080/",
          "height": 51
        }
      },
      "source": [
        "y_train"
      ],
      "execution_count": 17,
      "outputs": [
        {
          "output_type": "execute_result",
          "data": {
            "text/plain": [
              "<283229x193887 sparse matrix of type '<class 'numpy.float64'>'\n",
              "\twith 198600 stored elements in Compressed Sparse Row format>"
            ]
          },
          "metadata": {
            "tags": []
          },
          "execution_count": 17
        }
      ]
    },
    {
      "cell_type": "code",
      "metadata": {
        "id": "OEM2AdHVjKiy",
        "colab_type": "code",
        "colab": {}
      },
      "source": [
        "# likewise split out the test data\n",
        "x_test, y_test = get_preds_response(test_ratings, (n_users, n_movies))"
      ],
      "execution_count": 0,
      "outputs": []
    },
    {
      "cell_type": "code",
      "metadata": {
        "id": "FsTN5gJHLk5v",
        "colab_type": "code",
        "outputId": "a007f668-9a22-49c9-f8e6-6dd598461389",
        "colab": {
          "base_uri": "https://localhost:8080/",
          "height": 51
        }
      },
      "source": [
        "x_test"
      ],
      "execution_count": 19,
      "outputs": [
        {
          "output_type": "execute_result",
          "data": {
            "text/plain": [
              "<283229x193887 sparse matrix of type '<class 'numpy.float64'>'\n",
              "\twith 8226225 stored elements in Compressed Sparse Row format>"
            ]
          },
          "metadata": {
            "tags": []
          },
          "execution_count": 19
        }
      ]
    },
    {
      "cell_type": "code",
      "metadata": {
        "id": "CVaJMTXjLqXX",
        "colab_type": "code",
        "outputId": "5fdf1b1c-e1c5-45ae-c9cf-bcb246d119b9",
        "colab": {
          "base_uri": "https://localhost:8080/",
          "height": 51
        }
      },
      "source": [
        "y_test"
      ],
      "execution_count": 20,
      "outputs": [
        {
          "output_type": "execute_result",
          "data": {
            "text/plain": [
              "<283229x193887 sparse matrix of type '<class 'numpy.float64'>'\n",
              "\twith 84628 stored elements in Compressed Sparse Row format>"
            ]
          },
          "metadata": {
            "tags": []
          },
          "execution_count": 20
        }
      ]
    },
    {
      "cell_type": "markdown",
      "metadata": {
        "id": "jJ3w40SAwfeV",
        "colab_type": "text"
      },
      "source": [
        "## Create User-Item Collaborative Filter\n",
        "\n",
        "\n",
        "1.   Segment training users into $n$ categories based on their previous reviews (all but the last review (Gaussian mixture model with LDA)\n",
        "2. Identify the top 5 or 10 movies that characterize each of  the $n$ categories\n",
        "3. Predict by:\n",
        "  1.  Assign test user to most likely category based on viewing history (predictors)\n",
        "  2. Find first movie in the category that user hasn't seen; **this is the prediction**\n",
        "  3. Compare prediction to response (the last movie the user rated.)\n",
        "4. Compute overall Test and Dev accuracy measures\n",
        "5. Maybe iterate over $n$ to see impact on accuracy measures\n",
        "\n",
        "\n"
      ]
    },
    {
      "cell_type": "markdown",
      "metadata": {
        "id": "xHf6rCCWnM5E",
        "colab_type": "text"
      },
      "source": [
        "### Some helper routines"
      ]
    },
    {
      "cell_type": "code",
      "metadata": {
        "id": "T8K49lb2lfNT",
        "colab_type": "code",
        "colab": {}
      },
      "source": [
        "def find_movies(title_regexp):\n",
        "  \"\"\"\n",
        "  searches the list of movies with a reg exp\n",
        "  \"\"\"\n",
        "  return movies.title[movies.title.str.match(title_regexp, case=False)]"
      ],
      "execution_count": 0,
      "outputs": []
    },
    {
      "cell_type": "code",
      "metadata": {
        "id": "X0qX2mQLlpZ3",
        "colab_type": "code",
        "outputId": "d35894e3-d449-41bf-b846-7f49d4768855",
        "colab": {
          "base_uri": "https://localhost:8080/",
          "height": 187
        }
      },
      "source": [
        "find_movies('.*toy story.*')"
      ],
      "execution_count": 22,
      "outputs": [
        {
          "output_type": "execute_result",
          "data": {
            "text/plain": [
              "movieId\n",
              "1                                  Toy Story (1995)\n",
              "3114                             Toy Story 2 (1999)\n",
              "78499                            Toy Story 3 (2010)\n",
              "106022                   Toy Story of Terror (2013)\n",
              "115875    Toy Story Toons: Hawaiian Vacation (2011)\n",
              "115879            Toy Story Toons: Small Fry (2011)\n",
              "120468      Toy Story Toons: Partysaurus Rex (2012)\n",
              "120474            Toy Story That Time Forgot (2014)\n",
              "Name: title, dtype: object"
            ]
          },
          "metadata": {
            "tags": []
          },
          "execution_count": 22
        }
      ]
    },
    {
      "cell_type": "code",
      "metadata": {
        "id": "OLDx4KuJldoB",
        "colab_type": "code",
        "colab": {}
      },
      "source": [
        "def get_movieId(moviename):\n",
        "  \"\"\"\n",
        "  return the movie id given the title/moviename\n",
        "  \"\"\"\n",
        "  mvindex = movies.query('title == @moviename').index\n",
        "  if len(mvindex) == 0:\n",
        "    raise Exception(f'Invalid movie name: {moviename}')\n",
        "  return mvindex[0] # just the first one in case there were multiples\n",
        "  "
      ],
      "execution_count": 0,
      "outputs": []
    },
    {
      "cell_type": "code",
      "metadata": {
        "id": "1cNDVf9UAyD2",
        "colab_type": "code",
        "colab": {}
      },
      "source": [
        "# for lda, print the top words (movies) driving each category/segment\n",
        "def print_top_words(model, feature_names, n_top_words):\n",
        "    for topic_idx, topic in enumerate(model.components_):\n",
        "        message = \"Topic #%d: \" % topic_idx\n",
        "        message += \"; \".join([feature_names[i]\n",
        "                             for i in topic.argsort()[:-n_top_words - 1:-1]])\n",
        "        print(message)\n",
        "    print()"
      ],
      "execution_count": 0,
      "outputs": []
    },
    {
      "cell_type": "code",
      "metadata": {
        "id": "yfG-WqXGlyIo",
        "colab_type": "code",
        "outputId": "a6cc4037-2872-45fe-83e8-d27804205363",
        "colab": {
          "base_uri": "https://localhost:8080/",
          "height": 34
        }
      },
      "source": [
        "get_movieId('Toy Story 3 (2010)')"
      ],
      "execution_count": 25,
      "outputs": [
        {
          "output_type": "execute_result",
          "data": {
            "text/plain": [
              "78499"
            ]
          },
          "metadata": {
            "tags": []
          },
          "execution_count": 25
        }
      ]
    },
    {
      "cell_type": "code",
      "metadata": {
        "id": "MbEJY8BAPH7x",
        "colab_type": "code",
        "outputId": "cb7c7d4f-31f1-408b-98c3-b015a8e480bb",
        "colab": {
          "base_uri": "https://localhost:8080/",
          "height": 68
        }
      },
      "source": [
        "movies.loc[78499]"
      ],
      "execution_count": 26,
      "outputs": [
        {
          "output_type": "execute_result",
          "data": {
            "text/plain": [
              "title                                   Toy Story 3 (2010)\n",
              "genres    Adventure|Animation|Children|Comedy|Fantasy|IMAX\n",
              "Name: 78499, dtype: object"
            ]
          },
          "metadata": {
            "tags": []
          },
          "execution_count": 26
        }
      ]
    },
    {
      "cell_type": "code",
      "metadata": {
        "id": "OzF0KSf4AZDL",
        "colab_type": "code",
        "colab": {}
      },
      "source": [
        "from sklearn.decomposition import LatentDirichletAllocation"
      ],
      "execution_count": 0,
      "outputs": []
    },
    {
      "cell_type": "code",
      "metadata": {
        "id": "wSpfppRcAc-r",
        "colab_type": "code",
        "colab": {}
      },
      "source": [
        "# Parameters for the lda model\n",
        "#n_samples = 2000\n",
        "#n_features = 1000\n",
        "n_components = 20 # number of segments to assign users to\n",
        "n_top_words = 20"
      ],
      "execution_count": 0,
      "outputs": []
    },
    {
      "cell_type": "markdown",
      "metadata": {
        "id": "YsQwrT40z3Mu",
        "colab_type": "text"
      },
      "source": [
        "### Don't Run This Code! - Fit the LDA model\n",
        "\n",
        "...unless you have an hour to spare! This code runs  in 3517.131 seconds"
      ]
    },
    {
      "cell_type": "code",
      "metadata": {
        "id": "EYGEgoFyA01B",
        "colab_type": "code",
        "colab": {}
      },
      "source": [
        "#lda = LatentDirichletAllocation(n_components=n_components, max_iter=5,\n",
        "#                                learning_method='online',\n",
        "#                                learning_offset=50.,\n",
        "#                                random_state=0)"
      ],
      "execution_count": 0,
      "outputs": []
    },
    {
      "cell_type": "code",
      "metadata": {
        "id": "a9lq9n_4BvCn",
        "colab_type": "code",
        "colab": {}
      },
      "source": [
        "#from time import time\n",
        "#t0 = time()\n",
        "#lda.fit(x_train)\n",
        "#print(\"done in %0.3fs.\" % (time() - t0))"
      ],
      "execution_count": 0,
      "outputs": []
    },
    {
      "cell_type": "code",
      "metadata": {
        "id": "Nq7dhI-UqxKs",
        "colab_type": "code",
        "colab": {}
      },
      "source": [
        "#from google.colab import drive\n",
        "#drive.mount('/content/drive')\n"
      ],
      "execution_count": 0,
      "outputs": []
    },
    {
      "cell_type": "code",
      "metadata": {
        "id": "xMAHstTprG6S",
        "colab_type": "code",
        "colab": {}
      },
      "source": [
        "#!ls /content/drive/'My Drive'"
      ],
      "execution_count": 0,
      "outputs": []
    },
    {
      "cell_type": "code",
      "metadata": {
        "id": "o4kMwqWOn6K-",
        "colab_type": "code",
        "colab": {}
      },
      "source": [
        "# save the model as a pickle\n",
        "#import pickle\n",
        "#pcl = open('/content/drive/My Drive/lda.pcl','wb')\n",
        "#pickle.dump(lda, pcl)\n",
        "#pcl.close()"
      ],
      "execution_count": 0,
      "outputs": []
    },
    {
      "cell_type": "markdown",
      "metadata": {
        "id": "OTACsUzc0fNV",
        "colab_type": "text"
      },
      "source": [
        "### Read the Pickled Model\n"
      ]
    },
    {
      "cell_type": "code",
      "metadata": {
        "id": "niIuHtjZ52E0",
        "colab_type": "code",
        "colab": {}
      },
      "source": [
        "# read pickled lda model\n",
        "\n",
        "import pickle\n",
        "path = 'https://focods.s3.us-east-2.amazonaws.com/lda.pcl'\n",
        "\n",
        "lda = pickle.load( urlopen(path) ) "
      ],
      "execution_count": 0,
      "outputs": []
    },
    {
      "cell_type": "code",
      "metadata": {
        "id": "sMwZbesd9WCd",
        "colab_type": "code",
        "outputId": "a8821012-901c-424c-b39e-8286960fa87b",
        "colab": {
          "base_uri": "https://localhost:8080/",
          "height": 136
        }
      },
      "source": [
        "lda"
      ],
      "execution_count": 34,
      "outputs": [
        {
          "output_type": "execute_result",
          "data": {
            "text/plain": [
              "LatentDirichletAllocation(batch_size=128, doc_topic_prior=None,\n",
              "                          evaluate_every=-1, learning_decay=0.7,\n",
              "                          learning_method='online', learning_offset=50.0,\n",
              "                          max_doc_update_iter=100, max_iter=5,\n",
              "                          mean_change_tol=0.001, n_components=20, n_jobs=None,\n",
              "                          perp_tol=0.1, random_state=0, topic_word_prior=None,\n",
              "                          total_samples=1000000.0, verbose=0)"
            ]
          },
          "metadata": {
            "tags": []
          },
          "execution_count": 34
        }
      ]
    },
    {
      "cell_type": "code",
      "metadata": {
        "id": "53GQUQduMg8o",
        "colab_type": "code",
        "colab": {}
      },
      "source": [
        "movie_names =movies['title'].to_dict()"
      ],
      "execution_count": 0,
      "outputs": []
    },
    {
      "cell_type": "code",
      "metadata": {
        "id": "B4i58NDc-lfP",
        "colab_type": "code",
        "outputId": "37304be1-d7e7-408c-da4a-2348e877d740",
        "colab": {
          "base_uri": "https://localhost:8080/",
          "height": 394
        }
      },
      "source": [
        "# show which movies drive each segment\n",
        "print_top_words(lda, movie_names, n_top_words)"
      ],
      "execution_count": 36,
      "outputs": [
        {
          "output_type": "stream",
          "text": [
            "Topic #0: Rashomon (Rashômon) (1950); Yojimbo (1961); 400 Blows, The (Les quatre cents coups) (1959); Double Indemnity (1944); All the President's Men (1976); Wild Strawberries (Smultronstället) (1957); Modern Times (1936); M (1931); Seventh Seal, The (Sjunde inseglet, Det) (1957); Third Man, The (1949); Maltese Falcon, The (a.k.a. Dangerous Female) (1931); Conversation, The (1974); Breathless (À bout de souffle) (1960); Seven Samurai (Shichinin no samurai) (1954); City Lights (1931); Sunset Blvd. (a.k.a. Sunset Boulevard) (1950); Hannah and Her Sisters (1986); Ran (1985); Night at the Opera, A (1935); Gold Rush, The (1925)\n",
            "Topic #1: Arrival (2016); Logan (2017); Guardians of the Galaxy 2 (2017); Rogue One: A Star Wars Story (2016); Ex Machina (2015); Blade Runner 2049 (2017); The Martian (2015); Get Out (2017); Deadpool (2016); Doctor Strange (2016); Mad Max: Fury Road (2015); The Revenant (2015); Interstellar (2014); Zootopia (2016); The Hateful Eight (2015); Gone Girl (2014); Thor: Ragnarok (2017); Big Short, The (2015); Nightcrawler (2014); Dunkirk (2017)\n",
            "Topic #2: Pirates of the Caribbean: The Curse of the Black Pearl (2003); Lord of the Rings: The Two Towers, The (2002); Lord of the Rings: The Return of the King, The (2003); Finding Nemo (2003); Shrek (2001); Lord of the Rings: The Fellowship of the Ring, The (2001); Minority Report (2002); Spider-Man (2002); Kill Bill: Vol. 1 (2003); Ocean's Eleven (2001); Incredibles, The (2004); Monsters, Inc. (2001); Bourne Identity, The (2002); Kill Bill: Vol. 2 (2004); Matrix Reloaded, The (2003); Batman Begins (2005); Spider-Man 2 (2004); X2: X-Men United (2003); X-Men (2000); Shrek 2 (2004)\n",
            "Topic #3: Aliens (1986); Alien (1979); Terminator, The (1984); Total Recall (1990); Terminator 2: Judgment Day (1991); Blade Runner (1982); Star Trek II: The Wrath of Khan (1982); Abyss, The (1989); Star Wars: Episode V - The Empire Strikes Back (1980); Army of Darkness (1993); Star Wars: Episode VI - Return of the Jedi (1983); RoboCop (1987); Thing, The (1982); Predator (1987); Star Wars: Episode IV - A New Hope (1977); Star Trek IV: The Voyage Home (1986); Highlander (1986); Fifth Element, The (1997); Star Trek: First Contact (1996); Road Warrior, The (Mad Max 2) (1981)\n",
            "Topic #4: Apollo 13 (1995); Dances with Wolves (1990); Fugitive, The (1993); True Lies (1994); Pulp Fiction (1994); Forrest Gump (1994); Batman (1989); Silence of the Lambs, The (1991); Clear and Present Danger (1994); Aladdin (1992); Shawshank Redemption, The (1994); Jurassic Park (1993); Die Hard: With a Vengeance (1995); Braveheart (1995); Beauty and the Beast (1991); Ace Ventura: Pet Detective (1994); Batman Forever (1995); Speed (1994); Outbreak (1995); Terminator 2: Judgment Day (1991)\n",
            "Topic #5: Fargo (1996); Player, The (1992); American Beauty (1999); L.A. Confidential (1997); Being John Malkovich (1999); Three Colors: Red (Trois couleurs: Rouge) (1994); Election (1999); Heavenly Creatures (1994); Crying Game, The (1992); Ice Storm, The (1997); Shine (1996); Lone Star (1996); Shakespeare in Love (1998); Three Colors: Blue (Trois couleurs: Bleu) (1993); Crumb (1994); Leaving Las Vegas (1995); Like Water for Chocolate (Como agua para chocolate) (1992); Secrets & Lies (1996); Dead Man Walking (1995); English Patient, The (1996)\n",
            "Topic #6: Saw (2004); 28 Weeks Later (2007); 1408 (2007); Dawn of the Dead (2004); 300 (2007); 3:10 to Yuma (2007); Descent, The (2005); Saw II (2005); 28 Days Later (2002); Inside Man (2006); Lucky Number Slevin (2006); History of Violence, A (2005); Apocalypto (2006); Blood Diamond (2006); Jarhead (2005); Identity (2003); Mr. Brooks (2007); American Gangster (2007); Bank Job, The (2008); Clerks II (2006)\n",
            "Topic #7: Titanic (1997); Conspiracy Theory (1997); Air Force One (1997); My Best Friend's Wedding (1997); Mask of Zorro, The (1998); Wedding Singer, The (1998); Fatal Attraction (1987); You've Got Mail (1998); Splash (1984); Ever After: A Cinderella Story (1998); My Cousin Vinny (1992); Notting Hill (1999); Wag the Dog (1997); As Good as It Gets (1997); Tomorrow Never Dies (1997); X-Files: Fight the Future, The (1998); Contact (1997); Men in Black (a.k.a. MIB) (1997); Deep Impact (1998); Liar Liar (1997)\n",
            "Topic #8: Ferris Bueller's Day Off (1986); Ghostbusters (a.k.a. Ghost Busters) (1984); Breakfast Club, The (1985); Groundhog Day (1993); Rain Man (1988); Big (1988); Princess Bride, The (1987); There's Something About Mary (1998); American Beauty (1999); As Good as It Gets (1997); Airplane! (1980); Stand by Me (1986); Toy Story 2 (1999); Sixth Sense, The (1999); Back to the Future (1985); Being John Malkovich (1999); When Harry Met Sally... (1989); Hunt for Red October, The (1990); Office Space (1999); Shakespeare in Love (1998)\n",
            "Topic #9: No Country for Old Men (2007); Eternal Sunshine of the Spotless Mind (2004); Donnie Darko (2001); Requiem for a Dream (2000); Pan's Labyrinth (Laberinto del fauno, El) (2006); Big Lebowski, The (1998); Little Miss Sunshine (2006); City of God (Cidade de Deus) (2002); Amelie (Fabuleux destin d'Amélie Poulain, Le) (2001); There Will Be Blood (2007); Lost in Translation (2003); Old Boy (2003); Trainspotting (1996); Lives of Others, The (Das leben der Anderen) (2006); Departed, The (2006); Clockwork Orange, A (1971); Children of Men (2006); Inglourious Basterds (2009); Memento (2000); In Bruges (2008)\n",
            "Topic #10: Beauty and the Beast (1991); Cinderella (1950); Jungle Book, The (1967); Lady and the Tramp (1955); Aladdin (1992); Little Mermaid, The (1989); Mary Poppins (1964); Alice in Wonderland (1951); Dumbo (1941); Fantasia (1940); Pinocchio (1940); Lion King, The (1994); 101 Dalmatians (One Hundred and One Dalmatians) (1961); Snow White and the Seven Dwarfs (1937); Peter Pan (1953); Mulan (1998); Bambi (1942); Sleeping Beauty (1959); Hunchback of Notre Dame, The (1996); James and the Giant Peach (1996)\n",
            "Topic #11: Notebook, The (2004); Love Actually (2003); Devil Wears Prada, The (2006); (500) Days of Summer (2009); Mean Girls (2004); Juno (2007); Pride & Prejudice (2005); 10 Things I Hate About You (1999); 50 First Dates (2004); Titanic (1997); Forrest Gump (1994); Legally Blonde (2001); Bridget Jones's Diary (2001); 13 Going on 30 (2004); Holiday, The (2006); Pretty Woman (1990); How to Lose a Guy in 10 Days (2003); Miss Congeniality (2000); Hitch (2005); Finding Nemo (2003)\n",
            "Topic #12: Gosford Park (2001); About a Boy (2002); Chocolat (2000); Chicago (2002); Bridget Jones's Diary (2001); Amelie (Fabuleux destin d'Amélie Poulain, Le) (2001); Beautiful Mind, A (2001); Royal Tenenbaums, The (2001); Moulin Rouge (2001); Best in Show (2000); My Big Fat Greek Wedding (2002); Almost Famous (2000); Billy Elliot (2000); Memento (2000); O Brother, Where Art Thou? (2000); Tootsie (1982); Harry Potter and the Sorcerer's Stone (a.k.a. Harry Potter and the Philosopher's Stone) (2001); Bend It Like Beckham (2002); Traffic (2000); Lord of the Rings: The Fellowship of the Ring, The (2001)\n",
            "Topic #13: Iron Lady, The (2011); Visitors, The (Visiteurs, Les) (1993); The Lunchbox (2013); Single Man, A (2009); Queen of Versailles, The (2012); Dinner Game, The (Dîner de cons, Le) (1998); Bernie (2011); George Carlin: You Are All Diseased (1999); Yi Yi (2000); Last Days, The (1998); Doug's 1st Movie (1999); Rent-a-Kid (1995); Illusionist, The (L'illusionniste) (2010); Shootist, The (1976); Heartbeats (Les amours imaginaires) (2010); Stories We Tell (2012); I Am Love (Io sono l'amore) (2009); Great Beauty, The (Grande Bellezza, La) (2013); Another Year (2010); Pride (2014)\n",
            "Topic #14: Independence Day (a.k.a. ID4) (1996); Mission: Impossible (1996); Twister (1996); Rock, The (1996); Toy Story (1995); Star Wars: Episode IV - A New Hope (1977); Mr. Holland's Opus (1995); Birdcage, The (1996); Twelve Monkeys (a.k.a. 12 Monkeys) (1995); Willy Wonka & the Chocolate Factory (1971); Fargo (1996); Eraser (1996); Broken Arrow (1996); Executive Decision (1996); Dead Man Walking (1995); Leaving Las Vegas (1995); Phenomenon (1996); Sabrina (1995); Heat (1995); Nutty Professor, The (1996)\n",
            "Topic #15: Iron Man 2 (2010); Sherlock Holmes (2009); X-Men Origins: Wolverine (2009); Thor (2011); Captain America: The First Avenger (2011); Kung Fu Panda (2008); Hancock (2008); X-Men: First Class (2011); Avatar (2009); Avengers, The (2012); Iron Man (2008); Iron Man 3 (2013); Pirates of the Caribbean: At World's End (2007); Transformers (2007); I Am Legend (2007); Taken (2008); I, Robot (2004); Hangover, The (2009); Kick-Ass (2010); Despicable Me (2010)\n",
            "Topic #16: Shawshank Redemption, The (1994); Godfather, The (1972); Silence of the Lambs, The (1991); Matrix, The (1999); Pulp Fiction (1994); Schindler's List (1993); Star Wars: Episode IV - A New Hope (1977); Forrest Gump (1994); Usual Suspects, The (1995); Fight Club (1999); Star Wars: Episode V - The Empire Strikes Back (1980); Raiders of the Lost Ark (Indiana Jones and the Raiders of the Lost Ark) (1981); American Beauty (1999); Godfather: Part II, The (1974); Saving Private Ryan (1998); Star Wars: Episode VI - Return of the Jedi (1983); One Flew Over the Cuckoo's Nest (1975); Braveheart (1995); Goodfellas (1990); Reservoir Dogs (1992)\n",
            "Topic #17: Gone in 60 Seconds (2000); Gladiator (2000); Road Trip (2000); Patriot, The (2000); U-571 (2000); American Pie (1999); Me, Myself & Irene (2000); Bone Collector, The (1999); Whole Nine Yards, The (2000); Big Daddy (1999); Cruel Intentions (1999); Mission: Impossible II (2000); What Lies Beneath (2000); Frequency (2000); Hollow Man (2000); Entrapment (1999); Scary Movie (2000); Payback (1999); American Pie 2 (2001); Shanghai Noon (2000)\n",
            "Topic #18: Casablanca (1942); North by Northwest (1959); Maltese Falcon, The (1941); Rear Window (1954); African Queen, The (1951); Sting, The (1973); Vertigo (1958); Lawrence of Arabia (1962); Citizen Kane (1941); Butch Cassidy and the Sundance Kid (1969); Bridge on the River Kwai, The (1957); Graduate, The (1967); Some Like It Hot (1959); Wizard of Oz, The (1939); Chinatown (1974); Amadeus (1984); To Kill a Mockingbird (1962); One Flew Over the Cuckoo's Nest (1975); Annie Hall (1977); Gone with the Wind (1939)\n",
            "Topic #19: Inception (2010); Dark Knight, The (2008); Lord of the Rings: The Return of the King, The (2003); Interstellar (2014); Up (2009); Lord of the Rings: The Fellowship of the Ring, The (2001); Matrix, The (1999); WALL·E (2008); Lord of the Rings: The Two Towers, The (2002); Django Unchained (2012); Dark Knight Rises, The (2012); Avatar (2009); Iron Man (2008); Shawshank Redemption, The (1994); Inglourious Basterds (2009); The Imitation Game (2014); Batman Begins (2005); Shutter Island (2010); The Martian (2015); Fight Club (1999)\n",
            "\n"
          ],
          "name": "stdout"
        }
      ]
    },
    {
      "cell_type": "code",
      "metadata": {
        "id": "jhfpzT9b_1j8",
        "colab_type": "code",
        "outputId": "c0ab00c1-f0cd-4855-c6be-19d3ff6696b9",
        "colab": {
          "base_uri": "https://localhost:8080/",
          "height": 34
        }
      },
      "source": [
        "lda.components_.shape"
      ],
      "execution_count": 37,
      "outputs": [
        {
          "output_type": "execute_result",
          "data": {
            "text/plain": [
              "(20, 193887)"
            ]
          },
          "metadata": {
            "tags": []
          },
          "execution_count": 37
        }
      ]
    },
    {
      "cell_type": "markdown",
      "metadata": {
        "id": "PiVOeI6E3gZs",
        "colab_type": "text"
      },
      "source": [
        "## Assign Users to Segments"
      ]
    },
    {
      "cell_type": "markdown",
      "metadata": {
        "id": "v8WEhIqrkwkj",
        "colab_type": "text"
      },
      "source": [
        "### Take a look at an Arbitrary User"
      ]
    },
    {
      "cell_type": "code",
      "metadata": {
        "id": "K9OUXYTxAYWm",
        "colab_type": "code",
        "outputId": "bd2b6073-37e8-4071-9798-4e1191266b2a",
        "colab": {
          "base_uri": "https://localhost:8080/",
          "height": 669
        }
      },
      "source": [
        "#take a look at an arbitrary user's ratings:\n",
        "train_ratings.query('userId == 283225')"
      ],
      "execution_count": 38,
      "outputs": [
        {
          "output_type": "execute_result",
          "data": {
            "text/html": [
              "<div>\n",
              "<style scoped>\n",
              "    .dataframe tbody tr th:only-of-type {\n",
              "        vertical-align: middle;\n",
              "    }\n",
              "\n",
              "    .dataframe tbody tr th {\n",
              "        vertical-align: top;\n",
              "    }\n",
              "\n",
              "    .dataframe thead th {\n",
              "        text-align: right;\n",
              "    }\n",
              "</style>\n",
              "<table border=\"1\" class=\"dataframe\">\n",
              "  <thead>\n",
              "    <tr style=\"text-align: right;\">\n",
              "      <th></th>\n",
              "      <th>userId</th>\n",
              "      <th>movieId</th>\n",
              "      <th>rating</th>\n",
              "      <th>timestamp</th>\n",
              "      <th>partition</th>\n",
              "    </tr>\n",
              "  </thead>\n",
              "  <tbody>\n",
              "    <tr>\n",
              "      <th>27753283</th>\n",
              "      <td>283225</td>\n",
              "      <td>112</td>\n",
              "      <td>2.5</td>\n",
              "      <td>2006-02-08 00:21:03</td>\n",
              "      <td>train</td>\n",
              "    </tr>\n",
              "    <tr>\n",
              "      <th>27753284</th>\n",
              "      <td>283225</td>\n",
              "      <td>151</td>\n",
              "      <td>2.5</td>\n",
              "      <td>2006-02-08 00:20:57</td>\n",
              "      <td>train</td>\n",
              "    </tr>\n",
              "    <tr>\n",
              "      <th>27753285</th>\n",
              "      <td>283225</td>\n",
              "      <td>163</td>\n",
              "      <td>3.5</td>\n",
              "      <td>2006-02-08 00:21:20</td>\n",
              "      <td>train</td>\n",
              "    </tr>\n",
              "    <tr>\n",
              "      <th>27753286</th>\n",
              "      <td>283225</td>\n",
              "      <td>172</td>\n",
              "      <td>2.0</td>\n",
              "      <td>2006-02-08 00:21:54</td>\n",
              "      <td>train</td>\n",
              "    </tr>\n",
              "    <tr>\n",
              "      <th>27753287</th>\n",
              "      <td>283225</td>\n",
              "      <td>370</td>\n",
              "      <td>3.0</td>\n",
              "      <td>2006-02-08 00:20:21</td>\n",
              "      <td>train</td>\n",
              "    </tr>\n",
              "    <tr>\n",
              "      <th>27753288</th>\n",
              "      <td>283225</td>\n",
              "      <td>784</td>\n",
              "      <td>3.0</td>\n",
              "      <td>2006-02-08 00:19:50</td>\n",
              "      <td>train</td>\n",
              "    </tr>\n",
              "    <tr>\n",
              "      <th>27753289</th>\n",
              "      <td>283225</td>\n",
              "      <td>1234</td>\n",
              "      <td>4.0</td>\n",
              "      <td>2006-02-08 00:22:08</td>\n",
              "      <td>train</td>\n",
              "    </tr>\n",
              "    <tr>\n",
              "      <th>27753290</th>\n",
              "      <td>283225</td>\n",
              "      <td>1252</td>\n",
              "      <td>4.0</td>\n",
              "      <td>2006-02-08 00:21:18</td>\n",
              "      <td>train</td>\n",
              "    </tr>\n",
              "    <tr>\n",
              "      <th>27753291</th>\n",
              "      <td>283225</td>\n",
              "      <td>1288</td>\n",
              "      <td>3.0</td>\n",
              "      <td>2006-02-08 00:21:05</td>\n",
              "      <td>train</td>\n",
              "    </tr>\n",
              "    <tr>\n",
              "      <th>27753292</th>\n",
              "      <td>283225</td>\n",
              "      <td>1380</td>\n",
              "      <td>2.5</td>\n",
              "      <td>2006-02-08 00:20:15</td>\n",
              "      <td>train</td>\n",
              "    </tr>\n",
              "    <tr>\n",
              "      <th>27753293</th>\n",
              "      <td>283225</td>\n",
              "      <td>1500</td>\n",
              "      <td>4.0</td>\n",
              "      <td>2006-02-08 00:20:19</td>\n",
              "      <td>train</td>\n",
              "    </tr>\n",
              "    <tr>\n",
              "      <th>27753294</th>\n",
              "      <td>283225</td>\n",
              "      <td>1639</td>\n",
              "      <td>2.5</td>\n",
              "      <td>2006-02-08 00:21:40</td>\n",
              "      <td>train</td>\n",
              "    </tr>\n",
              "    <tr>\n",
              "      <th>27753295</th>\n",
              "      <td>283225</td>\n",
              "      <td>2302</td>\n",
              "      <td>3.0</td>\n",
              "      <td>2006-02-08 00:22:22</td>\n",
              "      <td>train</td>\n",
              "    </tr>\n",
              "    <tr>\n",
              "      <th>27753296</th>\n",
              "      <td>283225</td>\n",
              "      <td>2353</td>\n",
              "      <td>2.5</td>\n",
              "      <td>2006-02-08 00:21:50</td>\n",
              "      <td>train</td>\n",
              "    </tr>\n",
              "    <tr>\n",
              "      <th>27753297</th>\n",
              "      <td>283225</td>\n",
              "      <td>2406</td>\n",
              "      <td>3.0</td>\n",
              "      <td>2006-02-08 00:21:01</td>\n",
              "      <td>train</td>\n",
              "    </tr>\n",
              "    <tr>\n",
              "      <th>27753298</th>\n",
              "      <td>283225</td>\n",
              "      <td>2599</td>\n",
              "      <td>4.0</td>\n",
              "      <td>2006-02-08 00:19:54</td>\n",
              "      <td>train</td>\n",
              "    </tr>\n",
              "    <tr>\n",
              "      <th>27753299</th>\n",
              "      <td>283225</td>\n",
              "      <td>2692</td>\n",
              "      <td>4.0</td>\n",
              "      <td>2006-02-08 00:22:05</td>\n",
              "      <td>train</td>\n",
              "    </tr>\n",
              "    <tr>\n",
              "      <th>27753300</th>\n",
              "      <td>283225</td>\n",
              "      <td>3623</td>\n",
              "      <td>2.5</td>\n",
              "      <td>2006-02-08 00:22:25</td>\n",
              "      <td>train</td>\n",
              "    </tr>\n",
              "    <tr>\n",
              "      <th>27753301</th>\n",
              "      <td>283225</td>\n",
              "      <td>4034</td>\n",
              "      <td>3.5</td>\n",
              "      <td>2006-02-08 00:21:31</td>\n",
              "      <td>train</td>\n",
              "    </tr>\n",
              "    <tr>\n",
              "      <th>27753302</th>\n",
              "      <td>283225</td>\n",
              "      <td>5445</td>\n",
              "      <td>3.0</td>\n",
              "      <td>2006-02-08 00:21:24</td>\n",
              "      <td>train</td>\n",
              "    </tr>\n",
              "  </tbody>\n",
              "</table>\n",
              "</div>"
            ],
            "text/plain": [
              "          userId  movieId  rating           timestamp partition\n",
              "27753283  283225      112     2.5 2006-02-08 00:21:03     train\n",
              "27753284  283225      151     2.5 2006-02-08 00:20:57     train\n",
              "27753285  283225      163     3.5 2006-02-08 00:21:20     train\n",
              "27753286  283225      172     2.0 2006-02-08 00:21:54     train\n",
              "27753287  283225      370     3.0 2006-02-08 00:20:21     train\n",
              "27753288  283225      784     3.0 2006-02-08 00:19:50     train\n",
              "27753289  283225     1234     4.0 2006-02-08 00:22:08     train\n",
              "27753290  283225     1252     4.0 2006-02-08 00:21:18     train\n",
              "27753291  283225     1288     3.0 2006-02-08 00:21:05     train\n",
              "27753292  283225     1380     2.5 2006-02-08 00:20:15     train\n",
              "27753293  283225     1500     4.0 2006-02-08 00:20:19     train\n",
              "27753294  283225     1639     2.5 2006-02-08 00:21:40     train\n",
              "27753295  283225     2302     3.0 2006-02-08 00:22:22     train\n",
              "27753296  283225     2353     2.5 2006-02-08 00:21:50     train\n",
              "27753297  283225     2406     3.0 2006-02-08 00:21:01     train\n",
              "27753298  283225     2599     4.0 2006-02-08 00:19:54     train\n",
              "27753299  283225     2692     4.0 2006-02-08 00:22:05     train\n",
              "27753300  283225     3623     2.5 2006-02-08 00:22:25     train\n",
              "27753301  283225     4034     3.5 2006-02-08 00:21:31     train\n",
              "27753302  283225     5445     3.0 2006-02-08 00:21:24     train"
            ]
          },
          "metadata": {
            "tags": []
          },
          "execution_count": 38
        }
      ]
    },
    {
      "cell_type": "code",
      "metadata": {
        "id": "412712m99enc",
        "colab_type": "code",
        "colab": {}
      },
      "source": [
        "def show_train_ratings(uid):\n",
        "  return train_ratings.query('userId == @uid')\\\n",
        "            .merge(movies, left_on=\"movieId\", right_index=True)[['title','rating']]\\\n",
        "            .reset_index(drop=True)"
      ],
      "execution_count": 0,
      "outputs": []
    },
    {
      "cell_type": "code",
      "metadata": {
        "id": "v8WmpBjk9-6X",
        "colab_type": "code",
        "outputId": "07a577ba-dfd7-403c-d37b-050c58aa27b4",
        "colab": {
          "base_uri": "https://localhost:8080/",
          "height": 669
        }
      },
      "source": [
        "uid = 283225\n",
        "show_train_ratings(uid)"
      ],
      "execution_count": 40,
      "outputs": [
        {
          "output_type": "execute_result",
          "data": {
            "text/html": [
              "<div>\n",
              "<style scoped>\n",
              "    .dataframe tbody tr th:only-of-type {\n",
              "        vertical-align: middle;\n",
              "    }\n",
              "\n",
              "    .dataframe tbody tr th {\n",
              "        vertical-align: top;\n",
              "    }\n",
              "\n",
              "    .dataframe thead th {\n",
              "        text-align: right;\n",
              "    }\n",
              "</style>\n",
              "<table border=\"1\" class=\"dataframe\">\n",
              "  <thead>\n",
              "    <tr style=\"text-align: right;\">\n",
              "      <th></th>\n",
              "      <th>title</th>\n",
              "      <th>rating</th>\n",
              "    </tr>\n",
              "  </thead>\n",
              "  <tbody>\n",
              "    <tr>\n",
              "      <th>0</th>\n",
              "      <td>Rumble in the Bronx (Hont faan kui) (1995)</td>\n",
              "      <td>2.5</td>\n",
              "    </tr>\n",
              "    <tr>\n",
              "      <th>1</th>\n",
              "      <td>Rob Roy (1995)</td>\n",
              "      <td>2.5</td>\n",
              "    </tr>\n",
              "    <tr>\n",
              "      <th>2</th>\n",
              "      <td>Desperado (1995)</td>\n",
              "      <td>3.5</td>\n",
              "    </tr>\n",
              "    <tr>\n",
              "      <th>3</th>\n",
              "      <td>Johnny Mnemonic (1995)</td>\n",
              "      <td>2.0</td>\n",
              "    </tr>\n",
              "    <tr>\n",
              "      <th>4</th>\n",
              "      <td>Naked Gun 33 1/3: The Final Insult (1994)</td>\n",
              "      <td>3.0</td>\n",
              "    </tr>\n",
              "    <tr>\n",
              "      <th>5</th>\n",
              "      <td>Cable Guy, The (1996)</td>\n",
              "      <td>3.0</td>\n",
              "    </tr>\n",
              "    <tr>\n",
              "      <th>6</th>\n",
              "      <td>Sting, The (1973)</td>\n",
              "      <td>4.0</td>\n",
              "    </tr>\n",
              "    <tr>\n",
              "      <th>7</th>\n",
              "      <td>Chinatown (1974)</td>\n",
              "      <td>4.0</td>\n",
              "    </tr>\n",
              "    <tr>\n",
              "      <th>8</th>\n",
              "      <td>This Is Spinal Tap (1984)</td>\n",
              "      <td>3.0</td>\n",
              "    </tr>\n",
              "    <tr>\n",
              "      <th>9</th>\n",
              "      <td>Grease (1978)</td>\n",
              "      <td>2.5</td>\n",
              "    </tr>\n",
              "    <tr>\n",
              "      <th>10</th>\n",
              "      <td>Grosse Pointe Blank (1997)</td>\n",
              "      <td>4.0</td>\n",
              "    </tr>\n",
              "    <tr>\n",
              "      <th>11</th>\n",
              "      <td>Chasing Amy (1997)</td>\n",
              "      <td>2.5</td>\n",
              "    </tr>\n",
              "    <tr>\n",
              "      <th>12</th>\n",
              "      <td>My Cousin Vinny (1992)</td>\n",
              "      <td>3.0</td>\n",
              "    </tr>\n",
              "    <tr>\n",
              "      <th>13</th>\n",
              "      <td>Enemy of the State (1998)</td>\n",
              "      <td>2.5</td>\n",
              "    </tr>\n",
              "    <tr>\n",
              "      <th>14</th>\n",
              "      <td>Romancing the Stone (1984)</td>\n",
              "      <td>3.0</td>\n",
              "    </tr>\n",
              "    <tr>\n",
              "      <th>15</th>\n",
              "      <td>Election (1999)</td>\n",
              "      <td>4.0</td>\n",
              "    </tr>\n",
              "    <tr>\n",
              "      <th>16</th>\n",
              "      <td>Run Lola Run (Lola rennt) (1998)</td>\n",
              "      <td>4.0</td>\n",
              "    </tr>\n",
              "    <tr>\n",
              "      <th>17</th>\n",
              "      <td>Mission: Impossible II (2000)</td>\n",
              "      <td>2.5</td>\n",
              "    </tr>\n",
              "    <tr>\n",
              "      <th>18</th>\n",
              "      <td>Traffic (2000)</td>\n",
              "      <td>3.5</td>\n",
              "    </tr>\n",
              "    <tr>\n",
              "      <th>19</th>\n",
              "      <td>Minority Report (2002)</td>\n",
              "      <td>3.0</td>\n",
              "    </tr>\n",
              "  </tbody>\n",
              "</table>\n",
              "</div>"
            ],
            "text/plain": [
              "                                         title  rating\n",
              "0   Rumble in the Bronx (Hont faan kui) (1995)     2.5\n",
              "1                               Rob Roy (1995)     2.5\n",
              "2                             Desperado (1995)     3.5\n",
              "3                       Johnny Mnemonic (1995)     2.0\n",
              "4    Naked Gun 33 1/3: The Final Insult (1994)     3.0\n",
              "5                        Cable Guy, The (1996)     3.0\n",
              "6                            Sting, The (1973)     4.0\n",
              "7                             Chinatown (1974)     4.0\n",
              "8                    This Is Spinal Tap (1984)     3.0\n",
              "9                                Grease (1978)     2.5\n",
              "10                  Grosse Pointe Blank (1997)     4.0\n",
              "11                          Chasing Amy (1997)     2.5\n",
              "12                      My Cousin Vinny (1992)     3.0\n",
              "13                   Enemy of the State (1998)     2.5\n",
              "14                  Romancing the Stone (1984)     3.0\n",
              "15                             Election (1999)     4.0\n",
              "16            Run Lola Run (Lola rennt) (1998)     4.0\n",
              "17               Mission: Impossible II (2000)     2.5\n",
              "18                              Traffic (2000)     3.5\n",
              "19                      Minority Report (2002)     3.0"
            ]
          },
          "metadata": {
            "tags": []
          },
          "execution_count": 40
        }
      ]
    },
    {
      "cell_type": "markdown",
      "metadata": {
        "id": "QQUjpRBslTY_",
        "colab_type": "text"
      },
      "source": [
        "### Calculate this User's Segment Affinity"
      ]
    },
    {
      "cell_type": "code",
      "metadata": {
        "id": "vq08udc7_53f",
        "colab_type": "code",
        "outputId": "617aad19-fd05-45fd-c8b2-7cc920ea5efb",
        "colab": {
          "base_uri": "https://localhost:8080/",
          "height": 51
        }
      },
      "source": [
        "#get this user's training row vector\n",
        "u_train = x_train.getrow(uid)\n",
        "u_train"
      ],
      "execution_count": 41,
      "outputs": [
        {
          "output_type": "execute_result",
          "data": {
            "text/plain": [
              "<1x193887 sparse matrix of type '<class 'numpy.float64'>'\n",
              "\twith 19 stored elements in Compressed Sparse Row format>"
            ]
          },
          "metadata": {
            "tags": []
          },
          "execution_count": 41
        }
      ]
    },
    {
      "cell_type": "code",
      "metadata": {
        "id": "JaJYF3NjAdSG",
        "colab_type": "code",
        "outputId": "8be78f6c-8571-4784-c255-2e0e24d7f770",
        "colab": {
          "base_uri": "https://localhost:8080/",
          "height": 34
        }
      },
      "source": [
        "lda.components_.shape"
      ],
      "execution_count": 42,
      "outputs": [
        {
          "output_type": "execute_result",
          "data": {
            "text/plain": [
              "(20, 193887)"
            ]
          },
          "metadata": {
            "tags": []
          },
          "execution_count": 42
        }
      ]
    },
    {
      "cell_type": "code",
      "metadata": {
        "id": "NcdadcaKDjFr",
        "colab_type": "code",
        "outputId": "8170f1e8-5a0e-4fba-f6c9-5eb1e8c40578",
        "colab": {
          "base_uri": "https://localhost:8080/",
          "height": 88
        }
      },
      "source": [
        "from time import time\n",
        "t0 = time()\n",
        "u_class = lda.fit_transform(u_train)\n",
        "print(\"done in %0.3fs.\" % (time() - t0))"
      ],
      "execution_count": 43,
      "outputs": [
        {
          "output_type": "stream",
          "text": [
            "done in 2.118s.\n"
          ],
          "name": "stdout"
        },
        {
          "output_type": "stream",
          "text": [
            "/usr/local/lib/python3.6/dist-packages/sklearn/decomposition/online_lda.py:780: RuntimeWarning: overflow encountered in exp\n",
            "  return np.exp(-1.0 * perword_bound)\n"
          ],
          "name": "stderr"
        }
      ]
    },
    {
      "cell_type": "code",
      "metadata": {
        "id": "3R4gfbGkEBH-",
        "colab_type": "code",
        "outputId": "f56ac2d8-c3b3-4ee7-fff2-b99a7e0af48d",
        "colab": {
          "base_uri": "https://localhost:8080/",
          "height": 102
        }
      },
      "source": [
        "u_class"
      ],
      "execution_count": 44,
      "outputs": [
        {
          "output_type": "execute_result",
          "data": {
            "text/plain": [
              "array([[8.26446287e-04, 8.26446287e-04, 8.26446287e-04, 8.26446287e-04,\n",
              "        9.84297521e-01, 8.26446287e-04, 8.26446287e-04, 8.26446287e-04,\n",
              "        8.26446287e-04, 8.26446287e-04, 8.26446287e-04, 8.26446287e-04,\n",
              "        8.26446287e-04, 8.26446287e-04, 8.26446287e-04, 8.26446287e-04,\n",
              "        8.26446287e-04, 8.26446287e-04, 8.26446287e-04, 8.26446287e-04]])"
            ]
          },
          "metadata": {
            "tags": []
          },
          "execution_count": 44
        }
      ]
    },
    {
      "cell_type": "markdown",
      "metadata": {
        "id": "EtODfokrlwK1",
        "colab_type": "text"
      },
      "source": [
        "u_class is the probability that this user belongs to each of the 20 segments"
      ]
    },
    {
      "cell_type": "code",
      "metadata": {
        "id": "ZQM7O_8YEng0",
        "colab_type": "code",
        "outputId": "2482352a-f85b-4e6a-e0f3-3b26f9e7b2aa",
        "colab": {
          "base_uri": "https://localhost:8080/",
          "height": 34
        }
      },
      "source": [
        "u_class.sum()"
      ],
      "execution_count": 45,
      "outputs": [
        {
          "output_type": "execute_result",
          "data": {
            "text/plain": [
              "1.0"
            ]
          },
          "metadata": {
            "tags": []
          },
          "execution_count": 45
        }
      ]
    },
    {
      "cell_type": "code",
      "metadata": {
        "id": "9H65AkD4mbIh",
        "colab_type": "code",
        "outputId": "7a780e41-57e8-4c66-dac4-159c5cd653b4",
        "colab": {
          "base_uri": "https://localhost:8080/",
          "height": 385
        }
      },
      "source": [
        "import altair as alt\n",
        "xx =pd.DataFrame( {'Probability': u_class[0], 'Segment':np.arange(n_components)})\n",
        "alt.Chart(xx).mark_bar().encode(\n",
        "  x='Segment',\n",
        "  y='Probability',\n",
        "\n",
        "  #color='UserCount'\n",
        ").properties(\n",
        "    title='Probability of Segment Membership')"
      ],
      "execution_count": 46,
      "outputs": [
        {
          "output_type": "execute_result",
          "data": {
            "text/plain": [
              "alt.Chart(...)"
            ],
            "text/html": [
              "<!DOCTYPE html>\n",
              "<html>\n",
              "<head>\n",
              "  <style>\n",
              "    .vega-actions a {\n",
              "        margin-right: 12px;\n",
              "        color: #757575;\n",
              "        font-weight: normal;\n",
              "        font-size: 13px;\n",
              "    }\n",
              "    .error {\n",
              "        color: red;\n",
              "    }\n",
              "  </style>\n",
              "  <script type=\"text/javascript\" src=\"https://cdn.jsdelivr.net/npm//vega@5\"></script>\n",
              "  <script type=\"text/javascript\" src=\"https://cdn.jsdelivr.net/npm//vega-lite@3.4.0\"></script>\n",
              "  <script type=\"text/javascript\" src=\"https://cdn.jsdelivr.net/npm//vega-embed@4\"></script>\n",
              "</head>\n",
              "<body>\n",
              "  <div id=\"altair-viz\"></div>\n",
              "  <script>\n",
              "    (function(vegaEmbed) {\n",
              "      var spec = {\"config\": {\"view\": {\"width\": 400, \"height\": 300}, \"mark\": {\"tooltip\": null}}, \"data\": {\"name\": \"data-68b4550e718ffdbd151c20d82bcb42c5\"}, \"mark\": \"bar\", \"encoding\": {\"x\": {\"type\": \"quantitative\", \"field\": \"Segment\"}, \"y\": {\"type\": \"quantitative\", \"field\": \"Probability\"}}, \"title\": \"Probability of Segment Membership\", \"$schema\": \"https://vega.github.io/schema/vega-lite/v3.4.0.json\", \"datasets\": {\"data-68b4550e718ffdbd151c20d82bcb42c5\": [{\"Probability\": 0.0008264462867262984, \"Segment\": 0}, {\"Probability\": 0.0008264462871761409, \"Segment\": 1}, {\"Probability\": 0.0008264462869360966, \"Segment\": 2}, {\"Probability\": 0.0008264462869167528, \"Segment\": 3}, {\"Probability\": 0.984297520549436, \"Segment\": 4}, {\"Probability\": 0.000826446287015658, \"Segment\": 5}, {\"Probability\": 0.0008264462866661358, \"Segment\": 6}, {\"Probability\": 0.000826446286844217, \"Segment\": 7}, {\"Probability\": 0.0008264462869100962, \"Segment\": 8}, {\"Probability\": 0.0008264462871283908, \"Segment\": 9}, {\"Probability\": 0.0008264462869450917, \"Segment\": 10}, {\"Probability\": 0.0008264462865573929, \"Segment\": 11}, {\"Probability\": 0.0008264462869011529, \"Segment\": 12}, {\"Probability\": 0.0008264462867241732, \"Segment\": 13}, {\"Probability\": 0.000826446287117252, \"Segment\": 14}, {\"Probability\": 0.0008264462866446884, \"Segment\": 15}, {\"Probability\": 0.0008264462866503976, \"Segment\": 16}, {\"Probability\": 0.0008264462871343915, \"Segment\": 17}, {\"Probability\": 0.000826446286530326, \"Segment\": 18}, {\"Probability\": 0.0008264462870394135, \"Segment\": 19}]}};\n",
              "      var embedOpt = {\"mode\": \"vega-lite\"};\n",
              "\n",
              "      function showError(el, error){\n",
              "          el.innerHTML = ('<div class=\"error\" style=\"color:red;\">'\n",
              "                          + '<p>JavaScript Error: ' + error.message + '</p>'\n",
              "                          + \"<p>This usually means there's a typo in your chart specification. \"\n",
              "                          + \"See the javascript console for the full traceback.</p>\"\n",
              "                          + '</div>');\n",
              "          throw error;\n",
              "      }\n",
              "      const el = document.getElementById('altair-viz');\n",
              "      vegaEmbed(\"#altair-viz\", spec, embedOpt)\n",
              "        .catch(error => showError(el, error));\n",
              "    })(vegaEmbed);\n",
              "\n",
              "  </script>\n",
              "</body>\n",
              "</html>"
            ]
          },
          "metadata": {
            "tags": []
          },
          "execution_count": 46
        }
      ]
    },
    {
      "cell_type": "code",
      "metadata": {
        "id": "6wZ87E6JKXYN",
        "colab_type": "code",
        "colab": {}
      },
      "source": [
        "def show_segment(mod, movie_names, segno, max_n=20):\n",
        "  movie_idx = np.flip(mod.components_[segno].argsort())\n",
        "  #return movie_idx\n",
        "  return [movie_names[i] for i in movie_idx[:max_n]]"
      ],
      "execution_count": 0,
      "outputs": []
    },
    {
      "cell_type": "code",
      "metadata": {
        "id": "0j_xPLFOkpFX",
        "colab_type": "code",
        "colab": {}
      },
      "source": [
        "#something in the foregoing code corrupts the LDA variable/model\n",
        "# need to chase this down sometime!\n",
        "# for now, just reload the model\n",
        "\n",
        "# read pickled lda model\n",
        "\n",
        "import pickle\n",
        "path = 'https://focods.s3.us-east-2.amazonaws.com/lda.pcl'\n",
        "\n",
        "lda = pickle.load( urlopen(path) ) "
      ],
      "execution_count": 0,
      "outputs": []
    },
    {
      "cell_type": "code",
      "metadata": {
        "id": "etXbg2zWNDvj",
        "colab_type": "code",
        "outputId": "65eedb90-14b9-42a9-95d3-cd9e9c37b035",
        "colab": {
          "base_uri": "https://localhost:8080/",
          "height": 357
        }
      },
      "source": [
        "show_segment(lda, movie_names,3)"
      ],
      "execution_count": 49,
      "outputs": [
        {
          "output_type": "execute_result",
          "data": {
            "text/plain": [
              "['Aliens (1986)',\n",
              " 'Alien (1979)',\n",
              " 'Terminator, The (1984)',\n",
              " 'Total Recall (1990)',\n",
              " 'Terminator 2: Judgment Day (1991)',\n",
              " 'Blade Runner (1982)',\n",
              " 'Star Trek II: The Wrath of Khan (1982)',\n",
              " 'Abyss, The (1989)',\n",
              " 'Star Wars: Episode V - The Empire Strikes Back (1980)',\n",
              " 'Army of Darkness (1993)',\n",
              " 'Star Wars: Episode VI - Return of the Jedi (1983)',\n",
              " 'RoboCop (1987)',\n",
              " 'Thing, The (1982)',\n",
              " 'Predator (1987)',\n",
              " 'Star Wars: Episode IV - A New Hope (1977)',\n",
              " 'Star Trek IV: The Voyage Home (1986)',\n",
              " 'Highlander (1986)',\n",
              " 'Fifth Element, The (1997)',\n",
              " 'Star Trek: First Contact (1996)',\n",
              " 'Road Warrior, The (Mad Max 2) (1981)']"
            ]
          },
          "metadata": {
            "tags": []
          },
          "execution_count": 49
        }
      ]
    },
    {
      "cell_type": "markdown",
      "metadata": {
        "id": "3W_2xbP7k_AK",
        "colab_type": "text"
      },
      "source": [
        "### Don't run this code - Compute segment membership for all training users\n",
        "because it takes better part of an hour! \n",
        " The code ran in 3573.096s."
      ]
    },
    {
      "cell_type": "code",
      "metadata": {
        "id": "kEDNnWPdeg7n",
        "colab_type": "code",
        "colab": {}
      },
      "source": [
        "#t0 = time()\n",
        "#user_segs = lda.fit_transform(x_train)\n",
        "#print(\"done in %0.3fs.\" % (time() - t0))\n",
        "\n"
      ],
      "execution_count": 0,
      "outputs": []
    },
    {
      "cell_type": "code",
      "metadata": {
        "id": "6sGsUhjOlyvi",
        "colab_type": "code",
        "colab": {}
      },
      "source": [
        "# save the user segment matrix as a pickle\n",
        "#import pickle\n",
        "#pcl = open('/content/drive/My Drive/user_segs.pcl','wb')\n",
        "#pickle.dump(user_segs, pcl)\n",
        "#pcl.close()"
      ],
      "execution_count": 0,
      "outputs": []
    },
    {
      "cell_type": "markdown",
      "metadata": {
        "id": "lNSwNnL9lj47",
        "colab_type": "text"
      },
      "source": [
        "### load pre-computed user segment matrix"
      ]
    },
    {
      "cell_type": "code",
      "metadata": {
        "id": "dtddUeGdlQfx",
        "colab_type": "code",
        "colab": {}
      },
      "source": [
        "# load pickled user_segs matrix\n",
        "path = 'https://focods.s3.us-east-2.amazonaws.com/user_segs.pcl'\n",
        "\n",
        "user_segs = pickle.load( urlopen(path) ) \n"
      ],
      "execution_count": 0,
      "outputs": []
    },
    {
      "cell_type": "code",
      "metadata": {
        "id": "BoQw7E_yzfXk",
        "colab_type": "code",
        "outputId": "e22d5aaf-bac3-4456-9534-905ed3bc6171",
        "colab": {
          "base_uri": "https://localhost:8080/",
          "height": 34
        }
      },
      "source": [
        "user_segs.shape"
      ],
      "execution_count": 52,
      "outputs": [
        {
          "output_type": "execute_result",
          "data": {
            "text/plain": [
              "(283229, 20)"
            ]
          },
          "metadata": {
            "tags": []
          },
          "execution_count": 52
        }
      ]
    },
    {
      "cell_type": "code",
      "metadata": {
        "id": "r-hHYSQ0sK61",
        "colab_type": "code",
        "colab": {}
      },
      "source": [
        "# find some users that don't have really extreme preferences\n",
        "user_segs_max = user_segs.max(axis=1)\n",
        "user_segs_min = user_segs.min(axis=1)\n",
        "user_segs_rng = user_segs_max - user_segs_min"
      ],
      "execution_count": 0,
      "outputs": []
    },
    {
      "cell_type": "code",
      "metadata": {
        "id": "ZWeW3Rt-s4rv",
        "colab_type": "code",
        "outputId": "5b2b42f1-d5b2-408f-f0a6-f678aaf9aaf7",
        "colab": {
          "base_uri": "https://localhost:8080/",
          "height": 34
        }
      },
      "source": [
        "np.where(user_segs_rng == user_segs_rng[user_segs_rng != 0].min())"
      ],
      "execution_count": 54,
      "outputs": [
        {
          "output_type": "execute_result",
          "data": {
            "text/plain": [
              "(array([187432]),)"
            ]
          },
          "metadata": {
            "tags": []
          },
          "execution_count": 54
        }
      ]
    },
    {
      "cell_type": "code",
      "metadata": {
        "id": "yXKCaJz3urGq",
        "colab_type": "code",
        "outputId": "c3a6bad2-c96c-40a6-89a2-cd419dc98225",
        "colab": {
          "base_uri": "https://localhost:8080/",
          "height": 34
        }
      },
      "source": [
        "np.where(user_segs_rng == user_segs_rng[user_segs_rng > 0.5].min())"
      ],
      "execution_count": 55,
      "outputs": [
        {
          "output_type": "execute_result",
          "data": {
            "text/plain": [
              "(array([276890]),)"
            ]
          },
          "metadata": {
            "tags": []
          },
          "execution_count": 55
        }
      ]
    },
    {
      "cell_type": "code",
      "metadata": {
        "id": "rCOofnYnuBFt",
        "colab_type": "code",
        "outputId": "2146569a-d194-4ed1-fa39-da8c0bd1dbea",
        "colab": {
          "base_uri": "https://localhost:8080/",
          "height": 1000
        }
      },
      "source": [
        "xx = pd.concat([\n",
        "  pd.DataFrame( {'userId':'187432','Probability': user_segs[187432], 'Segment':np.arange(n_components)}),\n",
        "  pd.DataFrame( {'userId':'283225','Probability': user_segs[283225], 'Segment':np.arange(n_components)}),\n",
        "  pd.DataFrame( {'userId':'276890','Probability': user_segs[276890], 'Segment':np.arange(n_components)})])  \n",
        "alt.Chart(xx).mark_bar().encode(\n",
        "  x='Probability',\n",
        "  y='userId',\n",
        "\n",
        "  color='userId',\n",
        "  row = 'Segment'\n",
        ").properties(\n",
        "    title='Probability of Segment Membership: Three Users')"
      ],
      "execution_count": 95,
      "outputs": [
        {
          "output_type": "execute_result",
          "data": {
            "text/plain": [
              "alt.Chart(...)"
            ],
            "text/html": [
              "<!DOCTYPE html>\n",
              "<html>\n",
              "<head>\n",
              "  <style>\n",
              "    .vega-actions a {\n",
              "        margin-right: 12px;\n",
              "        color: #757575;\n",
              "        font-weight: normal;\n",
              "        font-size: 13px;\n",
              "    }\n",
              "    .error {\n",
              "        color: red;\n",
              "    }\n",
              "  </style>\n",
              "  <script type=\"text/javascript\" src=\"https://cdn.jsdelivr.net/npm//vega@5\"></script>\n",
              "  <script type=\"text/javascript\" src=\"https://cdn.jsdelivr.net/npm//vega-lite@3.4.0\"></script>\n",
              "  <script type=\"text/javascript\" src=\"https://cdn.jsdelivr.net/npm//vega-embed@4\"></script>\n",
              "</head>\n",
              "<body>\n",
              "  <div id=\"altair-viz\"></div>\n",
              "  <script>\n",
              "    (function(vegaEmbed) {\n",
              "      var spec = {\"config\": {\"view\": {\"width\": 400, \"height\": 300}, \"mark\": {\"tooltip\": null}}, \"data\": {\"name\": \"data-513829e46a9b9949893f44ff11ba03a8\"}, \"mark\": \"bar\", \"encoding\": {\"color\": {\"type\": \"nominal\", \"field\": \"userId\"}, \"row\": {\"type\": \"quantitative\", \"field\": \"Segment\"}, \"x\": {\"type\": \"quantitative\", \"field\": \"Probability\"}, \"y\": {\"type\": \"nominal\", \"field\": \"userId\"}}, \"title\": \"Probability of Segment Membership: Three Users\", \"$schema\": \"https://vega.github.io/schema/vega-lite/v3.4.0.json\", \"datasets\": {\"data-513829e46a9b9949893f44ff11ba03a8\": [{\"userId\": \"187432\", \"Probability\": 0.07397609583300634, \"Segment\": 0}, {\"userId\": \"187432\", \"Probability\": 0.08201604238174123, \"Segment\": 1}, {\"userId\": \"187432\", \"Probability\": 0.07494978215726439, \"Segment\": 2}, {\"userId\": \"187432\", \"Probability\": 0.04631962090232576, \"Segment\": 3}, {\"userId\": \"187432\", \"Probability\": 0.002054194866118943, \"Segment\": 4}, {\"userId\": \"187432\", \"Probability\": 0.04882311805298077, \"Segment\": 5}, {\"userId\": \"187432\", \"Probability\": 0.060070909355301565, \"Segment\": 6}, {\"userId\": \"187432\", \"Probability\": 0.01894610657228783, \"Segment\": 7}, {\"userId\": \"187432\", \"Probability\": 0.029301721663421737, \"Segment\": 8}, {\"userId\": \"187432\", \"Probability\": 0.08088040073255753, \"Segment\": 9}, {\"userId\": \"187432\", \"Probability\": 0.11311835756702474, \"Segment\": 10}, {\"userId\": \"187432\", \"Probability\": 0.02933077263991599, \"Segment\": 11}, {\"userId\": \"187432\", \"Probability\": 0.09224828056342602, \"Segment\": 12}, {\"userId\": \"187432\", \"Probability\": 0.04855385438591889, \"Segment\": 13}, {\"userId\": \"187432\", \"Probability\": 0.0028374438080845817, \"Segment\": 14}, {\"userId\": \"187432\", \"Probability\": 0.06381283881572822, \"Segment\": 15}, {\"userId\": \"187432\", \"Probability\": 1.4285714603556274e-05, \"Segment\": 16}, {\"userId\": \"187432\", \"Probability\": 0.03601909463959969, \"Segment\": 17}, {\"userId\": \"187432\", \"Probability\": 0.07016481931111189, \"Segment\": 18}, {\"userId\": \"187432\", \"Probability\": 0.026562260037580145, \"Segment\": 19}, {\"userId\": \"283225\", \"Probability\": 0.0008264462837926532, \"Segment\": 0}, {\"userId\": \"283225\", \"Probability\": 0.0008264462811866417, \"Segment\": 1}, {\"userId\": \"283225\", \"Probability\": 0.000826446293513702, \"Segment\": 2}, {\"userId\": \"283225\", \"Probability\": 0.0008264462963899502, \"Segment\": 3}, {\"userId\": \"283225\", \"Probability\": 0.0008264463049442275, \"Segment\": 4}, {\"userId\": \"283225\", \"Probability\": 0.0008264462872485432, \"Segment\": 5}, {\"userId\": \"283225\", \"Probability\": 0.0008264462820019488, \"Segment\": 6}, {\"userId\": \"283225\", \"Probability\": 0.0008264462887242468, \"Segment\": 7}, {\"userId\": \"283225\", \"Probability\": 0.9842975205447713, \"Segment\": 8}, {\"userId\": \"283225\", \"Probability\": 0.0008264462849223903, \"Segment\": 9}, {\"userId\": \"283225\", \"Probability\": 0.0008264462809919594, \"Segment\": 10}, {\"userId\": \"283225\", \"Probability\": 0.0008264462816438781, \"Segment\": 11}, {\"userId\": \"283225\", \"Probability\": 0.0008264462841678151, \"Segment\": 12}, {\"userId\": \"283225\", \"Probability\": 0.0008264462809918723, \"Segment\": 13}, {\"userId\": \"283225\", \"Probability\": 0.0008264462980512592, \"Segment\": 14}, {\"userId\": \"283225\", \"Probability\": 0.0008264462815389056, \"Segment\": 15}, {\"userId\": \"283225\", \"Probability\": 0.0008264462839159459, \"Segment\": 16}, {\"userId\": \"283225\", \"Probability\": 0.0008264462849796125, \"Segment\": 17}, {\"userId\": \"283225\", \"Probability\": 0.0008264462933828004, \"Segment\": 18}, {\"userId\": \"283225\", \"Probability\": 0.0008264462828404755, \"Segment\": 19}, {\"userId\": \"276890\", \"Probability\": 0.0125000000001484, \"Segment\": 0}, {\"userId\": \"276890\", \"Probability\": 0.0125000000001484, \"Segment\": 1}, {\"userId\": \"276890\", \"Probability\": 0.0125000000001484, \"Segment\": 2}, {\"userId\": \"276890\", \"Probability\": 0.2624999999841354, \"Segment\": 3}, {\"userId\": \"276890\", \"Probability\": 0.0125000000001484, \"Segment\": 4}, {\"userId\": \"276890\", \"Probability\": 0.5125000000131935, \"Segment\": 5}, {\"userId\": \"276890\", \"Probability\": 0.0125000000001484, \"Segment\": 6}, {\"userId\": \"276890\", \"Probability\": 0.0125000000001484, \"Segment\": 7}, {\"userId\": \"276890\", \"Probability\": 0.0125000000001484, \"Segment\": 8}, {\"userId\": \"276890\", \"Probability\": 0.0125000000001484, \"Segment\": 9}, {\"userId\": \"276890\", \"Probability\": 0.0125000000001484, \"Segment\": 10}, {\"userId\": \"276890\", \"Probability\": 0.0125000000001484, \"Segment\": 11}, {\"userId\": \"276890\", \"Probability\": 0.0125000000001484, \"Segment\": 12}, {\"userId\": \"276890\", \"Probability\": 0.0125000000001484, \"Segment\": 13}, {\"userId\": \"276890\", \"Probability\": 0.0125000000001484, \"Segment\": 14}, {\"userId\": \"276890\", \"Probability\": 0.0125000000001484, \"Segment\": 15}, {\"userId\": \"276890\", \"Probability\": 0.0125000000001484, \"Segment\": 16}, {\"userId\": \"276890\", \"Probability\": 0.0125000000001484, \"Segment\": 17}, {\"userId\": \"276890\", \"Probability\": 0.0125000000001484, \"Segment\": 18}, {\"userId\": \"276890\", \"Probability\": 0.0125000000001484, \"Segment\": 19}]}};\n",
              "      var embedOpt = {\"mode\": \"vega-lite\"};\n",
              "\n",
              "      function showError(el, error){\n",
              "          el.innerHTML = ('<div class=\"error\" style=\"color:red;\">'\n",
              "                          + '<p>JavaScript Error: ' + error.message + '</p>'\n",
              "                          + \"<p>This usually means there's a typo in your chart specification. \"\n",
              "                          + \"See the javascript console for the full traceback.</p>\"\n",
              "                          + '</div>');\n",
              "          throw error;\n",
              "      }\n",
              "      const el = document.getElementById('altair-viz');\n",
              "      vegaEmbed(\"#altair-viz\", spec, embedOpt)\n",
              "        .catch(error => showError(el, error));\n",
              "    })(vegaEmbed);\n",
              "\n",
              "  </script>\n",
              "</body>\n",
              "</html>"
            ]
          },
          "metadata": {
            "tags": []
          },
          "execution_count": 95
        }
      ]
    },
    {
      "cell_type": "code",
      "metadata": {
        "id": "KT1zrddVCV4a",
        "colab_type": "code",
        "outputId": "8a8b495b-2aa8-4906-8405-4b1e83d08f08",
        "colab": {
          "base_uri": "https://localhost:8080/",
          "height": 34
        }
      },
      "source": [
        "x_train.shape"
      ],
      "execution_count": 57,
      "outputs": [
        {
          "output_type": "execute_result",
          "data": {
            "text/plain": [
              "(283229, 193887)"
            ]
          },
          "metadata": {
            "tags": []
          },
          "execution_count": 57
        }
      ]
    },
    {
      "cell_type": "markdown",
      "metadata": {
        "id": "3CCg-l8w88Ko",
        "colab_type": "text"
      },
      "source": [
        "## Average Rating: Movie by Segment"
      ]
    },
    {
      "cell_type": "code",
      "metadata": {
        "id": "mL4PSxqpAee3",
        "colab_type": "code",
        "colab": {}
      },
      "source": [
        "# make hard assignments of users to segments\n",
        "# assign the user to segment of highest probability of membership\n",
        "user_segs_max = user_segs.argmax(axis=1) # row-wise maximum\n",
        "\n",
        "# make one-hot encoded,\n",
        "#see https://stackoverflow.com/questions/29831489/convert-array-of-indices-to-1-hot-encoded-numpy-array\n",
        "user_segs_onehot = np.eye(n_components)[user_segs_max]"
      ],
      "execution_count": 0,
      "outputs": []
    },
    {
      "cell_type": "markdown",
      "metadata": {
        "id": "N59uebRyoohY",
        "colab_type": "text"
      },
      "source": [
        "### Some Validation"
      ]
    },
    {
      "cell_type": "code",
      "metadata": {
        "id": "DanBhFCeGIKL",
        "colab_type": "code",
        "outputId": "8d57319c-3d64-43be-c0e3-aebb58f7f49a",
        "colab": {
          "base_uri": "https://localhost:8080/",
          "height": 34
        }
      },
      "source": [
        "user_segs_max[:10]"
      ],
      "execution_count": 59,
      "outputs": [
        {
          "output_type": "execute_result",
          "data": {
            "text/plain": [
              "array([ 0, 17, 10, 16,  0,  0,  4, 17,  0,  0])"
            ]
          },
          "metadata": {
            "tags": []
          },
          "execution_count": 59
        }
      ]
    },
    {
      "cell_type": "markdown",
      "metadata": {
        "id": "WgzHthXxo7vj",
        "colab_type": "text"
      },
      "source": [
        "Users 2 and 3 belong to segment 15 so we should see a 1 at column index 15 in the one hot matrix for rows 2 and 3"
      ]
    },
    {
      "cell_type": "code",
      "metadata": {
        "id": "jOG1iEoFFvIu",
        "colab_type": "code",
        "outputId": "c5ebbbc6-54fa-46df-8e1a-1dbcb13b0e92",
        "colab": {
          "base_uri": "https://localhost:8080/",
          "height": 357
        }
      },
      "source": [
        "user_segs_onehot[:10]"
      ],
      "execution_count": 60,
      "outputs": [
        {
          "output_type": "execute_result",
          "data": {
            "text/plain": [
              "array([[1., 0., 0., 0., 0., 0., 0., 0., 0., 0., 0., 0., 0., 0., 0., 0.,\n",
              "        0., 0., 0., 0.],\n",
              "       [0., 0., 0., 0., 0., 0., 0., 0., 0., 0., 0., 0., 0., 0., 0., 0.,\n",
              "        0., 1., 0., 0.],\n",
              "       [0., 0., 0., 0., 0., 0., 0., 0., 0., 0., 1., 0., 0., 0., 0., 0.,\n",
              "        0., 0., 0., 0.],\n",
              "       [0., 0., 0., 0., 0., 0., 0., 0., 0., 0., 0., 0., 0., 0., 0., 0.,\n",
              "        1., 0., 0., 0.],\n",
              "       [1., 0., 0., 0., 0., 0., 0., 0., 0., 0., 0., 0., 0., 0., 0., 0.,\n",
              "        0., 0., 0., 0.],\n",
              "       [1., 0., 0., 0., 0., 0., 0., 0., 0., 0., 0., 0., 0., 0., 0., 0.,\n",
              "        0., 0., 0., 0.],\n",
              "       [0., 0., 0., 0., 1., 0., 0., 0., 0., 0., 0., 0., 0., 0., 0., 0.,\n",
              "        0., 0., 0., 0.],\n",
              "       [0., 0., 0., 0., 0., 0., 0., 0., 0., 0., 0., 0., 0., 0., 0., 0.,\n",
              "        0., 1., 0., 0.],\n",
              "       [1., 0., 0., 0., 0., 0., 0., 0., 0., 0., 0., 0., 0., 0., 0., 0.,\n",
              "        0., 0., 0., 0.],\n",
              "       [1., 0., 0., 0., 0., 0., 0., 0., 0., 0., 0., 0., 0., 0., 0., 0.,\n",
              "        0., 0., 0., 0.]])"
            ]
          },
          "metadata": {
            "tags": []
          },
          "execution_count": 60
        }
      ]
    },
    {
      "cell_type": "markdown",
      "metadata": {
        "id": "-27RkGv1pYGG",
        "colab_type": "text"
      },
      "source": [
        "...which they do. Yay!"
      ]
    },
    {
      "cell_type": "code",
      "metadata": {
        "id": "z39vWlnQubtT",
        "colab_type": "code",
        "outputId": "75f1efb2-7264-4a24-87b7-f1d0a1419943",
        "colab": {
          "base_uri": "https://localhost:8080/",
          "height": 385
        }
      },
      "source": [
        "\n",
        "\n",
        "# plot the dataset, referencing dataframe column names\n",
        "import altair as alt\n",
        "xx =pd.DataFrame( pd.Series(user_segs_max).value_counts(),columns=['UserCount'])\\\n",
        "      .reset_index()\\\n",
        "      .rename({'index':'Segment'},axis=1)\n",
        "\n",
        "alt.Chart(xx).mark_bar().encode(\n",
        "  x='Segment',\n",
        "  y='UserCount',\n",
        "\n",
        "  #color='UserCount'\n",
        ").properties(\n",
        "    title='UserCount by Segment')"
      ],
      "execution_count": 61,
      "outputs": [
        {
          "output_type": "execute_result",
          "data": {
            "text/plain": [
              "alt.Chart(...)"
            ],
            "text/html": [
              "<!DOCTYPE html>\n",
              "<html>\n",
              "<head>\n",
              "  <style>\n",
              "    .vega-actions a {\n",
              "        margin-right: 12px;\n",
              "        color: #757575;\n",
              "        font-weight: normal;\n",
              "        font-size: 13px;\n",
              "    }\n",
              "    .error {\n",
              "        color: red;\n",
              "    }\n",
              "  </style>\n",
              "  <script type=\"text/javascript\" src=\"https://cdn.jsdelivr.net/npm//vega@5\"></script>\n",
              "  <script type=\"text/javascript\" src=\"https://cdn.jsdelivr.net/npm//vega-lite@3.4.0\"></script>\n",
              "  <script type=\"text/javascript\" src=\"https://cdn.jsdelivr.net/npm//vega-embed@4\"></script>\n",
              "</head>\n",
              "<body>\n",
              "  <div id=\"altair-viz\"></div>\n",
              "  <script>\n",
              "    (function(vegaEmbed) {\n",
              "      var spec = {\"config\": {\"view\": {\"width\": 400, \"height\": 300}, \"mark\": {\"tooltip\": null}}, \"data\": {\"name\": \"data-8c7c55ab04a4a7b76308e08e0b11967f\"}, \"mark\": \"bar\", \"encoding\": {\"x\": {\"type\": \"quantitative\", \"field\": \"Segment\"}, \"y\": {\"type\": \"quantitative\", \"field\": \"UserCount\"}}, \"title\": \"UserCount by Segment\", \"$schema\": \"https://vega.github.io/schema/vega-lite/v3.4.0.json\", \"datasets\": {\"data-8c7c55ab04a4a7b76308e08e0b11967f\": [{\"Segment\": 0, \"UserCount\": 89505}, {\"Segment\": 4, \"UserCount\": 23680}, {\"Segment\": 16, \"UserCount\": 18935}, {\"Segment\": 8, \"UserCount\": 18495}, {\"Segment\": 19, \"UserCount\": 17385}, {\"Segment\": 2, \"UserCount\": 13735}, {\"Segment\": 17, \"UserCount\": 12747}, {\"Segment\": 18, \"UserCount\": 12118}, {\"Segment\": 10, \"UserCount\": 11626}, {\"Segment\": 7, \"UserCount\": 11565}, {\"Segment\": 14, \"UserCount\": 10273}, {\"Segment\": 3, \"UserCount\": 9576}, {\"Segment\": 9, \"UserCount\": 9244}, {\"Segment\": 5, \"UserCount\": 8162}, {\"Segment\": 15, \"UserCount\": 5314}, {\"Segment\": 12, \"UserCount\": 4150}, {\"Segment\": 11, \"UserCount\": 3624}, {\"Segment\": 1, \"UserCount\": 2291}, {\"Segment\": 6, \"UserCount\": 677}, {\"Segment\": 13, \"UserCount\": 127}]}};\n",
              "      var embedOpt = {\"mode\": \"vega-lite\"};\n",
              "\n",
              "      function showError(el, error){\n",
              "          el.innerHTML = ('<div class=\"error\" style=\"color:red;\">'\n",
              "                          + '<p>JavaScript Error: ' + error.message + '</p>'\n",
              "                          + \"<p>This usually means there's a typo in your chart specification. \"\n",
              "                          + \"See the javascript console for the full traceback.</p>\"\n",
              "                          + '</div>');\n",
              "          throw error;\n",
              "      }\n",
              "      const el = document.getElementById('altair-viz');\n",
              "      vegaEmbed(\"#altair-viz\", spec, embedOpt)\n",
              "        .catch(error => showError(el, error));\n",
              "    })(vegaEmbed);\n",
              "\n",
              "  </script>\n",
              "</body>\n",
              "</html>"
            ]
          },
          "metadata": {
            "tags": []
          },
          "execution_count": 61
        }
      ]
    },
    {
      "cell_type": "markdown",
      "metadata": {
        "id": "QdZWWAaspgkn",
        "colab_type": "text"
      },
      "source": [
        "### Calculate Total and Ratings Count by Segment"
      ]
    },
    {
      "cell_type": "code",
      "metadata": {
        "id": "gbI2IBXp9EAV",
        "colab_type": "code",
        "colab": {}
      },
      "source": [
        "# Total Rating by (movie by segment)\n",
        "# x_train = (user x movie) of ratings\n",
        "# user_segs_onehot = (user x seg)\n",
        "\n",
        "total_rating = x_train.transpose().dot(user_segs_onehot)"
      ],
      "execution_count": 0,
      "outputs": []
    },
    {
      "cell_type": "code",
      "metadata": {
        "id": "uExaObeXtOtX",
        "colab_type": "code",
        "outputId": "75cb13b2-b109-4f59-f4fc-20539349910b",
        "colab": {
          "base_uri": "https://localhost:8080/",
          "height": 34
        }
      },
      "source": [
        "user_segs_onehot.shape"
      ],
      "execution_count": 63,
      "outputs": [
        {
          "output_type": "execute_result",
          "data": {
            "text/plain": [
              "(283229, 20)"
            ]
          },
          "metadata": {
            "tags": []
          },
          "execution_count": 63
        }
      ]
    },
    {
      "cell_type": "code",
      "metadata": {
        "id": "NfshUSd5tV1q",
        "colab_type": "code",
        "outputId": "c979393b-8553-4874-b6b6-5d5d2757c5ae",
        "colab": {
          "base_uri": "https://localhost:8080/",
          "height": 34
        }
      },
      "source": [
        "x_train.shape"
      ],
      "execution_count": 64,
      "outputs": [
        {
          "output_type": "execute_result",
          "data": {
            "text/plain": [
              "(283229, 193887)"
            ]
          },
          "metadata": {
            "tags": []
          },
          "execution_count": 64
        }
      ]
    },
    {
      "cell_type": "code",
      "metadata": {
        "id": "Wzyn5mLOtmEY",
        "colab_type": "code",
        "outputId": "77d54c9f-a456-429b-b313-e3375e5e688c",
        "colab": {
          "base_uri": "https://localhost:8080/",
          "height": 34
        }
      },
      "source": [
        "user_segs.shape"
      ],
      "execution_count": 65,
      "outputs": [
        {
          "output_type": "execute_result",
          "data": {
            "text/plain": [
              "(283229, 20)"
            ]
          },
          "metadata": {
            "tags": []
          },
          "execution_count": 65
        }
      ]
    },
    {
      "cell_type": "code",
      "metadata": {
        "id": "2J0lYmayHYX7",
        "colab_type": "code",
        "outputId": "179e713b-2a2a-478e-905d-4a238d85c2db",
        "colab": {
          "base_uri": "https://localhost:8080/",
          "height": 34
        }
      },
      "source": [
        "total_rating.shape # should be movies by segments"
      ],
      "execution_count": 66,
      "outputs": [
        {
          "output_type": "execute_result",
          "data": {
            "text/plain": [
              "(193887, 20)"
            ]
          },
          "metadata": {
            "tags": []
          },
          "execution_count": 66
        }
      ]
    },
    {
      "cell_type": "code",
      "metadata": {
        "id": "8PUBumd79NB_",
        "colab_type": "code",
        "outputId": "403f2a03-1ae9-4192-8e29-70a18d1c62a0",
        "colab": {
          "base_uri": "https://localhost:8080/",
          "height": 34
        }
      },
      "source": [
        "# count of ratings (movies by segment)\n",
        "# use csr.sign to get matrix of 1's\n",
        "x_train_is_rated = x_train.sign()\n",
        "\n",
        "rating_counts = x_train_is_rated.transpose().dot(user_segs_onehot)\n",
        "rating_counts.shape\n"
      ],
      "execution_count": 67,
      "outputs": [
        {
          "output_type": "execute_result",
          "data": {
            "text/plain": [
              "(193887, 20)"
            ]
          },
          "metadata": {
            "tags": []
          },
          "execution_count": 67
        }
      ]
    },
    {
      "cell_type": "markdown",
      "metadata": {
        "id": "6oPdiGDXrchk",
        "colab_type": "text"
      },
      "source": [
        "Note, we get a dense matrix out of the above multiply operation."
      ]
    },
    {
      "cell_type": "code",
      "metadata": {
        "id": "ow_DuzAkqXda",
        "colab_type": "code",
        "outputId": "b89faaed-2654-41ac-80b1-832bd1a5194e",
        "colab": {
          "base_uri": "https://localhost:8080/",
          "height": 34
        }
      },
      "source": [
        "type(rating_counts)"
      ],
      "execution_count": 68,
      "outputs": [
        {
          "output_type": "execute_result",
          "data": {
            "text/plain": [
              "numpy.ndarray"
            ]
          },
          "metadata": {
            "tags": []
          },
          "execution_count": 68
        }
      ]
    },
    {
      "cell_type": "code",
      "metadata": {
        "id": "b05UHq1zpAig",
        "colab_type": "code",
        "outputId": "68bea4a9-2b7f-42e4-f876-22c309b5c971",
        "colab": {
          "base_uri": "https://localhost:8080/",
          "height": 34
        }
      },
      "source": [
        "rating_counts.sum(axis=1).shape"
      ],
      "execution_count": 69,
      "outputs": [
        {
          "output_type": "execute_result",
          "data": {
            "text/plain": [
              "(193887,)"
            ]
          },
          "metadata": {
            "tags": []
          },
          "execution_count": 69
        }
      ]
    },
    {
      "cell_type": "markdown",
      "metadata": {
        "id": "DKHh3WcersQD",
        "colab_type": "text"
      },
      "source": [
        "### Validate the Ratings Counts"
      ]
    },
    {
      "cell_type": "code",
      "metadata": {
        "id": "jpBPMNhbnsXk",
        "colab_type": "code",
        "outputId": "45030004-ed1a-47e6-bdde-6b87ce4fc0e9",
        "colab": {
          "base_uri": "https://localhost:8080/",
          "height": 51
        }
      },
      "source": [
        "# number of times each movie was rated\n",
        "rating_counts.sum(axis=1)[:10] #row-wise sum, i.e. by movie"
      ],
      "execution_count": 70,
      "outputs": [
        {
          "output_type": "execute_result",
          "data": {
            "text/plain": [
              "array([    0., 46834., 18665., 10403.,  2034., 10627., 19774., 10472.,\n",
              "        1025.,  3009.])"
            ]
          },
          "metadata": {
            "tags": []
          },
          "execution_count": 70
        }
      ]
    },
    {
      "cell_type": "code",
      "metadata": {
        "id": "AOmjgMS7oEtw",
        "colab_type": "code",
        "outputId": "70b5482b-e00f-4f5e-af02-23cce33da52b",
        "colab": {
          "base_uri": "https://localhost:8080/",
          "height": 51
        }
      },
      "source": [
        "x_train_is_rated"
      ],
      "execution_count": 71,
      "outputs": [
        {
          "output_type": "execute_result",
          "data": {
            "text/plain": [
              "<283229x193887 sparse matrix of type '<class 'numpy.float64'>'\n",
              "\twith 19243991 stored elements in Compressed Sparse Row format>"
            ]
          },
          "metadata": {
            "tags": []
          },
          "execution_count": 71
        }
      ]
    },
    {
      "cell_type": "code",
      "metadata": {
        "id": "_FtGchaypp_2",
        "colab_type": "code",
        "outputId": "59026d8b-b05d-42c3-da33-805fe6bd8ae8",
        "colab": {
          "base_uri": "https://localhost:8080/",
          "height": 51
        }
      },
      "source": [
        "x_train"
      ],
      "execution_count": 72,
      "outputs": [
        {
          "output_type": "execute_result",
          "data": {
            "text/plain": [
              "<283229x193887 sparse matrix of type '<class 'numpy.float64'>'\n",
              "\twith 19243991 stored elements in Compressed Sparse Row format>"
            ]
          },
          "metadata": {
            "tags": []
          },
          "execution_count": 72
        }
      ]
    },
    {
      "cell_type": "code",
      "metadata": {
        "id": "f6zTa8bOq2LJ",
        "colab_type": "code",
        "outputId": "283f7da9-d362-4e43-e289-6044772c0f36",
        "colab": {
          "base_uri": "https://localhost:8080/",
          "height": 34
        }
      },
      "source": [
        "# sum of the ratings counts should match the number of non-zero\n",
        "# elements in the x_train (users x movies) ratings matrix\n",
        "rating_counts.sum(), x_train.nnz"
      ],
      "execution_count": 73,
      "outputs": [
        {
          "output_type": "execute_result",
          "data": {
            "text/plain": [
              "(19243991.0, 19243991)"
            ]
          },
          "metadata": {
            "tags": []
          },
          "execution_count": 73
        }
      ]
    },
    {
      "cell_type": "code",
      "metadata": {
        "id": "3UxZhQWUnIoJ",
        "colab_type": "code",
        "outputId": "98675f2f-1e29-477d-b28c-399b35e0c3d6",
        "colab": {
          "base_uri": "https://localhost:8080/",
          "height": 34
        }
      },
      "source": [
        "# not all movies were rated in each segment\n",
        "# hence ratings counts will have a lot of zeros in it\n",
        "(rating_counts == 0.0).sum()"
      ],
      "execution_count": 74,
      "outputs": [
        {
          "output_type": "execute_result",
          "data": {
            "text/plain": [
              "3571512"
            ]
          },
          "metadata": {
            "tags": []
          },
          "execution_count": 74
        }
      ]
    },
    {
      "cell_type": "markdown",
      "metadata": {
        "id": "BFYRLfhgrDS1",
        "colab_type": "text"
      },
      "source": [
        "### Compute the average rating by segment\n",
        "\n",
        "...and ignore the divide by zero errors"
      ]
    },
    {
      "cell_type": "code",
      "metadata": {
        "id": "HrBHMP5b9cUd",
        "colab_type": "code",
        "outputId": "1970c12c-536a-4dfe-dee9-7c6cf0941d1c",
        "colab": {
          "base_uri": "https://localhost:8080/",
          "height": 88
        }
      },
      "source": [
        "# average = total divided by count\n",
        "avg_rating = total_rating/ rating_counts\n",
        "\n",
        "avg_rating.shape"
      ],
      "execution_count": 75,
      "outputs": [
        {
          "output_type": "stream",
          "text": [
            "/usr/local/lib/python3.6/dist-packages/ipykernel_launcher.py:1: RuntimeWarning: invalid value encountered in true_divide\n",
            "  \"\"\"Entry point for launching an IPython kernel.\n"
          ],
          "name": "stderr"
        },
        {
          "output_type": "execute_result",
          "data": {
            "text/plain": [
              "(193887, 20)"
            ]
          },
          "metadata": {
            "tags": []
          },
          "execution_count": 75
        }
      ]
    },
    {
      "cell_type": "markdown",
      "metadata": {
        "id": "ZnRR8UrwsGcJ",
        "colab_type": "text"
      },
      "source": [
        "### View Average Ratings by Segment"
      ]
    },
    {
      "cell_type": "code",
      "metadata": {
        "id": "NRX82gQXKtUi",
        "colab_type": "code",
        "colab": {}
      },
      "source": [
        "def show_rating(movieId):\n",
        "\n",
        "  df = pd.DataFrame({'Segment':np.arange(n_components),\n",
        "                     'Rating':avg_rating[movieId]})\n",
        "  chart = alt.Chart(df).mark_bar().encode(\n",
        "    x='Segment',\n",
        "    y=alt.Y('Rating', axis=alt.Axis( title='Average Rating'))\n",
        "\n",
        "    #color='UserCount'\n",
        "  ).properties(\n",
        "      title=movie_names[movieId]\n",
        "  )\n",
        "\n",
        "  chart.display()\n"
      ],
      "execution_count": 0,
      "outputs": []
    },
    {
      "cell_type": "code",
      "metadata": {
        "id": "vQVdKely1uwK",
        "colab_type": "code",
        "outputId": "fa2bbe7a-652d-411d-e42f-d3cc6583a87f",
        "colab": {
          "base_uri": "https://localhost:8080/",
          "height": 385
        }
      },
      "source": [
        "# Movie #1 is Toy Story\n",
        "show_rating(1)"
      ],
      "execution_count": 77,
      "outputs": [
        {
          "output_type": "display_data",
          "data": {
            "text/plain": [
              "alt.Chart(...)"
            ],
            "text/html": [
              "<!DOCTYPE html>\n",
              "<html>\n",
              "<head>\n",
              "  <style>\n",
              "    .vega-actions a {\n",
              "        margin-right: 12px;\n",
              "        color: #757575;\n",
              "        font-weight: normal;\n",
              "        font-size: 13px;\n",
              "    }\n",
              "    .error {\n",
              "        color: red;\n",
              "    }\n",
              "  </style>\n",
              "  <script type=\"text/javascript\" src=\"https://cdn.jsdelivr.net/npm//vega@5\"></script>\n",
              "  <script type=\"text/javascript\" src=\"https://cdn.jsdelivr.net/npm//vega-lite@3.4.0\"></script>\n",
              "  <script type=\"text/javascript\" src=\"https://cdn.jsdelivr.net/npm//vega-embed@4\"></script>\n",
              "</head>\n",
              "<body>\n",
              "  <div id=\"altair-viz\"></div>\n",
              "  <script>\n",
              "    (function(vegaEmbed) {\n",
              "      var spec = {\"config\": {\"view\": {\"width\": 400, \"height\": 300}, \"mark\": {\"tooltip\": null}}, \"data\": {\"name\": \"data-76516d50b718994541d942067edd37ff\"}, \"mark\": \"bar\", \"encoding\": {\"x\": {\"type\": \"quantitative\", \"field\": \"Segment\"}, \"y\": {\"type\": \"quantitative\", \"axis\": {\"title\": \"Average Rating\"}, \"field\": \"Rating\"}}, \"title\": \"Toy Story (1995)\", \"$schema\": \"https://vega.github.io/schema/vega-lite/v3.4.0.json\", \"datasets\": {\"data-76516d50b718994541d942067edd37ff\": [{\"Segment\": 0, \"Rating\": 3.7086206896551723}, {\"Segment\": 1, \"Rating\": 3.702830188679245}, {\"Segment\": 2, \"Rating\": 3.766566037735849}, {\"Segment\": 3, \"Rating\": 3.9178768152228343}, {\"Segment\": 4, \"Rating\": 4.089741202755539}, {\"Segment\": 5, \"Rating\": 3.8325991189427313}, {\"Segment\": 6, \"Rating\": 3.6785714285714284}, {\"Segment\": 7, \"Rating\": 4.045414069456812}, {\"Segment\": 8, \"Rating\": 4.001450892857143}, {\"Segment\": 9, \"Rating\": 3.6035921625544267}, {\"Segment\": 10, \"Rating\": 4.1706586826347305}, {\"Segment\": 11, \"Rating\": 3.6739618406285075}, {\"Segment\": 12, \"Rating\": 3.925909090909091}, {\"Segment\": 13, \"Rating\": 3.0}, {\"Segment\": 14, \"Rating\": 3.922078968573731}, {\"Segment\": 15, \"Rating\": 3.8273891175125745}, {\"Segment\": 16, \"Rating\": 3.684002869440459}, {\"Segment\": 17, \"Rating\": 3.786544850498339}, {\"Segment\": 18, \"Rating\": 3.9806105610561056}, {\"Segment\": 19, \"Rating\": 3.9118311131180854}]}};\n",
              "      var embedOpt = {\"mode\": \"vega-lite\"};\n",
              "\n",
              "      function showError(el, error){\n",
              "          el.innerHTML = ('<div class=\"error\" style=\"color:red;\">'\n",
              "                          + '<p>JavaScript Error: ' + error.message + '</p>'\n",
              "                          + \"<p>This usually means there's a typo in your chart specification. \"\n",
              "                          + \"See the javascript console for the full traceback.</p>\"\n",
              "                          + '</div>');\n",
              "          throw error;\n",
              "      }\n",
              "      const el = document.getElementById('altair-viz');\n",
              "      vegaEmbed(\"#altair-viz\", spec, embedOpt)\n",
              "        .catch(error => showError(el, error));\n",
              "    })(vegaEmbed);\n",
              "\n",
              "  </script>\n",
              "</body>\n",
              "</html>"
            ]
          },
          "metadata": {
            "tags": []
          }
        }
      ]
    },
    {
      "cell_type": "code",
      "metadata": {
        "id": "mfCv8Y9HLYeb",
        "colab_type": "code",
        "outputId": "fb538f32-d220-4e31-873d-c8ad8d7fbb07",
        "colab": {
          "base_uri": "https://localhost:8080/",
          "height": 68
        }
      },
      "source": [
        "find_movies('.*repo man.*')"
      ],
      "execution_count": 78,
      "outputs": [
        {
          "output_type": "execute_result",
          "data": {
            "text/plain": [
              "movieId\n",
              "1965    Repo Man (1984)\n",
              "Name: title, dtype: object"
            ]
          },
          "metadata": {
            "tags": []
          },
          "execution_count": 78
        }
      ]
    },
    {
      "cell_type": "code",
      "metadata": {
        "id": "Cj-9VVru3QXS",
        "colab_type": "code",
        "outputId": "f6ec1e0f-98a0-4776-e6fd-a4326d91a3c8",
        "colab": {
          "base_uri": "https://localhost:8080/",
          "height": 385
        }
      },
      "source": [
        "show_rating(1965)"
      ],
      "execution_count": 79,
      "outputs": [
        {
          "output_type": "display_data",
          "data": {
            "text/plain": [
              "alt.Chart(...)"
            ],
            "text/html": [
              "<!DOCTYPE html>\n",
              "<html>\n",
              "<head>\n",
              "  <style>\n",
              "    .vega-actions a {\n",
              "        margin-right: 12px;\n",
              "        color: #757575;\n",
              "        font-weight: normal;\n",
              "        font-size: 13px;\n",
              "    }\n",
              "    .error {\n",
              "        color: red;\n",
              "    }\n",
              "  </style>\n",
              "  <script type=\"text/javascript\" src=\"https://cdn.jsdelivr.net/npm//vega@5\"></script>\n",
              "  <script type=\"text/javascript\" src=\"https://cdn.jsdelivr.net/npm//vega-lite@3.4.0\"></script>\n",
              "  <script type=\"text/javascript\" src=\"https://cdn.jsdelivr.net/npm//vega-embed@4\"></script>\n",
              "</head>\n",
              "<body>\n",
              "  <div id=\"altair-viz\"></div>\n",
              "  <script>\n",
              "    (function(vegaEmbed) {\n",
              "      var spec = {\"config\": {\"view\": {\"width\": 400, \"height\": 300}, \"mark\": {\"tooltip\": null}}, \"data\": {\"name\": \"data-6f3efa4b83b944d29d5cf22f5dc7b2ca\"}, \"mark\": \"bar\", \"encoding\": {\"x\": {\"type\": \"quantitative\", \"field\": \"Segment\"}, \"y\": {\"type\": \"quantitative\", \"axis\": {\"title\": \"Average Rating\"}, \"field\": \"Rating\"}}, \"title\": \"Repo Man (1984)\", \"$schema\": \"https://vega.github.io/schema/vega-lite/v3.4.0.json\", \"datasets\": {\"data-6f3efa4b83b944d29d5cf22f5dc7b2ca\": [{\"Segment\": 0, \"Rating\": 3.68}, {\"Segment\": 1, \"Rating\": 3.4545454545454546}, {\"Segment\": 2, \"Rating\": 3.4146341463414633}, {\"Segment\": 3, \"Rating\": 3.6305329719963866}, {\"Segment\": 4, \"Rating\": 3.5}, {\"Segment\": 5, \"Rating\": 3.8050632911392404}, {\"Segment\": 6, \"Rating\": 2.8}, {\"Segment\": 7, \"Rating\": 3.0287610619469025}, {\"Segment\": 8, \"Rating\": 3.472972972972973}, {\"Segment\": 9, \"Rating\": 3.5606508875739644}, {\"Segment\": 10, \"Rating\": 3.1965811965811968}, {\"Segment\": 11, \"Rating\": 2.8636363636363638}, {\"Segment\": 12, \"Rating\": 3.514}, {\"Segment\": 13, \"Rating\": 3.7142857142857144}, {\"Segment\": 14, \"Rating\": 2.5}, {\"Segment\": 15, \"Rating\": 2.971830985915493}, {\"Segment\": 16, \"Rating\": 3.567901234567901}, {\"Segment\": 17, \"Rating\": 3.0943877551020407}, {\"Segment\": 18, \"Rating\": 3.7436289500509683}, {\"Segment\": 19, \"Rating\": 3.5638297872340425}]}};\n",
              "      var embedOpt = {\"mode\": \"vega-lite\"};\n",
              "\n",
              "      function showError(el, error){\n",
              "          el.innerHTML = ('<div class=\"error\" style=\"color:red;\">'\n",
              "                          + '<p>JavaScript Error: ' + error.message + '</p>'\n",
              "                          + \"<p>This usually means there's a typo in your chart specification. \"\n",
              "                          + \"See the javascript console for the full traceback.</p>\"\n",
              "                          + '</div>');\n",
              "          throw error;\n",
              "      }\n",
              "      const el = document.getElementById('altair-viz');\n",
              "      vegaEmbed(\"#altair-viz\", spec, embedOpt)\n",
              "        .catch(error => showError(el, error));\n",
              "    })(vegaEmbed);\n",
              "\n",
              "  </script>\n",
              "</body>\n",
              "</html>"
            ]
          },
          "metadata": {
            "tags": []
          }
        }
      ]
    },
    {
      "cell_type": "code",
      "metadata": {
        "id": "Q_1jAbax4cbi",
        "colab_type": "code",
        "outputId": "bf449339-f003-432b-abd9-0bb93a1acc42",
        "colab": {
          "base_uri": "https://localhost:8080/",
          "height": 357
        }
      },
      "source": [
        "show_segment(lda, movie_names,13)"
      ],
      "execution_count": 80,
      "outputs": [
        {
          "output_type": "execute_result",
          "data": {
            "text/plain": [
              "['Iron Lady, The (2011)',\n",
              " 'Visitors, The (Visiteurs, Les) (1993)',\n",
              " 'The Lunchbox (2013)',\n",
              " 'Single Man, A (2009)',\n",
              " 'Queen of Versailles, The (2012)',\n",
              " 'Dinner Game, The (Dîner de cons, Le) (1998)',\n",
              " 'Bernie (2011)',\n",
              " 'George Carlin: You Are All Diseased (1999)',\n",
              " 'Yi Yi (2000)',\n",
              " 'Last Days, The (1998)',\n",
              " \"Doug's 1st Movie (1999)\",\n",
              " 'Rent-a-Kid (1995)',\n",
              " \"Illusionist, The (L'illusionniste) (2010)\",\n",
              " 'Shootist, The (1976)',\n",
              " 'Heartbeats (Les amours imaginaires) (2010)',\n",
              " 'Stories We Tell (2012)',\n",
              " \"I Am Love (Io sono l'amore) (2009)\",\n",
              " 'Great Beauty, The (Grande Bellezza, La) (2013)',\n",
              " 'Another Year (2010)',\n",
              " 'Pride (2014)']"
            ]
          },
          "metadata": {
            "tags": []
          },
          "execution_count": 80
        }
      ]
    },
    {
      "cell_type": "code",
      "metadata": {
        "id": "wLWU38Tz4yG-",
        "colab_type": "code",
        "outputId": "38543f18-1ef2-4805-9f4a-e6d04ab9380b",
        "colab": {
          "base_uri": "https://localhost:8080/",
          "height": 102
        }
      },
      "source": [
        "find_movies('.*Independence Day.*')"
      ],
      "execution_count": 81,
      "outputs": [
        {
          "output_type": "execute_result",
          "data": {
            "text/plain": [
              "movieId\n",
              "780       Independence Day (a.k.a. ID4) (1996)\n",
              "135567     Independence Day: Resurgence (2016)\n",
              "143357               Independence Day 3 (2017)\n",
              "Name: title, dtype: object"
            ]
          },
          "metadata": {
            "tags": []
          },
          "execution_count": 81
        }
      ]
    },
    {
      "cell_type": "code",
      "metadata": {
        "id": "D6J6Gxw45GEp",
        "colab_type": "code",
        "outputId": "2d886a4d-c9ae-4dbc-d6e8-581be1ee3a49",
        "colab": {
          "base_uri": "https://localhost:8080/",
          "height": 385
        }
      },
      "source": [
        "show_rating(780)"
      ],
      "execution_count": 82,
      "outputs": [
        {
          "output_type": "display_data",
          "data": {
            "text/plain": [
              "alt.Chart(...)"
            ],
            "text/html": [
              "<!DOCTYPE html>\n",
              "<html>\n",
              "<head>\n",
              "  <style>\n",
              "    .vega-actions a {\n",
              "        margin-right: 12px;\n",
              "        color: #757575;\n",
              "        font-weight: normal;\n",
              "        font-size: 13px;\n",
              "    }\n",
              "    .error {\n",
              "        color: red;\n",
              "    }\n",
              "  </style>\n",
              "  <script type=\"text/javascript\" src=\"https://cdn.jsdelivr.net/npm//vega@5\"></script>\n",
              "  <script type=\"text/javascript\" src=\"https://cdn.jsdelivr.net/npm//vega-lite@3.4.0\"></script>\n",
              "  <script type=\"text/javascript\" src=\"https://cdn.jsdelivr.net/npm//vega-embed@4\"></script>\n",
              "</head>\n",
              "<body>\n",
              "  <div id=\"altair-viz\"></div>\n",
              "  <script>\n",
              "    (function(vegaEmbed) {\n",
              "      var spec = {\"config\": {\"view\": {\"width\": 400, \"height\": 300}, \"mark\": {\"tooltip\": null}}, \"data\": {\"name\": \"data-16d37c78ec11807e2eceb35d76bc4136\"}, \"mark\": \"bar\", \"encoding\": {\"x\": {\"type\": \"quantitative\", \"field\": \"Segment\"}, \"y\": {\"type\": \"quantitative\", \"axis\": {\"title\": \"Average Rating\"}, \"field\": \"Rating\"}}, \"title\": \"Independence Day (a.k.a. ID4) (1996)\", \"$schema\": \"https://vega.github.io/schema/vega-lite/v3.4.0.json\", \"datasets\": {\"data-16d37c78ec11807e2eceb35d76bc4136\": [{\"Segment\": 0, \"Rating\": 2.240506329113924}, {\"Segment\": 1, \"Rating\": 3.2587301587301587}, {\"Segment\": 2, \"Rating\": 3.319332215276719}, {\"Segment\": 3, \"Rating\": 3.3567348165965125}, {\"Segment\": 4, \"Rating\": 3.7760828625235403}, {\"Segment\": 5, \"Rating\": 2.536764705882353}, {\"Segment\": 6, \"Rating\": 3.3415841584158414}, {\"Segment\": 7, \"Rating\": 3.6815668202764975}, {\"Segment\": 8, \"Rating\": 3.1309745499689634}, {\"Segment\": 9, \"Rating\": 2.706164383561644}, {\"Segment\": 10, \"Rating\": 3.5325077399380804}, {\"Segment\": 11, \"Rating\": 3.282608695652174}, {\"Segment\": 12, \"Rating\": 3.09265350877193}, {\"Segment\": 13, \"Rating\": 2.735294117647059}, {\"Segment\": 14, \"Rating\": 3.6061221975856124}, {\"Segment\": 15, \"Rating\": 3.6750684931506847}, {\"Segment\": 16, \"Rating\": 3.1208865010073876}, {\"Segment\": 17, \"Rating\": 3.638810198300283}, {\"Segment\": 18, \"Rating\": 3.0826699326393143}, {\"Segment\": 19, \"Rating\": 3.5517352185089974}]}};\n",
              "      var embedOpt = {\"mode\": \"vega-lite\"};\n",
              "\n",
              "      function showError(el, error){\n",
              "          el.innerHTML = ('<div class=\"error\" style=\"color:red;\">'\n",
              "                          + '<p>JavaScript Error: ' + error.message + '</p>'\n",
              "                          + \"<p>This usually means there's a typo in your chart specification. \"\n",
              "                          + \"See the javascript console for the full traceback.</p>\"\n",
              "                          + '</div>');\n",
              "          throw error;\n",
              "      }\n",
              "      const el = document.getElementById('altair-viz');\n",
              "      vegaEmbed(\"#altair-viz\", spec, embedOpt)\n",
              "        .catch(error => showError(el, error));\n",
              "    })(vegaEmbed);\n",
              "\n",
              "  </script>\n",
              "</body>\n",
              "</html>"
            ]
          },
          "metadata": {
            "tags": []
          }
        }
      ]
    },
    {
      "cell_type": "markdown",
      "metadata": {
        "id": "V_C7VWHhsYph",
        "colab_type": "text"
      },
      "source": [
        "Independence Day panned in segment 11. What movies do the people in seg 11 like?"
      ]
    },
    {
      "cell_type": "code",
      "metadata": {
        "id": "JErbqtgFsk5C",
        "colab_type": "code",
        "outputId": "3c5701e0-9f47-4f41-e69a-043b1cca1785",
        "colab": {
          "base_uri": "https://localhost:8080/",
          "height": 357
        }
      },
      "source": [
        "show_segment(lda, movie_names,11)"
      ],
      "execution_count": 83,
      "outputs": [
        {
          "output_type": "execute_result",
          "data": {
            "text/plain": [
              "['Notebook, The (2004)',\n",
              " 'Love Actually (2003)',\n",
              " 'Devil Wears Prada, The (2006)',\n",
              " '(500) Days of Summer (2009)',\n",
              " 'Mean Girls (2004)',\n",
              " 'Juno (2007)',\n",
              " 'Pride & Prejudice (2005)',\n",
              " '10 Things I Hate About You (1999)',\n",
              " '50 First Dates (2004)',\n",
              " 'Titanic (1997)',\n",
              " 'Forrest Gump (1994)',\n",
              " 'Legally Blonde (2001)',\n",
              " \"Bridget Jones's Diary (2001)\",\n",
              " '13 Going on 30 (2004)',\n",
              " 'Holiday, The (2006)',\n",
              " 'Pretty Woman (1990)',\n",
              " 'How to Lose a Guy in 10 Days (2003)',\n",
              " 'Miss Congeniality (2000)',\n",
              " 'Hitch (2005)',\n",
              " 'Finding Nemo (2003)']"
            ]
          },
          "metadata": {
            "tags": []
          },
          "execution_count": 83
        }
      ]
    },
    {
      "cell_type": "markdown",
      "metadata": {
        "id": "swhSf83gIiMY",
        "colab_type": "text"
      },
      "source": [
        "## Predict the Training Data"
      ]
    },
    {
      "cell_type": "code",
      "metadata": {
        "id": "lmiRdvhGI9VG",
        "colab_type": "code",
        "outputId": "2ad88520-d046-4600-c90c-a62a4c468e1a",
        "colab": {
          "base_uri": "https://localhost:8080/",
          "height": 34
        }
      },
      "source": [
        "x_train.shape, y_train.shape"
      ],
      "execution_count": 84,
      "outputs": [
        {
          "output_type": "execute_result",
          "data": {
            "text/plain": [
              "((283229, 193887), (283229, 193887))"
            ]
          },
          "metadata": {
            "tags": []
          },
          "execution_count": 84
        }
      ]
    },
    {
      "cell_type": "code",
      "metadata": {
        "id": "xZfbji0AJOYs",
        "colab_type": "code",
        "outputId": "0227459b-56d4-4775-adc0-85199de74d9f",
        "colab": {
          "base_uri": "https://localhost:8080/",
          "height": 34
        }
      },
      "source": [
        "# prediction is the average for the pair (segment, movie)\n",
        "# user_segs_max - is the hard assignment of each user to segment\n",
        "user_segs_max[:10]"
      ],
      "execution_count": 85,
      "outputs": [
        {
          "output_type": "execute_result",
          "data": {
            "text/plain": [
              "array([ 0, 17, 10, 16,  0,  0,  4, 17,  0,  0])"
            ]
          },
          "metadata": {
            "tags": []
          },
          "execution_count": 85
        }
      ]
    },
    {
      "cell_type": "code",
      "metadata": {
        "id": "CrA1Dub8NlTB",
        "colab_type": "code",
        "outputId": "32a5aa39-c2ea-45ea-8c37-5e0e78319652",
        "colab": {
          "base_uri": "https://localhost:8080/",
          "height": 34
        }
      },
      "source": [
        "type(avg_rating), avg_rating.shape"
      ],
      "execution_count": 86,
      "outputs": [
        {
          "output_type": "execute_result",
          "data": {
            "text/plain": [
              "(numpy.ndarray, (193887, 20))"
            ]
          },
          "metadata": {
            "tags": []
          },
          "execution_count": 86
        }
      ]
    },
    {
      "cell_type": "code",
      "metadata": {
        "id": "4yRnQYS8N9Ry",
        "colab_type": "code",
        "colab": {}
      },
      "source": [
        "#which movieId are we predicting for each user?\n",
        "#switch to coo (coordinate sparse array) format to easily get the column indicies\n",
        "y_train_coo = y_train.tocoo()\n"
      ],
      "execution_count": 0,
      "outputs": []
    },
    {
      "cell_type": "code",
      "metadata": {
        "id": "GO7gMWk6VVjp",
        "colab_type": "code",
        "colab": {}
      },
      "source": [
        "# a lot easier to work with a data frame\n",
        "y_train_df = pd.DataFrame({'userId':y_train_coo.row,\n",
        "                           'movieId': y_train_coo.col,\n",
        "                           'rating': y_train_coo.data})"
      ],
      "execution_count": 0,
      "outputs": []
    },
    {
      "cell_type": "code",
      "metadata": {
        "id": "zDjlb8ErVsOv",
        "colab_type": "code",
        "colab": {}
      },
      "source": [
        "y_train_df['segment'] = user_segs_max[y_train_df.userId]"
      ],
      "execution_count": 0,
      "outputs": []
    },
    {
      "cell_type": "code",
      "metadata": {
        "id": "XoAQzEISYQCs",
        "colab_type": "code",
        "colab": {}
      },
      "source": [
        "y_train_df['pred_rating'] = np.array([avg_rating[r.movieId, r.segment] \\\n",
        "                                      for r in y_train_df.itertuples()])"
      ],
      "execution_count": 0,
      "outputs": []
    },
    {
      "cell_type": "code",
      "metadata": {
        "id": "wFS3aYaIVyIm",
        "colab_type": "code",
        "outputId": "45016258-2079-4338-ccfb-17ff97e30d7d",
        "colab": {
          "base_uri": "https://localhost:8080/",
          "height": 204
        }
      },
      "source": [
        "y_train_df.tail()"
      ],
      "execution_count": 91,
      "outputs": [
        {
          "output_type": "execute_result",
          "data": {
            "text/html": [
              "<div>\n",
              "<style scoped>\n",
              "    .dataframe tbody tr th:only-of-type {\n",
              "        vertical-align: middle;\n",
              "    }\n",
              "\n",
              "    .dataframe tbody tr th {\n",
              "        vertical-align: top;\n",
              "    }\n",
              "\n",
              "    .dataframe thead th {\n",
              "        text-align: right;\n",
              "    }\n",
              "</style>\n",
              "<table border=\"1\" class=\"dataframe\">\n",
              "  <thead>\n",
              "    <tr style=\"text-align: right;\">\n",
              "      <th></th>\n",
              "      <th>userId</th>\n",
              "      <th>movieId</th>\n",
              "      <th>rating</th>\n",
              "      <th>segment</th>\n",
              "      <th>pred_rating</th>\n",
              "    </tr>\n",
              "  </thead>\n",
              "  <tbody>\n",
              "    <tr>\n",
              "      <th>198595</th>\n",
              "      <td>283222</td>\n",
              "      <td>1246</td>\n",
              "      <td>5.0</td>\n",
              "      <td>8</td>\n",
              "      <td>3.977692</td>\n",
              "    </tr>\n",
              "    <tr>\n",
              "      <th>198596</th>\n",
              "      <td>283223</td>\n",
              "      <td>2401</td>\n",
              "      <td>4.0</td>\n",
              "      <td>18</td>\n",
              "      <td>3.667749</td>\n",
              "    </tr>\n",
              "    <tr>\n",
              "      <th>198597</th>\n",
              "      <td>283224</td>\n",
              "      <td>426</td>\n",
              "      <td>4.0</td>\n",
              "      <td>18</td>\n",
              "      <td>3.199468</td>\n",
              "    </tr>\n",
              "    <tr>\n",
              "      <th>198598</th>\n",
              "      <td>283225</td>\n",
              "      <td>3623</td>\n",
              "      <td>2.5</td>\n",
              "      <td>8</td>\n",
              "      <td>2.913832</td>\n",
              "    </tr>\n",
              "    <tr>\n",
              "      <th>198599</th>\n",
              "      <td>283227</td>\n",
              "      <td>96110</td>\n",
              "      <td>4.0</td>\n",
              "      <td>10</td>\n",
              "      <td>3.000000</td>\n",
              "    </tr>\n",
              "  </tbody>\n",
              "</table>\n",
              "</div>"
            ],
            "text/plain": [
              "        userId  movieId  rating  segment  pred_rating\n",
              "198595  283222     1246     5.0        8     3.977692\n",
              "198596  283223     2401     4.0       18     3.667749\n",
              "198597  283224      426     4.0       18     3.199468\n",
              "198598  283225     3623     2.5        8     2.913832\n",
              "198599  283227    96110     4.0       10     3.000000"
            ]
          },
          "metadata": {
            "tags": []
          },
          "execution_count": 91
        }
      ]
    },
    {
      "cell_type": "code",
      "metadata": {
        "id": "UfQUV7duhhPB",
        "colab_type": "code",
        "colab": {}
      },
      "source": [
        "def r_squared(y, y_hat):\n",
        "  y_bar = y.mean()\n",
        "  ss_tot = ((y-y_bar)**2).sum()\n",
        "  ss_resid = ((y-y_hat)**2).sum()\n",
        "  r_sq = (1.0 - (ss_resid/ss_tot))\n",
        "  \n",
        "  return r_sq"
      ],
      "execution_count": 0,
      "outputs": []
    },
    {
      "cell_type": "code",
      "metadata": {
        "id": "xTA_PIGbinIk",
        "colab_type": "code",
        "outputId": "d49c3fa7-e897-4937-e7bf-168753488c22",
        "colab": {
          "base_uri": "https://localhost:8080/",
          "height": 34
        }
      },
      "source": [
        "r_squared(y_train_df.rating, y_train_df.pred_rating)"
      ],
      "execution_count": 93,
      "outputs": [
        {
          "output_type": "execute_result",
          "data": {
            "text/plain": [
              "0.12653523375337905"
            ]
          },
          "metadata": {
            "tags": []
          },
          "execution_count": 93
        }
      ]
    },
    {
      "cell_type": "markdown",
      "metadata": {
        "id": "W84_kle-1dIU",
        "colab_type": "text"
      },
      "source": [
        "**Not very good $R^2$ on the training data! Uh-oh, need a different model!**"
      ]
    },
    {
      "cell_type": "markdown",
      "metadata": {
        "id": "iYvq-FAvlxMW",
        "colab_type": "text"
      },
      "source": [
        "# Conclusions\n",
        "1. Work with smaller data sets when developing methodology and algorithms, then unleash on whole data set\n",
        "2. scipy.sparse is great package for dealing with sparsity\n",
        "3. Segmenting using LDA seems to work well\n",
        "4. Predicting rating by using average rating within segment appears to work poorly\n",
        "5. Pickles are a great way to save computationally intense results for future use"
      ]
    },
    {
      "cell_type": "code",
      "metadata": {
        "id": "vu7EWZOwqjOj",
        "colab_type": "code",
        "colab": {}
      },
      "source": [
        ""
      ],
      "execution_count": 0,
      "outputs": []
    }
  ]
}