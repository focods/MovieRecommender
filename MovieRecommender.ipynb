{
  "nbformat": 4,
  "nbformat_minor": 0,
  "metadata": {
    "colab": {
      "name": "MovieRecommender.ipynb",
      "version": "0.3.2",
      "provenance": [],
      "collapsed_sections": []
    },
    "kernelspec": {
      "name": "python3",
      "display_name": "Python 3"
    }
  },
  "cells": [
    {
      "cell_type": "code",
      "metadata": {
        "id": "XC-usFZjtEcd",
        "colab_type": "code",
        "colab": {}
      },
      "source": [
        "import numpy as np\n",
        "import pandas as pd\n",
        "from urllib.request import urlopen\n"
      ],
      "execution_count": 0,
      "outputs": []
    },
    {
      "cell_type": "code",
      "metadata": {
        "id": "2A90x3t_tm7a",
        "colab_type": "code",
        "colab": {}
      },
      "source": [
        "# read pickled data files\n",
        "#http://files.grouplens.org/datasets/movielens/ml-latest-README.html\n",
        "path = 'https://focods.s3.us-east-2.amazonaws.com/movies.pcl'\n",
        "movies = pd.read_pickle(urlopen(path), compression=None)\n"
      ],
      "execution_count": 0,
      "outputs": []
    },
    {
      "cell_type": "code",
      "metadata": {
        "id": "SICoJVrohEBE",
        "colab_type": "code",
        "outputId": "be6a415d-af47-4eb3-80bb-950a22246bd0",
        "colab": {
          "base_uri": "https://localhost:8080/",
          "height": 235
        }
      },
      "source": [
        "movies.head()"
      ],
      "execution_count": 0,
      "outputs": [
        {
          "output_type": "execute_result",
          "data": {
            "text/html": [
              "<div>\n",
              "<style scoped>\n",
              "    .dataframe tbody tr th:only-of-type {\n",
              "        vertical-align: middle;\n",
              "    }\n",
              "\n",
              "    .dataframe tbody tr th {\n",
              "        vertical-align: top;\n",
              "    }\n",
              "\n",
              "    .dataframe thead th {\n",
              "        text-align: right;\n",
              "    }\n",
              "</style>\n",
              "<table border=\"1\" class=\"dataframe\">\n",
              "  <thead>\n",
              "    <tr style=\"text-align: right;\">\n",
              "      <th></th>\n",
              "      <th>title</th>\n",
              "      <th>genres</th>\n",
              "    </tr>\n",
              "    <tr>\n",
              "      <th>movieId</th>\n",
              "      <th></th>\n",
              "      <th></th>\n",
              "    </tr>\n",
              "  </thead>\n",
              "  <tbody>\n",
              "    <tr>\n",
              "      <th>1</th>\n",
              "      <td>Toy Story (1995)</td>\n",
              "      <td>Adventure|Animation|Children|Comedy|Fantasy</td>\n",
              "    </tr>\n",
              "    <tr>\n",
              "      <th>2</th>\n",
              "      <td>Jumanji (1995)</td>\n",
              "      <td>Adventure|Children|Fantasy</td>\n",
              "    </tr>\n",
              "    <tr>\n",
              "      <th>3</th>\n",
              "      <td>Grumpier Old Men (1995)</td>\n",
              "      <td>Comedy|Romance</td>\n",
              "    </tr>\n",
              "    <tr>\n",
              "      <th>4</th>\n",
              "      <td>Waiting to Exhale (1995)</td>\n",
              "      <td>Comedy|Drama|Romance</td>\n",
              "    </tr>\n",
              "    <tr>\n",
              "      <th>5</th>\n",
              "      <td>Father of the Bride Part II (1995)</td>\n",
              "      <td>Comedy</td>\n",
              "    </tr>\n",
              "  </tbody>\n",
              "</table>\n",
              "</div>"
            ],
            "text/plain": [
              "                                      title                                       genres\n",
              "movieId                                                                                 \n",
              "1                          Toy Story (1995)  Adventure|Animation|Children|Comedy|Fantasy\n",
              "2                            Jumanji (1995)                   Adventure|Children|Fantasy\n",
              "3                   Grumpier Old Men (1995)                               Comedy|Romance\n",
              "4                  Waiting to Exhale (1995)                         Comedy|Drama|Romance\n",
              "5        Father of the Bride Part II (1995)                                       Comedy"
            ]
          },
          "metadata": {
            "tags": []
          },
          "execution_count": 3
        }
      ]
    },
    {
      "cell_type": "code",
      "metadata": {
        "id": "muECfnBGkbmt",
        "colab_type": "code",
        "colab": {}
      },
      "source": [
        "#Ratings: (takes about 20 seconds)\n",
        "path = 'https://focods.s3.us-east-2.amazonaws.com/ratings.pcl'\n",
        "ratings = pd.read_pickle(urlopen(path), compression=None)\n"
      ],
      "execution_count": 0,
      "outputs": []
    },
    {
      "cell_type": "code",
      "metadata": {
        "id": "CvD--wK_obEB",
        "colab_type": "code",
        "outputId": "59d71a0b-da47-4a3d-be7e-ec8707d838e6",
        "colab": {
          "base_uri": "https://localhost:8080/",
          "height": 204
        }
      },
      "source": [
        "ratings.head()"
      ],
      "execution_count": 0,
      "outputs": [
        {
          "output_type": "execute_result",
          "data": {
            "text/html": [
              "<div>\n",
              "<style scoped>\n",
              "    .dataframe tbody tr th:only-of-type {\n",
              "        vertical-align: middle;\n",
              "    }\n",
              "\n",
              "    .dataframe tbody tr th {\n",
              "        vertical-align: top;\n",
              "    }\n",
              "\n",
              "    .dataframe thead th {\n",
              "        text-align: right;\n",
              "    }\n",
              "</style>\n",
              "<table border=\"1\" class=\"dataframe\">\n",
              "  <thead>\n",
              "    <tr style=\"text-align: right;\">\n",
              "      <th></th>\n",
              "      <th>userId</th>\n",
              "      <th>movieId</th>\n",
              "      <th>rating</th>\n",
              "      <th>timestamp</th>\n",
              "    </tr>\n",
              "  </thead>\n",
              "  <tbody>\n",
              "    <tr>\n",
              "      <th>0</th>\n",
              "      <td>1</td>\n",
              "      <td>307</td>\n",
              "      <td>3.5</td>\n",
              "      <td>2009-10-27 21:00:21</td>\n",
              "    </tr>\n",
              "    <tr>\n",
              "      <th>1</th>\n",
              "      <td>1</td>\n",
              "      <td>481</td>\n",
              "      <td>3.5</td>\n",
              "      <td>2009-10-27 21:04:16</td>\n",
              "    </tr>\n",
              "    <tr>\n",
              "      <th>2</th>\n",
              "      <td>1</td>\n",
              "      <td>1091</td>\n",
              "      <td>1.5</td>\n",
              "      <td>2009-10-27 21:04:31</td>\n",
              "    </tr>\n",
              "    <tr>\n",
              "      <th>3</th>\n",
              "      <td>1</td>\n",
              "      <td>1257</td>\n",
              "      <td>4.5</td>\n",
              "      <td>2009-10-27 21:04:20</td>\n",
              "    </tr>\n",
              "    <tr>\n",
              "      <th>4</th>\n",
              "      <td>1</td>\n",
              "      <td>1449</td>\n",
              "      <td>4.5</td>\n",
              "      <td>2009-10-27 21:01:04</td>\n",
              "    </tr>\n",
              "  </tbody>\n",
              "</table>\n",
              "</div>"
            ],
            "text/plain": [
              "   userId  movieId  rating           timestamp\n",
              "0       1      307     3.5 2009-10-27 21:00:21\n",
              "1       1      481     3.5 2009-10-27 21:04:16\n",
              "2       1     1091     1.5 2009-10-27 21:04:31\n",
              "3       1     1257     4.5 2009-10-27 21:04:20\n",
              "4       1     1449     4.5 2009-10-27 21:01:04"
            ]
          },
          "metadata": {
            "tags": []
          },
          "execution_count": 5
        }
      ]
    },
    {
      "cell_type": "code",
      "metadata": {
        "id": "lI3tlaQtqUI1",
        "colab_type": "code",
        "colab": {}
      },
      "source": [
        "#just the good ratings\n",
        "good_ratings = ratings.query('rating > 3.0')"
      ],
      "execution_count": 0,
      "outputs": []
    },
    {
      "cell_type": "code",
      "metadata": {
        "id": "6P0oANogkBSB",
        "colab_type": "code",
        "colab": {}
      },
      "source": [
        "from scipy.sparse import csr_matrix, coo_matrix"
      ],
      "execution_count": 0,
      "outputs": []
    },
    {
      "cell_type": "code",
      "metadata": {
        "id": "QtD8Nq8al0pR",
        "colab_type": "code",
        "colab": {}
      },
      "source": [
        "cust_ratings = coo_matrix(([1]*len(good_ratings), (good_ratings.userId, good_ratings.movieId)),dtype=np.int32).tocsr()\n"
      ],
      "execution_count": 0,
      "outputs": []
    },
    {
      "cell_type": "code",
      "metadata": {
        "id": "FLi6IxvfrVbz",
        "colab_type": "code",
        "outputId": "1353b1dd-784b-4c5e-ca01-f0aa0dfbd9ce",
        "colab": {
          "base_uri": "https://localhost:8080/",
          "height": 51
        }
      },
      "source": [
        "cust_ratings"
      ],
      "execution_count": 0,
      "outputs": [
        {
          "output_type": "execute_result",
          "data": {
            "text/plain": [
              "<283229x193887 sparse matrix of type '<class 'numpy.int32'>'\n",
              "\twith 17243755 stored elements in Compressed Sparse Row format>"
            ]
          },
          "metadata": {
            "tags": []
          },
          "execution_count": 11
        }
      ]
    },
    {
      "cell_type": "code",
      "metadata": {
        "id": "CCh49Meuo9IY",
        "colab_type": "code",
        "colab": {}
      },
      "source": [
        "# takes about 1 minute to run\n",
        "co_occurrence = cust_ratings.T.dot(cust_ratings)"
      ],
      "execution_count": 0,
      "outputs": []
    },
    {
      "cell_type": "code",
      "metadata": {
        "id": "aotrfEf5pDoL",
        "colab_type": "code",
        "outputId": "94b88bd1-a248-4493-fe05-2fd94a19cd82",
        "colab": {
          "base_uri": "https://localhost:8080/",
          "height": 51
        }
      },
      "source": [
        "co_occurrence"
      ],
      "execution_count": 0,
      "outputs": [
        {
          "output_type": "execute_result",
          "data": {
            "text/plain": [
              "<193887x193887 sparse matrix of type '<class 'numpy.int32'>'\n",
              "\twith 321428159 stored elements in Compressed Sparse Column format>"
            ]
          },
          "metadata": {
            "tags": []
          },
          "execution_count": 13
        }
      ]
    },
    {
      "cell_type": "code",
      "metadata": {
        "id": "5cdi7D4upugm",
        "colab_type": "code",
        "outputId": "c5824b22-14cb-4b6d-93d0-8d47fdf2c4fc",
        "colab": {
          "base_uri": "https://localhost:8080/",
          "height": 34
        }
      },
      "source": [
        "co_occurrence.max()"
      ],
      "execution_count": 0,
      "outputs": [
        {
          "output_type": "execute_result",
          "data": {
            "text/plain": [
              "89472"
            ]
          },
          "metadata": {
            "tags": []
          },
          "execution_count": 14
        }
      ]
    },
    {
      "cell_type": "code",
      "metadata": {
        "id": "K0nkpmDJp_WW",
        "colab_type": "code",
        "colab": {}
      },
      "source": [
        "def get_movieId(moviename):\n",
        "  \"\"\"\n",
        "  return the movie id given the title/moviename\n",
        "  \"\"\"\n",
        "  mvindex = movies.query('title == @moviename').index\n",
        "  if len(mvindex) == 0:\n",
        "    raise Exception(f'Invalid movie name: {moviename}')\n",
        "  return mvindex[0] # just the first one in case there were multiples\n",
        "  "
      ],
      "execution_count": 0,
      "outputs": []
    },
    {
      "cell_type": "code",
      "metadata": {
        "id": "1WHKUfFHwen1",
        "colab_type": "code",
        "outputId": "c6bc499f-76f9-45d7-c585-21b1a85172c9",
        "colab": {
          "base_uri": "https://localhost:8080/",
          "height": 283
        }
      },
      "source": [
        "get_movieId('jdkjkj')"
      ],
      "execution_count": 0,
      "outputs": [
        {
          "output_type": "error",
          "ename": "Exception",
          "evalue": "ignored",
          "traceback": [
            "\u001b[0;31m---------------------------------------------------------------------------\u001b[0m",
            "\u001b[0;31mException\u001b[0m                                 Traceback (most recent call last)",
            "\u001b[0;32m<ipython-input-16-179d20a9bb32>\u001b[0m in \u001b[0;36m<module>\u001b[0;34m()\u001b[0m\n\u001b[0;32m----> 1\u001b[0;31m \u001b[0mget_movieId\u001b[0m\u001b[0;34m(\u001b[0m\u001b[0;34m'jdkjkj'\u001b[0m\u001b[0;34m)\u001b[0m\u001b[0;34m\u001b[0m\u001b[0;34m\u001b[0m\u001b[0m\n\u001b[0m",
            "\u001b[0;32m<ipython-input-15-18863639198b>\u001b[0m in \u001b[0;36mget_movieId\u001b[0;34m(moviename)\u001b[0m\n\u001b[1;32m      5\u001b[0m   \u001b[0mmvindex\u001b[0m \u001b[0;34m=\u001b[0m \u001b[0mmovies\u001b[0m\u001b[0;34m.\u001b[0m\u001b[0mquery\u001b[0m\u001b[0;34m(\u001b[0m\u001b[0;34m'title == @moviename'\u001b[0m\u001b[0;34m)\u001b[0m\u001b[0;34m.\u001b[0m\u001b[0mindex\u001b[0m\u001b[0;34m\u001b[0m\u001b[0;34m\u001b[0m\u001b[0m\n\u001b[1;32m      6\u001b[0m   \u001b[0;32mif\u001b[0m \u001b[0mlen\u001b[0m\u001b[0;34m(\u001b[0m\u001b[0mmvindex\u001b[0m\u001b[0;34m)\u001b[0m \u001b[0;34m==\u001b[0m \u001b[0;36m0\u001b[0m\u001b[0;34m:\u001b[0m\u001b[0;34m\u001b[0m\u001b[0;34m\u001b[0m\u001b[0m\n\u001b[0;32m----> 7\u001b[0;31m     \u001b[0;32mraise\u001b[0m \u001b[0mException\u001b[0m\u001b[0;34m(\u001b[0m\u001b[0;34mf'Invalid movie name: {moviename}'\u001b[0m\u001b[0;34m)\u001b[0m\u001b[0;34m\u001b[0m\u001b[0;34m\u001b[0m\u001b[0m\n\u001b[0m\u001b[1;32m      8\u001b[0m   \u001b[0;32mreturn\u001b[0m \u001b[0mmvindex\u001b[0m\u001b[0;34m[\u001b[0m\u001b[0;36m0\u001b[0m\u001b[0;34m]\u001b[0m \u001b[0;31m# just the first one in case there were multiples\u001b[0m\u001b[0;34m\u001b[0m\u001b[0;34m\u001b[0m\u001b[0m\n\u001b[1;32m      9\u001b[0m \u001b[0;34m\u001b[0m\u001b[0m\n",
            "\u001b[0;31mException\u001b[0m: Invalid movie name: jdkjkj"
          ]
        }
      ]
    },
    {
      "cell_type": "code",
      "metadata": {
        "id": "DSAuwC-xxPCk",
        "colab_type": "code",
        "outputId": "2fe136bd-618f-449c-c577-fa22047dfe16",
        "colab": {
          "base_uri": "https://localhost:8080/",
          "height": 34
        }
      },
      "source": [
        "get_movieId('Father of the Bride Part II (1995)')"
      ],
      "execution_count": 0,
      "outputs": [
        {
          "output_type": "execute_result",
          "data": {
            "text/plain": [
              "5"
            ]
          },
          "metadata": {
            "tags": []
          },
          "execution_count": 17
        }
      ]
    },
    {
      "cell_type": "code",
      "metadata": {
        "id": "0nFo7uGf6bmq",
        "colab_type": "code",
        "colab": {}
      },
      "source": [
        "fob = co_occurrence.getrow(5)"
      ],
      "execution_count": 0,
      "outputs": []
    },
    {
      "cell_type": "code",
      "metadata": {
        "id": "N4vPCJMV6h8t",
        "colab_type": "code",
        "outputId": "6bf775e5-ebba-4e96-be5f-c3678f51ce8a",
        "colab": {
          "base_uri": "https://localhost:8080/",
          "height": 51
        }
      },
      "source": [
        "fob"
      ],
      "execution_count": 0,
      "outputs": [
        {
          "output_type": "execute_result",
          "data": {
            "text/plain": [
              "<1x193887 sparse matrix of type '<class 'numpy.int64'>'\n",
              "\twith 17942 stored elements in Compressed Sparse Row format>"
            ]
          },
          "metadata": {
            "tags": []
          },
          "execution_count": 58
        }
      ]
    },
    {
      "cell_type": "code",
      "metadata": {
        "id": "9oHxxJi56m_6",
        "colab_type": "code",
        "outputId": "40e2a938-5e8f-445b-e928-aa7e488bb100",
        "colab": {
          "base_uri": "https://localhost:8080/",
          "height": 51
        }
      },
      "source": [
        "fob.sorted_indices()"
      ],
      "execution_count": 0,
      "outputs": [
        {
          "output_type": "execute_result",
          "data": {
            "text/plain": [
              "<1x193887 sparse matrix of type '<class 'numpy.int64'>'\n",
              "\twith 17942 stored elements in Compressed Sparse Row format>"
            ]
          },
          "metadata": {
            "tags": []
          },
          "execution_count": 59
        }
      ]
    },
    {
      "cell_type": "code",
      "metadata": {
        "id": "CjiumXRi7D1q",
        "colab_type": "code",
        "outputId": "72fd848a-4735-4106-e4ed-fe5530fcbecc",
        "colab": {
          "base_uri": "https://localhost:8080/",
          "height": 34
        }
      },
      "source": [
        "fob.shape"
      ],
      "execution_count": 0,
      "outputs": [
        {
          "output_type": "execute_result",
          "data": {
            "text/plain": [
              "(1, 193887)"
            ]
          },
          "metadata": {
            "tags": []
          },
          "execution_count": 63
        }
      ]
    },
    {
      "cell_type": "code",
      "metadata": {
        "id": "z8kLQZ1h7kUA",
        "colab_type": "code",
        "outputId": "76528d67-ba23-4b50-893c-5f329dea4f89",
        "colab": {
          "base_uri": "https://localhost:8080/",
          "height": 34
        }
      },
      "source": [
        "fob.max()"
      ],
      "execution_count": 0,
      "outputs": [
        {
          "output_type": "execute_result",
          "data": {
            "text/plain": [
              "5069"
            ]
          },
          "metadata": {
            "tags": []
          },
          "execution_count": 64
        }
      ]
    },
    {
      "cell_type": "code",
      "metadata": {
        "id": "2ljGjwC1ulVh",
        "colab_type": "code",
        "colab": {}
      },
      "source": [
        "#mname = 'Father of the Bride Part II (1995)'\n",
        "mname = 'kjdkjkjf'\n",
        "zz=movies.query('title == @mname')"
      ],
      "execution_count": 0,
      "outputs": []
    },
    {
      "cell_type": "code",
      "metadata": {
        "id": "d96B9VKcvUdi",
        "colab_type": "code",
        "colab": {}
      },
      "source": [
        "def get_recommendations(moviename, nrec=5):\n",
        "  \"\"\"\n",
        "  Returns at most nrec movie recommenations given an input movie name\n",
        "  \"\"\"\n",
        "  \n",
        "  movieId = get_movieId(moviename)\n",
        "  \n",
        "  #get the cohorts of this movie \n",
        "  #(number of times users rated each movie AND this movieId)\n",
        "  cohorts = co_occurrence.getrow(movieId)\n",
        "  \n",
        "  #get the movieIds and # times reviewed for each cohort\n",
        "  cohort_ids = cohorts.indices\n",
        "  cohort_n   = cohorts.data\n",
        "  \n",
        "  # normalize by Jaccard measure (future)\n",
        "  cohort_jaccard = cohort_n\n",
        "  \n",
        "  #sort by Jaccard measure\n",
        "  cohort_sort = cohort_jaccard.argsort() #note, only sorts ascending\n",
        "\n",
        "  #slicer for last nrec elements in reverse order\n",
        "  last_n_slice = slice(-1, -1*(nrec+1), -1)\n",
        "  \n",
        "  #get the ids and jaccards of the last(highest) nrec elements\n",
        "  last_n_ids =     cohort_ids[cohort_sort[last_n_slice]]\n",
        "  last_n_jaccard = cohort_n[cohort_sort[last_n_slice]]\n",
        "  \n",
        "  #create a dataframe to contain the results\n",
        "  ret_df = pd.DataFrame({'title': movies.loc[last_n_ids].title,\n",
        "                         'Jaccard':last_n_jaccard,\n",
        "                         'movieId':last_n_ids}).set_index('movieId')\n",
        "  \n",
        "  #ship it!\n",
        "  return ret_df\n"
      ],
      "execution_count": 0,
      "outputs": []
    },
    {
      "cell_type": "code",
      "metadata": {
        "id": "5MV-EKG2ts7l",
        "colab_type": "code",
        "outputId": "041d10c9-8a85-4b90-c046-7d246e868c0d",
        "colab": {
          "base_uri": "https://localhost:8080/",
          "height": 390
        }
      },
      "source": [
        "mname = 'Father of the Bride Part II (1995)'\n",
        "get_recommendations(mname, nrec=10)"
      ],
      "execution_count": 0,
      "outputs": [
        {
          "output_type": "execute_result",
          "data": {
            "text/html": [
              "<div>\n",
              "<style scoped>\n",
              "    .dataframe tbody tr th:only-of-type {\n",
              "        vertical-align: middle;\n",
              "    }\n",
              "\n",
              "    .dataframe tbody tr th {\n",
              "        vertical-align: top;\n",
              "    }\n",
              "\n",
              "    .dataframe thead th {\n",
              "        text-align: right;\n",
              "    }\n",
              "</style>\n",
              "<table border=\"1\" class=\"dataframe\">\n",
              "  <thead>\n",
              "    <tr style=\"text-align: right;\">\n",
              "      <th></th>\n",
              "      <th>title</th>\n",
              "      <th>Jaccard</th>\n",
              "    </tr>\n",
              "    <tr>\n",
              "      <th>movieId</th>\n",
              "      <th></th>\n",
              "      <th></th>\n",
              "    </tr>\n",
              "  </thead>\n",
              "  <tbody>\n",
              "    <tr>\n",
              "      <th>5</th>\n",
              "      <td>Father of the Bride Part II (1995)</td>\n",
              "      <td>5069</td>\n",
              "    </tr>\n",
              "    <tr>\n",
              "      <th>1</th>\n",
              "      <td>Toy Story (1995)</td>\n",
              "      <td>2392</td>\n",
              "    </tr>\n",
              "    <tr>\n",
              "      <th>356</th>\n",
              "      <td>Forrest Gump (1994)</td>\n",
              "      <td>2235</td>\n",
              "    </tr>\n",
              "    <tr>\n",
              "      <th>780</th>\n",
              "      <td>Independence Day (a.k.a. ID4) (1996)</td>\n",
              "      <td>2198</td>\n",
              "    </tr>\n",
              "    <tr>\n",
              "      <th>62</th>\n",
              "      <td>Mr. Holland's Opus (1995)</td>\n",
              "      <td>1920</td>\n",
              "    </tr>\n",
              "    <tr>\n",
              "      <th>736</th>\n",
              "      <td>Twister (1996)</td>\n",
              "      <td>1866</td>\n",
              "    </tr>\n",
              "    <tr>\n",
              "      <th>318</th>\n",
              "      <td>Shawshank Redemption, The (1994)</td>\n",
              "      <td>1842</td>\n",
              "    </tr>\n",
              "    <tr>\n",
              "      <th>260</th>\n",
              "      <td>Star Wars: Episode IV - A New Hope (1977)</td>\n",
              "      <td>1812</td>\n",
              "    </tr>\n",
              "    <tr>\n",
              "      <th>150</th>\n",
              "      <td>Apollo 13 (1995)</td>\n",
              "      <td>1812</td>\n",
              "    </tr>\n",
              "    <tr>\n",
              "      <th>500</th>\n",
              "      <td>Mrs. Doubtfire (1993)</td>\n",
              "      <td>1785</td>\n",
              "    </tr>\n",
              "  </tbody>\n",
              "</table>\n",
              "</div>"
            ],
            "text/plain": [
              "                                             title  Jaccard\n",
              "movieId                                                    \n",
              "5               Father of the Bride Part II (1995)     5069\n",
              "1                                 Toy Story (1995)     2392\n",
              "356                            Forrest Gump (1994)     2235\n",
              "780           Independence Day (a.k.a. ID4) (1996)     2198\n",
              "62                       Mr. Holland's Opus (1995)     1920\n",
              "736                                 Twister (1996)     1866\n",
              "318               Shawshank Redemption, The (1994)     1842\n",
              "260      Star Wars: Episode IV - A New Hope (1977)     1812\n",
              "150                               Apollo 13 (1995)     1812\n",
              "500                          Mrs. Doubtfire (1993)     1785"
            ]
          },
          "metadata": {
            "tags": []
          },
          "execution_count": 43
        }
      ]
    },
    {
      "cell_type": "code",
      "metadata": {
        "id": "g6kSaBmb3wdA",
        "colab_type": "code",
        "outputId": "f87aa69c-2ec4-4bfb-88cf-9715f09f1271",
        "colab": {
          "base_uri": "https://localhost:8080/",
          "height": 235
        }
      },
      "source": [
        "get_recommendations('Star Wars: Episode IV - A New Hope (1977)')"
      ],
      "execution_count": 0,
      "outputs": [
        {
          "output_type": "execute_result",
          "data": {
            "text/html": [
              "<div>\n",
              "<style scoped>\n",
              "    .dataframe tbody tr th:only-of-type {\n",
              "        vertical-align: middle;\n",
              "    }\n",
              "\n",
              "    .dataframe tbody tr th {\n",
              "        vertical-align: top;\n",
              "    }\n",
              "\n",
              "    .dataframe thead th {\n",
              "        text-align: right;\n",
              "    }\n",
              "</style>\n",
              "<table border=\"1\" class=\"dataframe\">\n",
              "  <thead>\n",
              "    <tr style=\"text-align: right;\">\n",
              "      <th></th>\n",
              "      <th>title</th>\n",
              "      <th>Jaccard</th>\n",
              "    </tr>\n",
              "    <tr>\n",
              "      <th>movieId</th>\n",
              "      <th></th>\n",
              "      <th></th>\n",
              "    </tr>\n",
              "  </thead>\n",
              "  <tbody>\n",
              "    <tr>\n",
              "      <th>260</th>\n",
              "      <td>Star Wars: Episode IV - A New Hope (1977)</td>\n",
              "      <td>67057</td>\n",
              "    </tr>\n",
              "    <tr>\n",
              "      <th>1196</th>\n",
              "      <td>Star Wars: Episode V - The Empire Strikes Back...</td>\n",
              "      <td>45583</td>\n",
              "    </tr>\n",
              "    <tr>\n",
              "      <th>1210</th>\n",
              "      <td>Star Wars: Episode VI - Return of the Jedi (1983)</td>\n",
              "      <td>41191</td>\n",
              "    </tr>\n",
              "    <tr>\n",
              "      <th>2571</th>\n",
              "      <td>Matrix, The (1999)</td>\n",
              "      <td>38553</td>\n",
              "    </tr>\n",
              "    <tr>\n",
              "      <th>1198</th>\n",
              "      <td>Raiders of the Lost Ark (Indiana Jones and the...</td>\n",
              "      <td>36778</td>\n",
              "    </tr>\n",
              "  </tbody>\n",
              "</table>\n",
              "</div>"
            ],
            "text/plain": [
              "                                                     title  Jaccard\n",
              "movieId                                                            \n",
              "260              Star Wars: Episode IV - A New Hope (1977)    67057\n",
              "1196     Star Wars: Episode V - The Empire Strikes Back...    45583\n",
              "1210     Star Wars: Episode VI - Return of the Jedi (1983)    41191\n",
              "2571                                    Matrix, The (1999)    38553\n",
              "1198     Raiders of the Lost Ark (Indiana Jones and the...    36778"
            ]
          },
          "metadata": {
            "tags": []
          },
          "execution_count": 45
        }
      ]
    },
    {
      "cell_type": "code",
      "metadata": {
        "id": "CBIeGHdtJC9h",
        "colab_type": "code",
        "colab": {}
      },
      "source": [
        "fob=5 #index of father of the bride\n",
        "fob_cohorts = co_occurrence.getrow(fob)"
      ],
      "execution_count": 0,
      "outputs": []
    },
    {
      "cell_type": "code",
      "metadata": {
        "id": "Vf5uTS5nt4ug",
        "colab_type": "code",
        "colab": {}
      },
      "source": [
        "fob_cohort_ids = fob_co_horts.indices\n",
        "fob_cohort_vals = fob_cohorts.data"
      ],
      "execution_count": 0,
      "outputs": []
    },
    {
      "cell_type": "code",
      "metadata": {
        "id": "5OIwyGeruOpS",
        "colab_type": "code",
        "colab": {}
      },
      "source": [
        "#get the top 5 cohort ids\n",
        "slicer = slice(-1,-6,-1) # slicer for the last 5 elements in reverse order\n",
        "fob_cohort_sort = fob_cohort_vals.argsort()\n",
        "top5_ids = fob_cohort_ids[fob_cohort_sort[slicer]]\n",
        "top5_vals = fob_cohort_vals[fob_cohort_sort[slicer]]"
      ],
      "execution_count": 0,
      "outputs": []
    },
    {
      "cell_type": "code",
      "metadata": {
        "id": "EuIPQybUuqtP",
        "colab_type": "code",
        "outputId": "fa4ff564-0db5-4b85-ec84-c8387d0f7bf8",
        "colab": {
          "base_uri": "https://localhost:8080/",
          "height": 34
        }
      },
      "source": [
        "top5_ids"
      ],
      "execution_count": 0,
      "outputs": [
        {
          "output_type": "execute_result",
          "data": {
            "text/plain": [
              "array([  5,   1, 356, 780,  62], dtype=int32)"
            ]
          },
          "metadata": {
            "tags": []
          },
          "execution_count": 29
        }
      ]
    },
    {
      "cell_type": "code",
      "metadata": {
        "id": "A2dYWehKuwnf",
        "colab_type": "code",
        "outputId": "3c4d23b2-ef5c-4f4e-ca68-d6c5d68dbe42",
        "colab": {
          "base_uri": "https://localhost:8080/",
          "height": 34
        }
      },
      "source": [
        "top5_vals"
      ],
      "execution_count": 0,
      "outputs": [
        {
          "output_type": "execute_result",
          "data": {
            "text/plain": [
              "array([5069, 2392, 2235, 2198, 1920], dtype=int32)"
            ]
          },
          "metadata": {
            "tags": []
          },
          "execution_count": 30
        }
      ]
    },
    {
      "cell_type": "code",
      "metadata": {
        "id": "WprEZ9hmwr4m",
        "colab_type": "code",
        "outputId": "b9e912d2-d50a-45a1-8b76-d7fe940cfed7",
        "colab": {
          "base_uri": "https://localhost:8080/",
          "height": 136
        }
      },
      "source": [
        "movies.loc[top5_ids].title"
      ],
      "execution_count": 0,
      "outputs": [
        {
          "output_type": "execute_result",
          "data": {
            "text/plain": [
              "movieId\n",
              "5        Father of the Bride Part II (1995)\n",
              "1                          Toy Story (1995)\n",
              "356                     Forrest Gump (1994)\n",
              "780    Independence Day (a.k.a. ID4) (1996)\n",
              "62                Mr. Holland's Opus (1995)\n",
              "Name: title, dtype: object"
            ]
          },
          "metadata": {
            "tags": []
          },
          "execution_count": 31
        }
      ]
    },
    {
      "cell_type": "code",
      "metadata": {
        "id": "so2f0i15xHl0",
        "colab_type": "code",
        "colab": {}
      },
      "source": [
        "def find_movies(title_regexp):\n",
        "  return movies.title[movies.title.str.match(title_regexp, case=False)]"
      ],
      "execution_count": 0,
      "outputs": []
    },
    {
      "cell_type": "code",
      "metadata": {
        "id": "MxgSjoRz7ZWT",
        "colab_type": "code",
        "outputId": "85e2ed2a-9259-4c01-870e-ab6e6b5ac2a6",
        "colab": {
          "base_uri": "https://localhost:8080/",
          "height": 799
        }
      },
      "source": [
        "find_movies('.*toy.*')"
      ],
      "execution_count": 0,
      "outputs": [
        {
          "output_type": "execute_result",
          "data": {
            "text/plain": [
              "movieId\n",
              "1                                          Toy Story (1995)\n",
              "2017                                Babes in Toyland (1961)\n",
              "2253                                            Toys (1992)\n",
              "2480                  Dry Cleaning (Nettoyage à sec) (1997)\n",
              "3086                                Babes in Toyland (1934)\n",
              "3114                                     Toy Story 2 (1999)\n",
              "4929                                        Toy, The (1982)\n",
              "5843                                    Toy Soldiers (1991)\n",
              "26033              Giants and Toys (Kyojin to gangu) (1958)\n",
              "78062     Puppet Master vs. Demonic Toys (Puppet Master ...\n",
              "78499                                    Toy Story 3 (2010)\n",
              "80141                             Christmas Toy, The (1986)\n",
              "81981                            Toy, The (Le jouet) (1976)\n",
              "82698                                   Demonic Toys (1992)\n",
              "83439                              Toys in the Attic (1963)\n",
              "90252           Devil Times Five (a.k.a. Peopletoys) (1974)\n",
              "93574     Resurrect Dead: The Mystery of the Toynbee Til...\n",
              "95446                                        Tin Toy (1988)\n",
              "106022                           Toy Story of Terror (2013)\n",
              "107762                      Dollman vs. Demonic Toys (1993)\n",
              "115875            Toy Story Toons: Hawaiian Vacation (2011)\n",
              "115879                    Toy Story Toons: Small Fry (2011)\n",
              "116461                  How the Toys Saved Christmas (1996)\n",
              "119975    Silent Night, Deadly Night 5: The Toy Maker (1...\n",
              "120468              Toy Story Toons: Partysaurus Rex (2012)\n",
              "120474                    Toy Story That Time Forgot (2014)\n",
              "122078                                  The Toy Wife (1938)\n",
              "124927                             Toys in the Attic (2009)\n",
              "136882                 Me Shivajiraje Bhosale Boltoy (2009)\n",
              "139263                                  Toy Soldiers (1984)\n",
              "142663                              Babes in Toyland (1997)\n",
              "143537                                   Toy Masters (2014)\n",
              "150688    Plastic Galaxy: The Story of Star Wars Toys (2...\n",
              "153234                                Toy Reanimator (2002)\n",
              "159856                                   The Toy Box (1971)\n",
              "165423                 Demonic Toys: Personal Demons (2010)\n",
              "172439                                       Toyland (2007)\n",
              "174267                             Dreams of Toyland (1908)\n",
              "174765                                   Soviet Toys (1924)\n",
              "176651                                     Time Toys (2017)\n",
              "182187                                   Broken Toys (1935)\n",
              "182253                        Midnight in a Toy Shop (1930)\n",
              "189221                                  The Toymaker (2017)\n",
              "193227                                 Sick For Toys (2018)\n",
              "Name: title, dtype: object"
            ]
          },
          "metadata": {
            "tags": []
          },
          "execution_count": 55
        }
      ]
    },
    {
      "cell_type": "code",
      "metadata": {
        "id": "Vk0vmdS17isi",
        "colab_type": "code",
        "colab": {}
      },
      "source": [
        "yy = find_movies('.*water.*')"
      ],
      "execution_count": 0,
      "outputs": []
    },
    {
      "cell_type": "code",
      "metadata": {
        "id": "cZLjHuuk8QHW",
        "colab_type": "code",
        "outputId": "4272e0c1-a048-4140-9a8c-5c75e3614134",
        "colab": {
          "base_uri": "https://localhost:8080/",
          "height": 1088
        }
      },
      "source": [
        "yy"
      ],
      "execution_count": 0,
      "outputs": [
        {
          "output_type": "execute_result",
          "data": {
            "text/plain": [
              "movieId\n",
              "208                                       Waterworld (1995)\n",
              "265       Like Water for Chocolate (Como agua para choco...\n",
              "1565                                Head Above Water (1996)\n",
              "1945                               On the Waterfront (1954)\n",
              "2138                                  Watership Down (1978)\n",
              "2335                                   Waterboy, The (1998)\n",
              "3631                               It's in the Water (1998)\n",
              "4988                              White Water Summer (1987)\n",
              "5023                                 Waterdance, The (1992)\n",
              "5338                         Full Moon in Blue Water (1988)\n",
              "5351      Warm Water Under a Red Bridge (Akai hashi no s...\n",
              "5808                            Weight of Water, The (2000)\n",
              "5896                              New Waterford Girl (1999)\n",
              "6858               Knife in the Water (Nóz w wodzie) (1962)\n",
              "6972                           Watermelon Woman, The (1996)\n",
              "7814                                        Waterloo (1970)\n",
              "8019        Dark Water (Honogurai mizu no soko kara) (2002)\n",
              "8388                            Ring of Bright Water (1969)\n",
              "8900                                  Watermelon Man (1970)\n",
              "27261                   Water Drops on Burning Rocks (2000)\n",
              "27544                                      Waterboys (2001)\n",
              "27822                                     Open Water (2003)\n",
              "31447                             Magic in the Water (1995)\n",
              "32025                                  Walk on Water (2004)\n",
              "32844                                Waterloo Bridge (1940)\n",
              "34143                                     Dark Water (2005)\n",
              "43333                                          Water (2005)\n",
              "43967                                      Bongwater (1997)\n",
              "45730                              Lady in the Water (2006)\n",
              "48713       Mr. Conservative: Goldwater on Goldwater (2006)\n",
              "                                ...                        \n",
              "162598                             Deepwater Horizon (2016)\n",
              "163144                      Window Water Baby Moving (1959)\n",
              "164252                 Boats Out of Watermelon Rinds (2004)\n",
              "164749                H2O Just Add Water - The Movie (2011)\n",
              "166607                              The Water Margin (1972)\n",
              "166884                             Fish out of Water (2009)\n",
              "168006                        The Watermill Princess (1994)\n",
              "169018                                    Water Boyy (2015)\n",
              "170012                                Silvered Water (2014)\n",
              "170335                                     Red Water (2003)\n",
              "170805                      Her Love Boils Bathwater (2016)\n",
              "171269                            Oh Dem Watermelons (1965)\n",
              "173023    The Saga of the Viking Women and Their Voyage ...\n",
              "175115                                Treading Water (2013)\n",
              "175159             Water & Power: A California Heist (2017)\n",
              "175437                             Water, Wind, Dust (1989)\n",
              "176525                       Jago: A Life Underwater (2015)\n",
              "176803                          What the Waters Left Behind\n",
              "177115                                   Dark Waters (1993)\n",
              "180031                            The Shape of Water (2017)\n",
              "181105                                   Black Water (2017)\n",
              "182173                                  Water Babies (1935)\n",
              "182507                                   Black Water (1996)\n",
              "183027                                Water for Maya (2000)\n",
              "187125                              Head Above Water (1993)\n",
              "189149                                   Black Water (2018)\n",
              "189921                           Black Water Transit (2009)\n",
              "190709        Through Fire, Water and... Brass Pipes (1968)\n",
              "191397                                     Waterfall (2015)\n",
              "192407                                 Fear of Water (2015)\n",
              "Name: title, Length: 146, dtype: object"
            ]
          },
          "metadata": {
            "tags": []
          },
          "execution_count": 57
        }
      ]
    },
    {
      "cell_type": "code",
      "metadata": {
        "id": "8eerKKNE8RRn",
        "colab_type": "code",
        "outputId": "8e832b42-8a23-4fae-8a38-b9284fb09b0f",
        "colab": {
          "base_uri": "https://localhost:8080/",
          "height": 235
        }
      },
      "source": [
        "get_recommendations('The Shape of Water (2017)')"
      ],
      "execution_count": 0,
      "outputs": [
        {
          "output_type": "execute_result",
          "data": {
            "text/html": [
              "<div>\n",
              "<style scoped>\n",
              "    .dataframe tbody tr th:only-of-type {\n",
              "        vertical-align: middle;\n",
              "    }\n",
              "\n",
              "    .dataframe tbody tr th {\n",
              "        vertical-align: top;\n",
              "    }\n",
              "\n",
              "    .dataframe thead th {\n",
              "        text-align: right;\n",
              "    }\n",
              "</style>\n",
              "<table border=\"1\" class=\"dataframe\">\n",
              "  <thead>\n",
              "    <tr style=\"text-align: right;\">\n",
              "      <th></th>\n",
              "      <th>title</th>\n",
              "      <th>Jaccard</th>\n",
              "    </tr>\n",
              "    <tr>\n",
              "      <th>movieId</th>\n",
              "      <th></th>\n",
              "      <th></th>\n",
              "    </tr>\n",
              "  </thead>\n",
              "  <tbody>\n",
              "    <tr>\n",
              "      <th>180031</th>\n",
              "      <td>The Shape of Water (2017)</td>\n",
              "      <td>1052</td>\n",
              "    </tr>\n",
              "    <tr>\n",
              "      <th>79132</th>\n",
              "      <td>Inception (2010)</td>\n",
              "      <td>802</td>\n",
              "    </tr>\n",
              "    <tr>\n",
              "      <th>296</th>\n",
              "      <td>Pulp Fiction (1994)</td>\n",
              "      <td>782</td>\n",
              "    </tr>\n",
              "    <tr>\n",
              "      <th>58559</th>\n",
              "      <td>Dark Knight, The (2008)</td>\n",
              "      <td>775</td>\n",
              "    </tr>\n",
              "    <tr>\n",
              "      <th>2959</th>\n",
              "      <td>Fight Club (1999)</td>\n",
              "      <td>770</td>\n",
              "    </tr>\n",
              "  </tbody>\n",
              "</table>\n",
              "</div>"
            ],
            "text/plain": [
              "                             title  Jaccard\n",
              "movieId                                    \n",
              "180031   The Shape of Water (2017)     1052\n",
              "79132             Inception (2010)      802\n",
              "296            Pulp Fiction (1994)      782\n",
              "58559      Dark Knight, The (2008)      775\n",
              "2959             Fight Club (1999)      770"
            ]
          },
          "metadata": {
            "tags": []
          },
          "execution_count": 58
        }
      ]
    },
    {
      "cell_type": "code",
      "metadata": {
        "id": "da-T1IaY8-ZL",
        "colab_type": "code",
        "outputId": "34c8dd12-12ec-427c-c2d2-39435913b4b2",
        "colab": {
          "base_uri": "https://localhost:8080/",
          "height": 235
        }
      },
      "source": [
        "get_recommendations('Pulp Fiction (1994)')"
      ],
      "execution_count": 0,
      "outputs": [
        {
          "output_type": "execute_result",
          "data": {
            "text/html": [
              "<div>\n",
              "<style scoped>\n",
              "    .dataframe tbody tr th:only-of-type {\n",
              "        vertical-align: middle;\n",
              "    }\n",
              "\n",
              "    .dataframe tbody tr th {\n",
              "        vertical-align: top;\n",
              "    }\n",
              "\n",
              "    .dataframe thead th {\n",
              "        text-align: right;\n",
              "    }\n",
              "</style>\n",
              "<table border=\"1\" class=\"dataframe\">\n",
              "  <thead>\n",
              "    <tr style=\"text-align: right;\">\n",
              "      <th></th>\n",
              "      <th>title</th>\n",
              "      <th>Jaccard</th>\n",
              "    </tr>\n",
              "    <tr>\n",
              "      <th>movieId</th>\n",
              "      <th></th>\n",
              "      <th></th>\n",
              "    </tr>\n",
              "  </thead>\n",
              "  <tbody>\n",
              "    <tr>\n",
              "      <th>296</th>\n",
              "      <td>Pulp Fiction (1994)</td>\n",
              "      <td>76363</td>\n",
              "    </tr>\n",
              "    <tr>\n",
              "      <th>318</th>\n",
              "      <td>Shawshank Redemption, The (1994)</td>\n",
              "      <td>48592</td>\n",
              "    </tr>\n",
              "    <tr>\n",
              "      <th>593</th>\n",
              "      <td>Silence of the Lambs, The (1991)</td>\n",
              "      <td>46282</td>\n",
              "    </tr>\n",
              "    <tr>\n",
              "      <th>356</th>\n",
              "      <td>Forrest Gump (1994)</td>\n",
              "      <td>40312</td>\n",
              "    </tr>\n",
              "    <tr>\n",
              "      <th>50</th>\n",
              "      <td>Usual Suspects, The (1995)</td>\n",
              "      <td>38088</td>\n",
              "    </tr>\n",
              "  </tbody>\n",
              "</table>\n",
              "</div>"
            ],
            "text/plain": [
              "                                    title  Jaccard\n",
              "movieId                                           \n",
              "296                   Pulp Fiction (1994)    76363\n",
              "318      Shawshank Redemption, The (1994)    48592\n",
              "593      Silence of the Lambs, The (1991)    46282\n",
              "356                   Forrest Gump (1994)    40312\n",
              "50             Usual Suspects, The (1995)    38088"
            ]
          },
          "metadata": {
            "tags": []
          },
          "execution_count": 59
        }
      ]
    },
    {
      "cell_type": "code",
      "metadata": {
        "id": "bGoLNrbu9JJ8",
        "colab_type": "code",
        "outputId": "5bd368aa-751d-476c-ae00-235024fa64be",
        "colab": {
          "base_uri": "https://localhost:8080/",
          "height": 306
        }
      },
      "source": [
        "find_movies('friday')"
      ],
      "execution_count": 0,
      "outputs": [
        {
          "output_type": "execute_result",
          "data": {
            "text/plain": [
              "movieId\n",
              "69                                            Friday (1995)\n",
              "1974                                 Friday the 13th (1980)\n",
              "1975                          Friday the 13th Part 2 (1981)\n",
              "1976                      Friday the 13th Part 3: 3D (1982)\n",
              "1977      Friday the 13th Part IV: The Final Chapter (1984)\n",
              "1978         Friday the 13th Part V: A New Beginning (1985)\n",
              "1979            Friday the 13th Part VI: Jason Lives (1986)\n",
              "1980         Friday the 13th Part VII: The New Blood (1988)\n",
              "1981      Friday the 13th Part VIII: Jason Takes Manhatt...\n",
              "5874                               Friday After Next (2002)\n",
              "7880                    Friday Night (Vendredi Soir) (2002)\n",
              "8937                             Friday Night Lights (2004)\n",
              "66783                                Friday the 13th (2009)\n",
              "120408                                 Friday Foster (1975)\n",
              "161157                            Friday (Pyatnitsa) (2016)\n",
              "Name: title, dtype: object"
            ]
          },
          "metadata": {
            "tags": []
          },
          "execution_count": 60
        }
      ]
    },
    {
      "cell_type": "code",
      "metadata": {
        "id": "nijE7Ukr9UG3",
        "colab_type": "code",
        "outputId": "4ef99b2f-e4e7-40f3-ad38-53326616354f",
        "colab": {
          "base_uri": "https://localhost:8080/",
          "height": 235
        }
      },
      "source": [
        "get_recommendations('Friday the 13th (1980)')"
      ],
      "execution_count": 0,
      "outputs": [
        {
          "output_type": "execute_result",
          "data": {
            "text/html": [
              "<div>\n",
              "<style scoped>\n",
              "    .dataframe tbody tr th:only-of-type {\n",
              "        vertical-align: middle;\n",
              "    }\n",
              "\n",
              "    .dataframe tbody tr th {\n",
              "        vertical-align: top;\n",
              "    }\n",
              "\n",
              "    .dataframe thead th {\n",
              "        text-align: right;\n",
              "    }\n",
              "</style>\n",
              "<table border=\"1\" class=\"dataframe\">\n",
              "  <thead>\n",
              "    <tr style=\"text-align: right;\">\n",
              "      <th></th>\n",
              "      <th>title</th>\n",
              "      <th>Jaccard</th>\n",
              "    </tr>\n",
              "    <tr>\n",
              "      <th>movieId</th>\n",
              "      <th></th>\n",
              "      <th></th>\n",
              "    </tr>\n",
              "  </thead>\n",
              "  <tbody>\n",
              "    <tr>\n",
              "      <th>1974</th>\n",
              "      <td>Friday the 13th (1980)</td>\n",
              "      <td>1840</td>\n",
              "    </tr>\n",
              "    <tr>\n",
              "      <th>593</th>\n",
              "      <td>Silence of the Lambs, The (1991)</td>\n",
              "      <td>1180</td>\n",
              "    </tr>\n",
              "    <tr>\n",
              "      <th>1258</th>\n",
              "      <td>Shining, The (1980)</td>\n",
              "      <td>1110</td>\n",
              "    </tr>\n",
              "    <tr>\n",
              "      <th>1214</th>\n",
              "      <td>Alien (1979)</td>\n",
              "      <td>1072</td>\n",
              "    </tr>\n",
              "    <tr>\n",
              "      <th>260</th>\n",
              "      <td>Star Wars: Episode IV - A New Hope (1977)</td>\n",
              "      <td>1070</td>\n",
              "    </tr>\n",
              "  </tbody>\n",
              "</table>\n",
              "</div>"
            ],
            "text/plain": [
              "                                             title  Jaccard\n",
              "movieId                                                    \n",
              "1974                        Friday the 13th (1980)     1840\n",
              "593               Silence of the Lambs, The (1991)     1180\n",
              "1258                           Shining, The (1980)     1110\n",
              "1214                                  Alien (1979)     1072\n",
              "260      Star Wars: Episode IV - A New Hope (1977)     1070"
            ]
          },
          "metadata": {
            "tags": []
          },
          "execution_count": 61
        }
      ]
    },
    {
      "cell_type": "code",
      "metadata": {
        "id": "aBt8nlV7EHMf",
        "colab_type": "code",
        "colab": {}
      },
      "source": [
        "# Fetch a single <1MB file using the raw GitHub URL.\n",
        "!curl --remote-name \\\n",
        "     -H 'Accept: application/vnd.github.v3.raw' \\\n",
        "     --location https://api.github.com/repos/jakevdp/PythonDataScienceHandbook/contents/notebooks/data/california_cities.csv"
      ],
      "execution_count": 0,
      "outputs": []
    },
    {
      "cell_type": "code",
      "metadata": {
        "id": "7ju3sL5-9cnk",
        "colab_type": "code",
        "colab": {}
      },
      "source": [
        "diag = co_occurrence.diagonal()"
      ],
      "execution_count": 0,
      "outputs": []
    },
    {
      "cell_type": "code",
      "metadata": {
        "id": "7knJ0_cc-I_h",
        "colab_type": "code",
        "outputId": "5f74a967-ed3a-41af-cb24-fa61c5d84f5f",
        "colab": {
          "base_uri": "https://localhost:8080/",
          "height": 34
        }
      },
      "source": [
        "diag"
      ],
      "execution_count": 0,
      "outputs": [
        {
          "output_type": "execute_result",
          "data": {
            "text/plain": [
              "array([    0, 50986, 12348, ...,     0,     0,     1], dtype=int32)"
            ]
          },
          "metadata": {
            "tags": []
          },
          "execution_count": 64
        }
      ]
    },
    {
      "cell_type": "code",
      "metadata": {
        "id": "ccThyrbu-fUh",
        "colab_type": "code",
        "outputId": "6795698f-0ff2-4be1-f4fa-fc196c876802",
        "colab": {
          "base_uri": "https://localhost:8080/",
          "height": 34
        }
      },
      "source": [
        "len(diag)"
      ],
      "execution_count": 0,
      "outputs": [
        {
          "output_type": "execute_result",
          "data": {
            "text/plain": [
              "193887"
            ]
          },
          "metadata": {
            "tags": []
          },
          "execution_count": 65
        }
      ]
    },
    {
      "cell_type": "code",
      "metadata": {
        "id": "f0pCvgA6-jeo",
        "colab_type": "code",
        "outputId": "a7a0f61a-1a20-421e-9295-3e505556ae76",
        "colab": {
          "base_uri": "https://localhost:8080/",
          "height": 34
        }
      },
      "source": [
        "diag[5]"
      ],
      "execution_count": 0,
      "outputs": [
        {
          "output_type": "execute_result",
          "data": {
            "text/plain": [
              "5069"
            ]
          },
          "metadata": {
            "tags": []
          },
          "execution_count": 66
        }
      ]
    },
    {
      "cell_type": "code",
      "metadata": {
        "id": "lytae4XM-qZ2",
        "colab_type": "code",
        "colab": {}
      },
      "source": [
        ""
      ],
      "execution_count": 0,
      "outputs": []
    }
  ]
}