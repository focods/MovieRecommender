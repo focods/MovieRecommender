{
  "nbformat": 4,
  "nbformat_minor": 0,
  "metadata": {
    "colab": {
      "name": "MovieRecommender.ipynb",
      "version": "0.3.2",
      "provenance": [],
      "collapsed_sections": []
    },
    "kernelspec": {
      "name": "python3",
      "display_name": "Python 3"
    }
  },
  "cells": [
    {
      "cell_type": "markdown",
      "metadata": {
        "id": "6pcMEHx45VBM",
        "colab_type": "text"
      },
      "source": [
        "# Learn Sparse Arrays by Building a Movie Recommender\n"
      ]
    },
    {
      "cell_type": "markdown",
      "metadata": {
        "id": "hae2C0NCxzNX",
        "colab_type": "text"
      },
      "source": [
        "We will build a movie recommendation system to learn scipy's sparse array handling. We'll use data from the [GroupLens](https://grouplens.org) project, an effort by the University of Minnesota Department of Computer Science.  Among other things, GroupLens researches recommender systems."
      ]
    },
    {
      "cell_type": "code",
      "metadata": {
        "id": "XC-usFZjtEcd",
        "colab_type": "code",
        "colab": {}
      },
      "source": [
        "#requisite libraries:\n",
        "import numpy as np\n",
        "import pandas as pd\n",
        "from urllib.request import urlopen\n"
      ],
      "execution_count": 0,
      "outputs": []
    },
    {
      "cell_type": "markdown",
      "metadata": {
        "id": "CmA9qkn05p1r",
        "colab_type": "text"
      },
      "source": [
        "## Data Files\n",
        "The data for this exercise comes from publicly available datasets maintained and provided by GroupLens.  The data files are available [here](http://grouplens.org/datasets/).  Please see the [Readme](http://files.grouplens.org/datasets/movielens/ml-latest-README.html) for a description of the complete dataset.\n",
        "\n",
        "For our purposes, we need only two files from the complete dataset.  These two files files, nearly 1 GB in size have been downloaded, read into pandas dataframes, pickled and uploaded to AWS S3 storage so that they are available for easy access.\n",
        "\n",
        "**These files may disappear. If you intend to continue using this data after tonights session, please get your own copy from the source.**\n",
        "\n",
        "For this exercise, we need the movies.csv file and the ratings.csv file.\n",
        "\n",
        "### Movies"
      ]
    },
    {
      "cell_type": "code",
      "metadata": {
        "id": "2A90x3t_tm7a",
        "colab_type": "code",
        "cellView": "both",
        "colab": {}
      },
      "source": [
        "# read pickled data files\n",
        "path = 'https://focods.s3.us-east-2.amazonaws.com/movies.pcl'\n",
        "movies = pd.read_pickle(urlopen(path), compression=None)\n"
      ],
      "execution_count": 0,
      "outputs": []
    },
    {
      "cell_type": "code",
      "metadata": {
        "id": "SICoJVrohEBE",
        "colab_type": "code",
        "cellView": "both",
        "colab": {}
      },
      "source": [
        "#@title\n",
        "movies.head()"
      ],
      "execution_count": 0,
      "outputs": []
    },
    {
      "cell_type": "code",
      "metadata": {
        "id": "qev50_o46JHA",
        "colab_type": "code",
        "colab": {}
      },
      "source": [
        "len(movies)"
      ],
      "execution_count": 0,
      "outputs": []
    },
    {
      "cell_type": "markdown",
      "metadata": {
        "id": "hhyLdodV8ihz",
        "colab_type": "text"
      },
      "source": [
        "### Ratings"
      ]
    },
    {
      "cell_type": "code",
      "metadata": {
        "id": "muECfnBGkbmt",
        "colab_type": "code",
        "colab": {}
      },
      "source": [
        "#Ratings: (takes about 20 seconds)\n",
        "path = 'https://focods.s3.us-east-2.amazonaws.com/ratings.pcl'\n",
        "ratings = pd.read_pickle(urlopen(path), compression=None)\n"
      ],
      "execution_count": 0,
      "outputs": []
    },
    {
      "cell_type": "code",
      "metadata": {
        "id": "CvD--wK_obEB",
        "colab_type": "code",
        "colab": {}
      },
      "source": [
        "ratings.head()"
      ],
      "execution_count": 0,
      "outputs": []
    },
    {
      "cell_type": "code",
      "metadata": {
        "id": "fnS51r6w6WUQ",
        "colab_type": "code",
        "colab": {}
      },
      "source": [
        "len(ratings)"
      ],
      "execution_count": 0,
      "outputs": []
    },
    {
      "cell_type": "markdown",
      "metadata": {
        "id": "iPeUTZW59KwV",
        "colab_type": "text"
      },
      "source": [
        "From the [Readme](http://files.grouplens.org/datasets/movielens/ml-latest-README.html), the definition of the  rating column is:\n",
        "> >Ratings are made on a 5-star scale, with half-star increments (0.5 stars - 5.0 stars).\n",
        "\n",
        "For our purposes let's just look at the positive ratings, i.e., those ratings greater than 3.0. Our recommender system will essentially answer\n",
        "*if you liked Movie X, you might like Movie Y*"
      ]
    },
    {
      "cell_type": "code",
      "metadata": {
        "id": "lI3tlaQtqUI1",
        "colab_type": "code",
        "colab": {}
      },
      "source": [
        "# get just the good ratings\n",
        "good_ratings = ratings.query('rating > 3.0')"
      ],
      "execution_count": 0,
      "outputs": []
    },
    {
      "cell_type": "code",
      "metadata": {
        "id": "fXMHNScz6bpX",
        "colab_type": "code",
        "colab": {}
      },
      "source": [
        "len(good_ratings)"
      ],
      "execution_count": 0,
      "outputs": []
    },
    {
      "cell_type": "markdown",
      "metadata": {
        "id": "gxv19MIM6ovR",
        "colab_type": "text"
      },
      "source": [
        "## The Co-Occurrence Matrix\n",
        "\n",
        "The heart of this recommender system is a co-occurrence matrix. This matrix has dimensions *movies x movies*. Cell $c_{ij}$ captures the number of users who liked movie $i$ **and** movie $j$.  Essentially the recommender will, for a given argument movie, find the other movies that users also liked and return the movies that were most liked.\n",
        "\n",
        "### Make Users x Movies Sparse Array\n",
        "\n",
        "We'll calculate the cooccurance matrix from an intermediate matrix that shows which users liked which movies. This matrix conceptually has one row for each user and one column for each movie. We can use the `UserId` and `MovieId` columns in the `good_ratings` data frame to index this matrix which we'll call `user_ratings`. Cell $ur_{ij}$ in `user_ratings` will contain the value $1$ if user $i$ liked movie $j$ otherwise 0.\n",
        "\n",
        "How big will the `user_ratings` matrix be?\n"
      ]
    },
    {
      "cell_type": "code",
      "metadata": {
        "id": "pT1xiq8yJsJn",
        "colab_type": "code",
        "colab": {}
      },
      "source": [
        "n_users = good_ratings.userId.max() +1 # to count for index 0\n",
        "n_movies = good_ratings.movieId.max() +1 # to count for index 0\n",
        "\n",
        "print (f'Max userId: {n_users}')\n",
        "print (f'Max movieId: {n_movies}')\n",
        "print(f'Size of users x movies: {n_users*n_movies}')"
      ],
      "execution_count": 0,
      "outputs": []
    },
    {
      "cell_type": "markdown",
      "metadata": {
        "id": "UDEfZkjNK7Ar",
        "colab_type": "text"
      },
      "source": [
        "55 billion cells? *Yikes!* Sparse Arrays to the rescue!!"
      ]
    },
    {
      "cell_type": "markdown",
      "metadata": {
        "id": "cNGMA-LYLKuf",
        "colab_type": "text"
      },
      "source": [
        "Most users like a tiny subset of the total number of movies which implies that most of the cells in `user_ratings` will be zero. A matrix in which most of its values are 0 is called a *sparse matrix*.   We can drastically reduce the memory requirements of a matrix by storing it in sparse form. THis means storing just the non-zero values and some means of determining the row and column coordinates for the non-zero values.\n",
        "\n",
        "`scipy.sparse` provides a set of classes, methods and utility functions for manipulating sparse matrices. See [scipy.sparse](https://docs.scipy.org/doc/scipy/reference/sparse.html).\n",
        "\n",
        "There are seven types of sparse matrices in implemented `scipy.sparse`.  Our recommender system will be doing manipulations by row, so we'll select the  compressed sparse row or [csr_matrix](https://docs.scipy.org/doc/scipy/reference/generated/scipy.sparse.csr_matrix.html#scipy.sparse.csr_matrix) class."
      ]
    },
    {
      "cell_type": "code",
      "metadata": {
        "id": "6P0oANogkBSB",
        "colab_type": "code",
        "colab": {}
      },
      "source": [
        "from scipy.sparse import csr_matrix"
      ],
      "execution_count": 0,
      "outputs": []
    },
    {
      "cell_type": "markdown",
      "metadata": {
        "id": "IBufdxy7RWcT",
        "colab_type": "text"
      },
      "source": [
        "We will create the user ratings matrix using the csr_function below. Note that we are following the syntax in the second example shown on the [csr_matrix](https://docs.scipy.org/doc/scipy/reference/generated/scipy.sparse.csr_matrix.html#scipy.sparse.csr_matrix) page. In that example, the first argument to `csr_matrix` is a tuple: `(d, (r, c))` where d is the data vector, r is a vector of row indices and c is a vector of column indices. Vectors d, r and c must all be of the same length. This produces $csr[r[i],c[i]] = d[i$] and implicitly 0 everywhere else.\n",
        "\n",
        "In our case, we just need the value of  $1$ to indicate that user $i$ liked movie $j$ and we need as many $1$'s as we have good ratings."
      ]
    },
    {
      "cell_type": "code",
      "metadata": {
        "id": "QtD8Nq8al0pR",
        "colab_type": "code",
        "colab": {}
      },
      "source": [
        "user_ratings = csr_matrix(   ([1]*len(good_ratings), #data vector\n",
        "                              (good_ratings.userId, good_ratings.movieId)), # row and column vectors, resp.\n",
        "                          dtype=np.int32) #element data type\n"
      ],
      "execution_count": 0,
      "outputs": []
    },
    {
      "cell_type": "code",
      "metadata": {
        "id": "FLi6IxvfrVbz",
        "colab_type": "code",
        "colab": {}
      },
      "source": [
        "user_ratings"
      ],
      "execution_count": 0,
      "outputs": []
    },
    {
      "cell_type": "markdown",
      "metadata": {
        "id": "zrjN48Sb68ih",
        "colab_type": "text"
      },
      "source": [
        "## Calculate the Co-occurrence Matrix\n",
        "The dimensions of `user_ratings` (shorthand $U$) is *users x movies*,  its transpose is of dimension *movies x users*, then $U^TU$ is of dimension *movies x  movies*. Let:\n",
        "$$\n",
        "C = U^TU\n",
        "$$\n",
        "Let's look at cell $C_{i,j}$. From the definition of matrix multiplication,\n",
        "$$\n",
        "C_{i,j} = \\sum{U^T_{i,\\centerdot}*U_{\\centerdot, j}}\n",
        "$$\n",
        "\n",
        "In other words, $C_{i,j}$ is the sum of the product of the $i^{th}$ row of $U$'s transpose and the $j^{th}$ column of $U$.\n",
        "\n",
        "Note that $U^T_{i,\\centerdot}$ is just $U_{\\centerdot,i}$, so term being summed above becomes $U_{\\centerdot,i}*U_{\\centerdot, j}$ which is element-wise product of the $i^{th}$ column of $U$ and the $j^{th}$ column of $U$.\n",
        "The $i^{th}$ column of $U$ indicates whether a user liked movie $i$ and the $j^{th}$ column of $U$ indicates whether a user liked movie $j$. Multiplying the two columns together produces a  $1$ if a user liked _both_ movies $i$ and $j$. Add up the users who liked  both movies $i$ and $j$ to get a count of the number of users who liked both movies.\n",
        "So $C_{i,j}$ contains the count of the users that liked both movie $i$ and movie $j$.\n",
        "\n",
        "Note that $C$ is symmetric: $C_{i,j} = C_{j,i}$, that is to say the number of users that liked movies $i$ and $j$ is the same as the number of users that liked movies $j$ and $i$.\n",
        "Note further that $C_{i,i}$, the main diagonal of $C$, gives a count of the number of users that liked movie $i$.\n",
        "\n",
        "Let's calculate that matrix!\n"
      ]
    },
    {
      "cell_type": "code",
      "metadata": {
        "id": "CCh49Meuo9IY",
        "colab_type": "code",
        "colab": {}
      },
      "source": [
        "# takes about 1 minute to run\n",
        "co_occurrence = user_ratings.transpose().dot(user_ratings)"
      ],
      "execution_count": 0,
      "outputs": []
    },
    {
      "cell_type": "code",
      "metadata": {
        "id": "aotrfEf5pDoL",
        "colab_type": "code",
        "colab": {}
      },
      "source": [
        "co_occurrence"
      ],
      "execution_count": 0,
      "outputs": []
    },
    {
      "cell_type": "markdown",
      "metadata": {
        "id": "BOsBURJ_FEP9",
        "colab_type": "text"
      },
      "source": [
        "The shape of the co_occurence matrix is movies x movies. **the cell co_occurrence[i,j] is the number of users who liked movie i AND movie j**"
      ]
    },
    {
      "cell_type": "code",
      "metadata": {
        "id": "xJ14rNntyaiv",
        "colab_type": "code",
        "colab": {}
      },
      "source": [
        "# will need the total number of likes for each movie later for Jaccard scoring\n",
        "# total likes of each movie is main diagonal of co_occurrence matrix\n",
        "tot_likes = co_occurrence.diagonal()\n",
        "tot_likes.shape\n"
      ],
      "execution_count": 0,
      "outputs": []
    },
    {
      "cell_type": "code",
      "metadata": {
        "id": "hU2iYOQlaWiE",
        "colab_type": "code",
        "colab": {}
      },
      "source": [
        "type(tot_likes)"
      ],
      "execution_count": 0,
      "outputs": []
    },
    {
      "cell_type": "markdown",
      "metadata": {
        "id": "DL-9alw_aEcy",
        "colab_type": "text"
      },
      "source": [
        "Notice that the result of `diagonal()` is a dense `numpy.ndarray`\n",
        "\n",
        "Some house keeping is in order. $C_{i,i} \\geq C_{i,j} \\forall j$ which is to say that the number of times movie $i$ is liked is at least as large as the number of times movie $i$ paired with any movie $j$ is liked. The users that liked the pair $(i,j)$ is a subset of the users that liked movie $i$.  So recommendations for movie $i$ based pair-wise likes will always include movie $i$. A system that produces a recommendation of the same movie that you just liked is probably less than ideal. Imagine getting a recommendation to the effect \"if you liked *The Phantom Menace* you might also like *The Phantom Menace*.\" Not very useful.\n",
        "\n",
        "We can prevent this simply by zeroing out the main diagonal of the co-occurrence matrix."
      ]
    },
    {
      "cell_type": "code",
      "metadata": {
        "id": "rJtyR8BY3CEI",
        "colab_type": "code",
        "colab": {}
      },
      "source": [
        "# zero out the main diagonal, so that recommendations aren't self-referential\n",
        "co_occurrence.setdiag(0)\n",
        "# just to be tidy, eliminate any zeros introduced above\n",
        "co_occurrence.eliminate_zeros()\n",
        "co_occurrence"
      ],
      "execution_count": 0,
      "outputs": []
    },
    {
      "cell_type": "markdown",
      "metadata": {
        "id": "MPVDelQD9sWZ",
        "colab_type": "text"
      },
      "source": [
        "## Step-by-Step Recommender"
      ]
    },
    {
      "cell_type": "markdown",
      "metadata": {
        "id": "o98lSw877dGC",
        "colab_type": "text"
      },
      "source": [
        "### First, Some Helper Routines\n",
        "\n",
        "We'll create some functions to make life easy and do index-to-string and string-to-index conversion"
      ]
    },
    {
      "cell_type": "code",
      "metadata": {
        "id": "K0nkpmDJp_WW",
        "colab_type": "code",
        "colab": {}
      },
      "source": [
        "def get_movieId(moviename):\n",
        "  \"\"\"\n",
        "  return the movie id given the title/moviename\n",
        "  \"\"\"\n",
        "  mvindex = movies.query('title == @moviename').index\n",
        "  if len(mvindex) == 0:\n",
        "    raise Exception(f'Invalid movie name: {moviename}')\n",
        "  return mvindex[0] # just the first one in case there were multiples\n",
        "  "
      ],
      "execution_count": 0,
      "outputs": []
    },
    {
      "cell_type": "code",
      "metadata": {
        "id": "1WHKUfFHwen1",
        "colab_type": "code",
        "colab": {}
      },
      "source": [
        "#run this cell to test invalid input\n",
        "#get_movieId('jdkjkj')"
      ],
      "execution_count": 0,
      "outputs": []
    },
    {
      "cell_type": "code",
      "metadata": {
        "id": "DSAuwC-xxPCk",
        "colab_type": "code",
        "colab": {}
      },
      "source": [
        "get_movieId('Father of the Bride Part II (1995)')"
      ],
      "execution_count": 0,
      "outputs": []
    },
    {
      "cell_type": "code",
      "metadata": {
        "id": "so2f0i15xHl0",
        "colab_type": "code",
        "colab": {}
      },
      "source": [
        "def find_movies(title_regexp):\n",
        "  \"\"\"\n",
        "  searches the list of movies with a reg exp\n",
        "  \"\"\"\n",
        "  return movies.title[movies.title.str.match(title_regexp, case=False)]"
      ],
      "execution_count": 0,
      "outputs": []
    },
    {
      "cell_type": "code",
      "metadata": {
        "id": "MxgSjoRz7ZWT",
        "colab_type": "code",
        "colab": {}
      },
      "source": [
        "find_movies('.*toy story.*')"
      ],
      "execution_count": 0,
      "outputs": []
    },
    {
      "cell_type": "code",
      "metadata": {
        "id": "M17JaiPwgpMz",
        "colab_type": "code",
        "colab": {}
      },
      "source": [
        ""
      ],
      "execution_count": 0,
      "outputs": []
    },
    {
      "cell_type": "markdown",
      "metadata": {
        "id": "DBPgXsmkgqUt",
        "colab_type": "text"
      },
      "source": [
        "### Build the Recommender Step-by-Step"
      ]
    },
    {
      "cell_type": "code",
      "metadata": {
        "colab_type": "code",
        "id": "dB3zrD7a8sVq",
        "colab": {}
      },
      "source": [
        "#get the movieId for the movie for which we'll make recommendations\n",
        "# fob = Father of the Bride\n",
        "fob = get_movieId('Father of the Bride Part II (1995)')\n",
        "\n",
        "# what other movies did the people who liked FOB like?\n",
        "# this is the ROW in the co_occurrence matrix corresponding to the movieId\n",
        "fob_cohorts = co_occurrence.getrow(fob)\n",
        "fob_cohorts"
      ],
      "execution_count": 0,
      "outputs": []
    },
    {
      "cell_type": "code",
      "metadata": {
        "colab_type": "code",
        "id": "EbZhaOTu8r5l",
        "colab": {}
      },
      "source": [
        "# the movieIds of the cohorts\n",
        "fob_cohort_ids = fob_cohorts.indices #i.e. the column indexes which are movieIds\n",
        "\n",
        "# the number of times each cohort was liked\n",
        "fob_cohort_vals = fob_cohorts.data"
      ],
      "execution_count": 0,
      "outputs": []
    },
    {
      "cell_type": "code",
      "metadata": {
        "colab_type": "code",
        "id": "tWTfm3gx8mCh",
        "colab": {}
      },
      "source": [
        "#get the top 5 cohort ids\n",
        "\n",
        "#sort the number of times liked into ascending order\n",
        "fob_cohort_sort = fob_cohort_vals.argsort()\n",
        "\n",
        "# slicer for the last 5 elements of a vector in reverse order\n",
        "slicer = slice(-1,-6,-1)\n",
        "\n",
        "\n",
        "# grab the last 5 id's and times liked using the slicer\n",
        "top5_ids  = fob_cohort_ids [fob_cohort_sort[slicer]]\n",
        "top5_vals = fob_cohort_vals[fob_cohort_sort[slicer]]"
      ],
      "execution_count": 0,
      "outputs": []
    },
    {
      "cell_type": "code",
      "metadata": {
        "id": "EuIPQybUuqtP",
        "colab_type": "code",
        "colab": {}
      },
      "source": [
        "top5_ids"
      ],
      "execution_count": 0,
      "outputs": []
    },
    {
      "cell_type": "code",
      "metadata": {
        "id": "A2dYWehKuwnf",
        "colab_type": "code",
        "colab": {}
      },
      "source": [
        "top5_vals"
      ],
      "execution_count": 0,
      "outputs": []
    },
    {
      "cell_type": "code",
      "metadata": {
        "id": "WprEZ9hmwr4m",
        "colab_type": "code",
        "colab": {}
      },
      "source": [
        "# look up the titles assoc'd with the top 5 ids\n",
        "movies.loc[top5_ids].title"
      ],
      "execution_count": 0,
      "outputs": []
    },
    {
      "cell_type": "markdown",
      "metadata": {
        "id": "I0OsWVdYiV59",
        "colab_type": "text"
      },
      "source": [
        "So the people who liked *Father of the Bride* also liked *Toy Story*, *Forrest Gump* etc."
      ]
    },
    {
      "cell_type": "markdown",
      "metadata": {
        "id": "qrWyaycdzg9Z",
        "colab_type": "text"
      },
      "source": [
        "## Jaccard Normalization\n",
        "\n",
        "Who doesn't like *Toy Story* or *Forrest Gump*?  Chances are decent that whatever else a user liked, that user also liked one of these two popular movies. So the algorithm above which sorts just on the number of users that liked a movie, will have a tendency to recommend the most popular movies regardless of the argument movie.\n",
        "\n",
        "We can employ a normalization technique in our scoring that will reduce this tendency. The technique is called [Jaccard Normalization](https://en.wikipedia.org/wiki/Jaccard_index) and it essentially is an *intersection over union (IOU)* computation. We calculate the number of people who liked *both* movies A and B (the intersection) and divide that count by the number of people who liked *either* movies  A or B (the union). The higher the ratio, the higher the relevance of movie B to movie A.\n",
        "\n",
        "The figure below illustrates Jaccard Normalization for two pairs of movies: *Father of the Bride* and *Toy Story* on the left side of the figure and *Father of the Bride* and *Grumpier Old Men* on the right. In the case of *Toy Story* a lot of people liked it, so the denominator of the Jaccard index will be much larger than the denominator in the case of *Grumpier*.  Even though the pair-like in both cases is roughly the same, the denominators of the two Jaccards are quite a bit different. Thus the Jaccard index helps to prevent the recommendation alogorithm from always recommending the most popular movies."
      ]
    },
    {
      "cell_type": "code",
      "metadata": {
        "id": "B49FEV69hKdC",
        "colab_type": "code",
        "cellView": "form",
        "colab": {}
      },
      "source": [
        "#@title\n",
        "\n",
        "import matplotlib.pyplot as plt\n",
        "\n",
        "%matplotlib inline\n",
        "from matplotlib_venn import venn2\n",
        "\n",
        "def get_subsets(m1, m2):\n",
        "  mid1 = get_movieId(m1)\n",
        "  mid2 = get_movieId(m2)\n",
        "  tot_likes1 = tot_likes[mid1]\n",
        "  tot_likes2 = tot_likes[mid2]\n",
        "\n",
        "  tot_likesBoth = co_occurrence.getcol(mid2).toarray()[mid1][0]\n",
        "  \n",
        "  return (tot_likes1-tot_likesBoth, tot_likes2-tot_likesBoth, tot_likesBoth)\n",
        "\n",
        "fig = plt.figure(figsize=(10,8))\n",
        "fig.suptitle('Jaccard Normalization')\n",
        "ax1 = plt.subplot(121)\n",
        "\n",
        "p1 = ('Father of the Bride Part II (1995)','Toy Story (1995)')\n",
        "s1 = get_subsets(*p1)\n",
        "j1 = s1[2]/(s1[0]+s1[1]+s1[2])\n",
        "venn2(ax=ax1, subsets = s1, set_labels=p1)\n",
        "ax1.set_title(f'Jaccard = {j1:.2f}')\n",
        "\n",
        "ax2 = plt.subplot(122)\n",
        "\n",
        "p2 = ('Father of the Bride Part II (1995)','Grumpier Old Men (1995)')\n",
        "s2 = get_subsets(*p2)\n",
        "j2 = s2[2]/(s2[0]+s2[1]+s2[2])\n",
        "venn2(ax=ax2, subsets = s2, set_labels=p2)\n",
        "ax2.set_title(f'Jaccard = {j2:.2f}')\n",
        "\n",
        "plt.show()\n"
      ],
      "execution_count": 0,
      "outputs": []
    },
    {
      "cell_type": "markdown",
      "metadata": {
        "id": "JXEq3Vgbp9f-",
        "colab_type": "text"
      },
      "source": [
        "### Jaccard Step-by-Step\n",
        "\n",
        "In this sectioin we'll follow the algorithm from the previous section,  but introduce Jaccard normalization."
      ]
    },
    {
      "cell_type": "code",
      "metadata": {
        "colab_type": "code",
        "id": "ALEIqvt6qa9y",
        "colab": {}
      },
      "source": [
        "#get the movieId for the movie for which we'll make recommendations\n",
        "# fob = Father of the Bride\n",
        "fob = get_movieId('Father of the Bride Part II (1995)')\n",
        "\n",
        "# what other movies did the people who liked FOB like?\n",
        "# this is the ROW in the co_occurrence matrix corresponding to the movieId\n",
        "fob_cohorts = co_occurrence.getrow(fob)"
      ],
      "execution_count": 0,
      "outputs": []
    },
    {
      "cell_type": "code",
      "metadata": {
        "colab_type": "code",
        "id": "P3N9MWAkqa95",
        "colab": {}
      },
      "source": [
        "# the movieIds of the cohorts\n",
        "fob_cohort_ids = fob_cohorts.indices #i.e. the column indexes which are movieIds\n",
        "\n",
        "# the number of times each cohort was liked\n",
        "fob_cohort_vals = fob_cohorts.data"
      ],
      "execution_count": 0,
      "outputs": []
    },
    {
      "cell_type": "markdown",
      "metadata": {
        "id": "rnkSD1_sqlOd",
        "colab_type": "text"
      },
      "source": [
        "#### Here's the Jaccard Calculation\n",
        "\n",
        "The Jaccard index for two movies $A$ and $B$ is:\n",
        "$$\n",
        "J(A,B) = \\frac{|A \\cap B|} {|A \\cup B|} = \\frac{|A \\cap B|} {|A| + |B| - |A \\cap B|}\n",
        "$$"
      ]
    },
    {
      "cell_type": "code",
      "metadata": {
        "id": "c-fQiBHbq4Le",
        "colab_type": "code",
        "colab": {}
      },
      "source": [
        "#calculate Jaccard scores from the number of likes\n",
        "# Father of the Bride is Movie A, every other movie is a movie B\n",
        "fob_likes = tot_likes[fob]\n",
        "\n",
        "# number of times each cohort of Father of Bride was liked\n",
        "fob_cohort_likes = tot_likes[fob_cohort_ids]\n",
        "\n",
        "# now calculate the Jaccard\n",
        "fob_jaccard = fob_cohort_vals/(fob_likes + fob_cohort_likes - fob_cohort_vals)\n",
        "\n"
      ],
      "execution_count": 0,
      "outputs": []
    },
    {
      "cell_type": "code",
      "metadata": {
        "id": "PArwb7HpTtPo",
        "colab_type": "code",
        "colab": {}
      },
      "source": [
        "fob_likes, fob"
      ],
      "execution_count": 0,
      "outputs": []
    },
    {
      "cell_type": "code",
      "metadata": {
        "colab_type": "code",
        "id": "gVSgsZgIqa98",
        "colab": {}
      },
      "source": [
        "#get the top 5 cohort ids\n",
        "\n",
        "#sort the Jaccard values into ascending order\n",
        "fob_cohort_sort = fob_jaccard.argsort()\n",
        "\n",
        "# slicer for the last 5 elements of a vector in reverse order\n",
        "slicer = slice(-1,-6,-1)\n",
        "\n",
        "\n",
        "# grab the last 5 id's and Jaccard index using the slicer\n",
        "top5_ids_jaccard  = fob_cohort_ids [fob_cohort_sort[slicer]]\n",
        "top5_jaccard = fob_jaccard[fob_cohort_sort[slicer]]"
      ],
      "execution_count": 0,
      "outputs": []
    },
    {
      "cell_type": "code",
      "metadata": {
        "id": "JuBT0DugShSE",
        "colab_type": "code",
        "colab": {}
      },
      "source": [
        "top5_jaccard"
      ],
      "execution_count": 0,
      "outputs": []
    },
    {
      "cell_type": "code",
      "metadata": {
        "id": "pAhA16M1SLYI",
        "colab_type": "code",
        "colab": {}
      },
      "source": [
        "# look up the titles assoc'd with the top 5 ids\n",
        "movies.loc[top5_ids_jaccard].title"
      ],
      "execution_count": 0,
      "outputs": []
    },
    {
      "cell_type": "markdown",
      "metadata": {
        "id": "0AXzSijQV4o0",
        "colab_type": "text"
      },
      "source": [
        "#### Results With and Without Normalization"
      ]
    },
    {
      "cell_type": "code",
      "metadata": {
        "id": "xmSq5z1bWEPc",
        "colab_type": "code",
        "colab": {}
      },
      "source": [
        "pd.DataFrame( {'title_no_jaccard': movies.loc[top5_ids].title.values,\n",
        "               'LikeCount': top5_vals,\n",
        "               'title_with_jaccard': movies.loc[top5_ids_jaccard].title.values,\n",
        "               'JaccardScore': top5_jaccard\n",
        "              })"
      ],
      "execution_count": 0,
      "outputs": []
    },
    {
      "cell_type": "markdown",
      "metadata": {
        "id": "seXGAZltB2iG",
        "colab_type": "text"
      },
      "source": [
        "## Function to do it All"
      ]
    },
    {
      "cell_type": "code",
      "metadata": {
        "id": "d96B9VKcvUdi",
        "colab_type": "code",
        "colab": {}
      },
      "source": [
        "def get_recommendations(moviename, nrec=5, Jaccard=True):\n",
        "  \"\"\"\n",
        "  Returns at most nrec movie recommenations given an input movie name\n",
        "  using Jaccard normalization (default) or just number of co-occurrences\n",
        "  \"\"\"\n",
        "  \n",
        "  # which movie?\n",
        "  movieId = get_movieId(moviename)\n",
        "  \n",
        "  #get the cohorts of this movie \n",
        "  #(number of users that liked each movie AND this movieId)\n",
        "  cohorts = co_occurrence.getrow(movieId)\n",
        "  \n",
        "  #get the movieIds and # times liked for each cohort\n",
        "  cohort_ids = cohorts.indices\n",
        "  cohort_n   = cohorts.data\n",
        "  \n",
        "  if Jaccard:\n",
        "    # normalize by Jaccard measure\n",
        "    nlikes = tot_likes[movieId]\n",
        "    cohort_jaccard = cohort_n/(nlikes+tot_likes[cohort_ids]-cohort_n)\n",
        "    colname = 'Jaccard'\n",
        "  else:\n",
        "    # no normalization, just use the like counts\n",
        "    cohort_jaccard = cohort_n\n",
        "    colname = 'Score'\n",
        "  \n",
        "  #sort by Jaccard measure\n",
        "  cohort_sort = cohort_jaccard.argsort() #note, argsort() only sorts ascending\n",
        "\n",
        "  #slicer to get last nrec elements in reverse order\n",
        "  last_n_slice = slice(-1, -1*(nrec+1), -1)\n",
        "  \n",
        "  #get the ids and jaccards of the last(highest) nrec elements\n",
        "  last_n_ids =     cohort_ids[cohort_sort[last_n_slice]]\n",
        "  last_n_jaccard = cohort_jaccard[cohort_sort[last_n_slice]]\n",
        "  \n",
        "  #create a dataframe to contain the results\n",
        "  ret_df = pd.DataFrame({'title': movies.loc[last_n_ids].title,\n",
        "                         colname:last_n_jaccard,\n",
        "                         'movieId':last_n_ids}).set_index('movieId')\n",
        "  \n",
        "  #ship it!\n",
        "  return ret_df\n"
      ],
      "execution_count": 0,
      "outputs": []
    },
    {
      "cell_type": "code",
      "metadata": {
        "id": "5MV-EKG2ts7l",
        "colab_type": "code",
        "colab": {}
      },
      "source": [
        "mname = 'Father of the Bride Part II (1995)'\n",
        "get_recommendations(mname, nrec=10)"
      ],
      "execution_count": 0,
      "outputs": []
    },
    {
      "cell_type": "code",
      "metadata": {
        "id": "tpzWimWr9l9x",
        "colab_type": "code",
        "colab": {}
      },
      "source": [
        "mname = 'Father of the Bride Part II (1995)'\n",
        "get_recommendations(mname, nrec=10, Jaccard=False)"
      ],
      "execution_count": 0,
      "outputs": []
    },
    {
      "cell_type": "code",
      "metadata": {
        "id": "g6kSaBmb3wdA",
        "colab_type": "code",
        "colab": {}
      },
      "source": [
        "get_recommendations('Star Wars: Episode IV - A New Hope (1977)')"
      ],
      "execution_count": 0,
      "outputs": []
    },
    {
      "cell_type": "markdown",
      "metadata": {
        "id": "JGtxy9AFBtlt",
        "colab_type": "text"
      },
      "source": [
        "## Some Notable Recommendations"
      ]
    },
    {
      "cell_type": "code",
      "metadata": {
        "id": "8eerKKNE8RRn",
        "colab_type": "code",
        "colab": {}
      },
      "source": [
        "get_recommendations('The Shape of Water (2017)')"
      ],
      "execution_count": 0,
      "outputs": []
    },
    {
      "cell_type": "code",
      "metadata": {
        "id": "da-T1IaY8-ZL",
        "colab_type": "code",
        "colab": {}
      },
      "source": [
        "get_recommendations('Pulp Fiction (1994)')"
      ],
      "execution_count": 0,
      "outputs": []
    },
    {
      "cell_type": "code",
      "metadata": {
        "id": "bGoLNrbu9JJ8",
        "colab_type": "code",
        "colab": {}
      },
      "source": [
        "find_movies('friday')"
      ],
      "execution_count": 0,
      "outputs": []
    },
    {
      "cell_type": "code",
      "metadata": {
        "id": "nijE7Ukr9UG3",
        "colab_type": "code",
        "colab": {}
      },
      "source": [
        "get_recommendations('Friday the 13th (2009)')"
      ],
      "execution_count": 0,
      "outputs": []
    },
    {
      "cell_type": "code",
      "metadata": {
        "id": "yBsd6eW6DQ9l",
        "colab_type": "code",
        "colab": {}
      },
      "source": [
        "get_recommendations('Friday the 13th (2009)', Jaccard=False)"
      ],
      "execution_count": 0,
      "outputs": []
    },
    {
      "cell_type": "code",
      "metadata": {
        "id": "mtFCEEGPDUFL",
        "colab_type": "code",
        "colab": {}
      },
      "source": [
        "find_movies('Repo Man')"
      ],
      "execution_count": 0,
      "outputs": []
    },
    {
      "cell_type": "code",
      "metadata": {
        "id": "Sq5o5lalDtuu",
        "colab_type": "code",
        "colab": {}
      },
      "source": [
        "get_recommendations('Repo Man (1984)')"
      ],
      "execution_count": 0,
      "outputs": []
    },
    {
      "cell_type": "code",
      "metadata": {
        "id": "HhwZSlfuD3r0",
        "colab_type": "code",
        "colab": {}
      },
      "source": [
        "find_movies('.*owski.*')"
      ],
      "execution_count": 0,
      "outputs": []
    },
    {
      "cell_type": "code",
      "metadata": {
        "id": "TvDJe8BHZ83g",
        "colab_type": "code",
        "colab": {}
      },
      "source": [
        "get_recommendations('Big Lebowski, The (1998)')"
      ],
      "execution_count": 0,
      "outputs": []
    }
  ]
}