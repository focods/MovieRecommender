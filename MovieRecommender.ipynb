{
  "nbformat": 4,
  "nbformat_minor": 0,
  "metadata": {
    "colab": {
      "name": "MovieRecommender.ipynb",
      "version": "0.3.2",
      "provenance": [],
      "collapsed_sections": []
    },
    "kernelspec": {
      "name": "python3",
      "display_name": "Python 3"
    }
  },
  "cells": [
    {
      "cell_type": "markdown",
      "metadata": {
        "id": "6pcMEHx45VBM",
        "colab_type": "text"
      },
      "source": [
        "# Learn Sparse Arrays by Building a Movie Recommender\n"
      ]
    },
    {
      "cell_type": "markdown",
      "metadata": {
        "id": "hae2C0NCxzNX",
        "colab_type": "text"
      },
      "source": [
        "We will build a movie recommendation system to learn scipy's sparse array handling."
      ]
    },
    {
      "cell_type": "code",
      "metadata": {
        "id": "XC-usFZjtEcd",
        "colab_type": "code",
        "colab": {}
      },
      "source": [
        "import numpy as np\n",
        "import pandas as pd\n",
        "from urllib.request import urlopen\n"
      ],
      "execution_count": 0,
      "outputs": []
    },
    {
      "cell_type": "markdown",
      "metadata": {
        "id": "CmA9qkn05p1r",
        "colab_type": "text"
      },
      "source": [
        "## Data Files\n",
        "These files are pre-processed from somewhere."
      ]
    },
    {
      "cell_type": "code",
      "metadata": {
        "id": "2A90x3t_tm7a",
        "colab_type": "code",
        "colab": {}
      },
      "source": [
        "# read pickled data files\n",
        "#http://files.grouplens.org/datasets/movielens/ml-latest-README.html\n",
        "path = 'https://focods.s3.us-east-2.amazonaws.com/movies.pcl'\n",
        "movies = pd.read_pickle(urlopen(path), compression=None)\n"
      ],
      "execution_count": 0,
      "outputs": []
    },
    {
      "cell_type": "code",
      "metadata": {
        "id": "SICoJVrohEBE",
        "colab_type": "code",
        "outputId": "457c0a3e-047e-41c2-e9f1-b86b14eabb3f",
        "colab": {
          "base_uri": "https://localhost:8080/",
          "height": 235
        }
      },
      "source": [
        "movies.head()"
      ],
      "execution_count": 3,
      "outputs": [
        {
          "output_type": "execute_result",
          "data": {
            "text/html": [
              "<div>\n",
              "<style scoped>\n",
              "    .dataframe tbody tr th:only-of-type {\n",
              "        vertical-align: middle;\n",
              "    }\n",
              "\n",
              "    .dataframe tbody tr th {\n",
              "        vertical-align: top;\n",
              "    }\n",
              "\n",
              "    .dataframe thead th {\n",
              "        text-align: right;\n",
              "    }\n",
              "</style>\n",
              "<table border=\"1\" class=\"dataframe\">\n",
              "  <thead>\n",
              "    <tr style=\"text-align: right;\">\n",
              "      <th></th>\n",
              "      <th>title</th>\n",
              "      <th>genres</th>\n",
              "    </tr>\n",
              "    <tr>\n",
              "      <th>movieId</th>\n",
              "      <th></th>\n",
              "      <th></th>\n",
              "    </tr>\n",
              "  </thead>\n",
              "  <tbody>\n",
              "    <tr>\n",
              "      <th>1</th>\n",
              "      <td>Toy Story (1995)</td>\n",
              "      <td>Adventure|Animation|Children|Comedy|Fantasy</td>\n",
              "    </tr>\n",
              "    <tr>\n",
              "      <th>2</th>\n",
              "      <td>Jumanji (1995)</td>\n",
              "      <td>Adventure|Children|Fantasy</td>\n",
              "    </tr>\n",
              "    <tr>\n",
              "      <th>3</th>\n",
              "      <td>Grumpier Old Men (1995)</td>\n",
              "      <td>Comedy|Romance</td>\n",
              "    </tr>\n",
              "    <tr>\n",
              "      <th>4</th>\n",
              "      <td>Waiting to Exhale (1995)</td>\n",
              "      <td>Comedy|Drama|Romance</td>\n",
              "    </tr>\n",
              "    <tr>\n",
              "      <th>5</th>\n",
              "      <td>Father of the Bride Part II (1995)</td>\n",
              "      <td>Comedy</td>\n",
              "    </tr>\n",
              "  </tbody>\n",
              "</table>\n",
              "</div>"
            ],
            "text/plain": [
              "                                      title                                       genres\n",
              "movieId                                                                                 \n",
              "1                          Toy Story (1995)  Adventure|Animation|Children|Comedy|Fantasy\n",
              "2                            Jumanji (1995)                   Adventure|Children|Fantasy\n",
              "3                   Grumpier Old Men (1995)                               Comedy|Romance\n",
              "4                  Waiting to Exhale (1995)                         Comedy|Drama|Romance\n",
              "5        Father of the Bride Part II (1995)                                       Comedy"
            ]
          },
          "metadata": {
            "tags": []
          },
          "execution_count": 3
        }
      ]
    },
    {
      "cell_type": "code",
      "metadata": {
        "id": "qev50_o46JHA",
        "colab_type": "code",
        "outputId": "9d715397-da28-4c47-c6f9-2f1cd2d7bb11",
        "colab": {
          "base_uri": "https://localhost:8080/",
          "height": 34
        }
      },
      "source": [
        "len(movies)"
      ],
      "execution_count": 4,
      "outputs": [
        {
          "output_type": "execute_result",
          "data": {
            "text/plain": [
              "58098"
            ]
          },
          "metadata": {
            "tags": []
          },
          "execution_count": 4
        }
      ]
    },
    {
      "cell_type": "code",
      "metadata": {
        "id": "muECfnBGkbmt",
        "colab_type": "code",
        "colab": {}
      },
      "source": [
        "#Ratings: (takes about 20 seconds)\n",
        "path = 'https://focods.s3.us-east-2.amazonaws.com/ratings.pcl'\n",
        "ratings = pd.read_pickle(urlopen(path), compression=None)\n"
      ],
      "execution_count": 0,
      "outputs": []
    },
    {
      "cell_type": "code",
      "metadata": {
        "id": "CvD--wK_obEB",
        "colab_type": "code",
        "outputId": "f8ed3c66-223b-48d8-d215-1e87dee74fe2",
        "colab": {
          "base_uri": "https://localhost:8080/",
          "height": 204
        }
      },
      "source": [
        "ratings.head()"
      ],
      "execution_count": 6,
      "outputs": [
        {
          "output_type": "execute_result",
          "data": {
            "text/html": [
              "<div>\n",
              "<style scoped>\n",
              "    .dataframe tbody tr th:only-of-type {\n",
              "        vertical-align: middle;\n",
              "    }\n",
              "\n",
              "    .dataframe tbody tr th {\n",
              "        vertical-align: top;\n",
              "    }\n",
              "\n",
              "    .dataframe thead th {\n",
              "        text-align: right;\n",
              "    }\n",
              "</style>\n",
              "<table border=\"1\" class=\"dataframe\">\n",
              "  <thead>\n",
              "    <tr style=\"text-align: right;\">\n",
              "      <th></th>\n",
              "      <th>userId</th>\n",
              "      <th>movieId</th>\n",
              "      <th>rating</th>\n",
              "      <th>timestamp</th>\n",
              "    </tr>\n",
              "  </thead>\n",
              "  <tbody>\n",
              "    <tr>\n",
              "      <th>0</th>\n",
              "      <td>1</td>\n",
              "      <td>307</td>\n",
              "      <td>3.5</td>\n",
              "      <td>2009-10-27 21:00:21</td>\n",
              "    </tr>\n",
              "    <tr>\n",
              "      <th>1</th>\n",
              "      <td>1</td>\n",
              "      <td>481</td>\n",
              "      <td>3.5</td>\n",
              "      <td>2009-10-27 21:04:16</td>\n",
              "    </tr>\n",
              "    <tr>\n",
              "      <th>2</th>\n",
              "      <td>1</td>\n",
              "      <td>1091</td>\n",
              "      <td>1.5</td>\n",
              "      <td>2009-10-27 21:04:31</td>\n",
              "    </tr>\n",
              "    <tr>\n",
              "      <th>3</th>\n",
              "      <td>1</td>\n",
              "      <td>1257</td>\n",
              "      <td>4.5</td>\n",
              "      <td>2009-10-27 21:04:20</td>\n",
              "    </tr>\n",
              "    <tr>\n",
              "      <th>4</th>\n",
              "      <td>1</td>\n",
              "      <td>1449</td>\n",
              "      <td>4.5</td>\n",
              "      <td>2009-10-27 21:01:04</td>\n",
              "    </tr>\n",
              "  </tbody>\n",
              "</table>\n",
              "</div>"
            ],
            "text/plain": [
              "   userId  movieId  rating           timestamp\n",
              "0       1      307     3.5 2009-10-27 21:00:21\n",
              "1       1      481     3.5 2009-10-27 21:04:16\n",
              "2       1     1091     1.5 2009-10-27 21:04:31\n",
              "3       1     1257     4.5 2009-10-27 21:04:20\n",
              "4       1     1449     4.5 2009-10-27 21:01:04"
            ]
          },
          "metadata": {
            "tags": []
          },
          "execution_count": 6
        }
      ]
    },
    {
      "cell_type": "code",
      "metadata": {
        "id": "fnS51r6w6WUQ",
        "colab_type": "code",
        "outputId": "3f473083-47e5-47da-cb63-44b9dc0186f4",
        "colab": {
          "base_uri": "https://localhost:8080/",
          "height": 34
        }
      },
      "source": [
        "len(ratings)"
      ],
      "execution_count": 7,
      "outputs": [
        {
          "output_type": "execute_result",
          "data": {
            "text/plain": [
              "27753444"
            ]
          },
          "metadata": {
            "tags": []
          },
          "execution_count": 7
        }
      ]
    },
    {
      "cell_type": "code",
      "metadata": {
        "id": "lI3tlaQtqUI1",
        "colab_type": "code",
        "colab": {}
      },
      "source": [
        "#just the good ratings\n",
        "good_ratings = ratings.query('rating > 3.0')"
      ],
      "execution_count": 0,
      "outputs": []
    },
    {
      "cell_type": "code",
      "metadata": {
        "id": "fXMHNScz6bpX",
        "colab_type": "code",
        "outputId": "754df618-cc74-4c98-9bc5-f9ee8b447989",
        "colab": {
          "base_uri": "https://localhost:8080/",
          "height": 34
        }
      },
      "source": [
        "len(good_ratings)"
      ],
      "execution_count": 9,
      "outputs": [
        {
          "output_type": "execute_result",
          "data": {
            "text/plain": [
              "17243755"
            ]
          },
          "metadata": {
            "tags": []
          },
          "execution_count": 9
        }
      ]
    },
    {
      "cell_type": "markdown",
      "metadata": {
        "id": "gxv19MIM6ovR",
        "colab_type": "text"
      },
      "source": [
        "## Make Users x Movies Sparse Array"
      ]
    },
    {
      "cell_type": "code",
      "metadata": {
        "id": "6P0oANogkBSB",
        "colab_type": "code",
        "colab": {}
      },
      "source": [
        "from scipy.sparse import csr_matrix, coo_matrix"
      ],
      "execution_count": 0,
      "outputs": []
    },
    {
      "cell_type": "code",
      "metadata": {
        "id": "QtD8Nq8al0pR",
        "colab_type": "code",
        "colab": {}
      },
      "source": [
        "cust_ratings = csr_matrix(([1]*len(good_ratings), (good_ratings.userId, good_ratings.movieId)),dtype=np.int32)\n"
      ],
      "execution_count": 0,
      "outputs": []
    },
    {
      "cell_type": "code",
      "metadata": {
        "id": "FLi6IxvfrVbz",
        "colab_type": "code",
        "outputId": "6b78b433-e8e7-4573-fe41-9181f3808f64",
        "colab": {
          "base_uri": "https://localhost:8080/",
          "height": 51
        }
      },
      "source": [
        "cust_ratings"
      ],
      "execution_count": 12,
      "outputs": [
        {
          "output_type": "execute_result",
          "data": {
            "text/plain": [
              "<283229x193887 sparse matrix of type '<class 'numpy.int32'>'\n",
              "\twith 17243755 stored elements in Compressed Sparse Row format>"
            ]
          },
          "metadata": {
            "tags": []
          },
          "execution_count": 12
        }
      ]
    },
    {
      "cell_type": "markdown",
      "metadata": {
        "id": "zrjN48Sb68ih",
        "colab_type": "text"
      },
      "source": [
        "## Create Co-occurrence Matrix"
      ]
    },
    {
      "cell_type": "code",
      "metadata": {
        "id": "CCh49Meuo9IY",
        "colab_type": "code",
        "colab": {}
      },
      "source": [
        "# takes about 1 minute to run\n",
        "co_occurrence = cust_ratings.T.dot(cust_ratings)"
      ],
      "execution_count": 0,
      "outputs": []
    },
    {
      "cell_type": "markdown",
      "metadata": {
        "id": "BOsBURJ_FEP9",
        "colab_type": "text"
      },
      "source": [
        "The shape of the co_occurence matrix is movies x movies. **the cell co_occurrence[i,j] is the number of users who reviewed (watched) movie i AND movie j**"
      ]
    },
    {
      "cell_type": "code",
      "metadata": {
        "id": "aotrfEf5pDoL",
        "colab_type": "code",
        "outputId": "2fb0f356-27db-40d7-efa0-644c54bd7ff1",
        "colab": {
          "base_uri": "https://localhost:8080/",
          "height": 51
        }
      },
      "source": [
        "co_occurrence"
      ],
      "execution_count": 14,
      "outputs": [
        {
          "output_type": "execute_result",
          "data": {
            "text/plain": [
              "<193887x193887 sparse matrix of type '<class 'numpy.int32'>'\n",
              "\twith 321428159 stored elements in Compressed Sparse Column format>"
            ]
          },
          "metadata": {
            "tags": []
          },
          "execution_count": 14
        }
      ]
    },
    {
      "cell_type": "code",
      "metadata": {
        "id": "xJ14rNntyaiv",
        "colab_type": "code",
        "outputId": "5247c111-18a6-4f75-a360-8ae5819fb520",
        "colab": {
          "base_uri": "https://localhost:8080/",
          "height": 34
        }
      },
      "source": [
        "# will need these for later for Jaccard scoring\n",
        "# total reviews of each movie is main diagonal of co_occurrence matrix\n",
        "tot_reviews = co_occurrence.diagonal()\n",
        "tot_reviews.shape\n"
      ],
      "execution_count": 15,
      "outputs": [
        {
          "output_type": "execute_result",
          "data": {
            "text/plain": [
              "(193887,)"
            ]
          },
          "metadata": {
            "tags": []
          },
          "execution_count": 15
        }
      ]
    },
    {
      "cell_type": "code",
      "metadata": {
        "id": "rJtyR8BY3CEI",
        "colab_type": "code",
        "outputId": "a62b0e20-2027-4cfb-850a-da5567090d0e",
        "colab": {
          "base_uri": "https://localhost:8080/",
          "height": 71
        }
      },
      "source": [
        "# zero out the main diagonal, so that recommendations aren't self-referential\n",
        "co_occurrence.setdiag(0)\n",
        "# just to be tidy, eliminate any zeros introduced above\n",
        "co_occurrence.eliminate_zeros()"
      ],
      "execution_count": 16,
      "outputs": [
        {
          "output_type": "stream",
          "text": [
            "/usr/local/lib/python3.6/dist-packages/scipy/sparse/_index.py:112: SparseEfficiencyWarning: Changing the sparsity structure of a csc_matrix is expensive. lil_matrix is more efficient.\n",
            "  self._set_arrayXarray(i, j, x)\n"
          ],
          "name": "stderr"
        }
      ]
    },
    {
      "cell_type": "markdown",
      "metadata": {
        "id": "qrWyaycdzg9Z",
        "colab_type": "text"
      },
      "source": [
        "## Jaccard Calculations\n",
        "\n",
        "later!"
      ]
    },
    {
      "cell_type": "markdown",
      "metadata": {
        "id": "o98lSw877dGC",
        "colab_type": "text"
      },
      "source": [
        "## Some Helper Routines"
      ]
    },
    {
      "cell_type": "code",
      "metadata": {
        "id": "K0nkpmDJp_WW",
        "colab_type": "code",
        "colab": {}
      },
      "source": [
        "def get_movieId(moviename):\n",
        "  \"\"\"\n",
        "  return the movie id given the title/moviename\n",
        "  \"\"\"\n",
        "  mvindex = movies.query('title == @moviename').index\n",
        "  if len(mvindex) == 0:\n",
        "    raise Exception(f'Invalid movie name: {moviename}')\n",
        "  return mvindex[0] # just the first one in case there were multiples\n",
        "  "
      ],
      "execution_count": 0,
      "outputs": []
    },
    {
      "cell_type": "code",
      "metadata": {
        "id": "1WHKUfFHwen1",
        "colab_type": "code",
        "colab": {}
      },
      "source": [
        "#run this cell to test invalid input\n",
        "#get_movieId('jdkjkj')"
      ],
      "execution_count": 0,
      "outputs": []
    },
    {
      "cell_type": "code",
      "metadata": {
        "id": "DSAuwC-xxPCk",
        "colab_type": "code",
        "outputId": "a2c0d0f7-be35-4174-8c44-74d18123bcb9",
        "colab": {
          "base_uri": "https://localhost:8080/",
          "height": 34
        }
      },
      "source": [
        "get_movieId('Father of the Bride Part II (1995)')"
      ],
      "execution_count": 19,
      "outputs": [
        {
          "output_type": "execute_result",
          "data": {
            "text/plain": [
              "5"
            ]
          },
          "metadata": {
            "tags": []
          },
          "execution_count": 19
        }
      ]
    },
    {
      "cell_type": "code",
      "metadata": {
        "id": "so2f0i15xHl0",
        "colab_type": "code",
        "colab": {}
      },
      "source": [
        "def find_movies(title_regexp):\n",
        "  \"\"\"\n",
        "  searches the list of movies with a reg exp\n",
        "  \"\"\"\n",
        "  return movies.title[movies.title.str.match(title_regexp, case=False)]"
      ],
      "execution_count": 0,
      "outputs": []
    },
    {
      "cell_type": "code",
      "metadata": {
        "id": "MxgSjoRz7ZWT",
        "colab_type": "code",
        "outputId": "363edd65-8aea-454f-8976-15168d3f6e99",
        "colab": {
          "base_uri": "https://localhost:8080/",
          "height": 187
        }
      },
      "source": [
        "find_movies('.*toy story.*')"
      ],
      "execution_count": 21,
      "outputs": [
        {
          "output_type": "execute_result",
          "data": {
            "text/plain": [
              "movieId\n",
              "1                                  Toy Story (1995)\n",
              "3114                             Toy Story 2 (1999)\n",
              "78499                            Toy Story 3 (2010)\n",
              "106022                   Toy Story of Terror (2013)\n",
              "115875    Toy Story Toons: Hawaiian Vacation (2011)\n",
              "115879            Toy Story Toons: Small Fry (2011)\n",
              "120468      Toy Story Toons: Partysaurus Rex (2012)\n",
              "120474            Toy Story That Time Forgot (2014)\n",
              "Name: title, dtype: object"
            ]
          },
          "metadata": {
            "tags": []
          },
          "execution_count": 21
        }
      ]
    },
    {
      "cell_type": "markdown",
      "metadata": {
        "id": "MPVDelQD9sWZ",
        "colab_type": "text"
      },
      "source": [
        "## Step-by-Step Recommender"
      ]
    },
    {
      "cell_type": "code",
      "metadata": {
        "colab_type": "code",
        "id": "dB3zrD7a8sVq",
        "colab": {}
      },
      "source": [
        "#get the movieId for the movie for which we'll make recommendations\n",
        "fob = get_movieId('Father of the Bride Part II (1995)')\n",
        "\n",
        "# what other movies did the people who watched FOB watch?\n",
        "# this is the ROW in the co_occurrence matrix corresponding to the movieId\n",
        "fob_cohorts = co_occurrence.getrow(fob)"
      ],
      "execution_count": 0,
      "outputs": []
    },
    {
      "cell_type": "code",
      "metadata": {
        "colab_type": "code",
        "id": "EbZhaOTu8r5l",
        "colab": {}
      },
      "source": [
        "# the movieIds of the cohorts\n",
        "fob_cohort_ids = fob_cohorts.indices #i.e. the column indexes which are movieIds\n",
        "\n",
        "# the number of times each cohort was watched (reviewed actually)\n",
        "fob_cohort_vals = fob_cohorts.data"
      ],
      "execution_count": 0,
      "outputs": []
    },
    {
      "cell_type": "code",
      "metadata": {
        "colab_type": "code",
        "id": "tWTfm3gx8mCh",
        "colab": {}
      },
      "source": [
        "#get the top 5 cohort ids\n",
        "\n",
        "#sort the number of times watched (reviewed) into ascending order\n",
        "fob_cohort_sort = fob_cohort_vals.argsort()\n",
        "\n",
        "# slicer for the last 5 elements of a vector in reverse order\n",
        "slicer = slice(-1,-6,-1)\n",
        "\n",
        "\n",
        "# grab the last 5 id's and times watched using the slicer\n",
        "top5_ids  = fob_cohort_ids [fob_cohort_sort[slicer]]\n",
        "top5_vals = fob_cohort_vals[fob_cohort_sort[slicer]]"
      ],
      "execution_count": 0,
      "outputs": []
    },
    {
      "cell_type": "code",
      "metadata": {
        "id": "EuIPQybUuqtP",
        "colab_type": "code",
        "outputId": "73e046ae-649d-41e7-fd52-703268a99868",
        "colab": {
          "base_uri": "https://localhost:8080/",
          "height": 34
        }
      },
      "source": [
        "top5_ids"
      ],
      "execution_count": 27,
      "outputs": [
        {
          "output_type": "execute_result",
          "data": {
            "text/plain": [
              "array([  1, 356, 780,  62, 736], dtype=int32)"
            ]
          },
          "metadata": {
            "tags": []
          },
          "execution_count": 27
        }
      ]
    },
    {
      "cell_type": "code",
      "metadata": {
        "id": "A2dYWehKuwnf",
        "colab_type": "code",
        "outputId": "4e6d10ef-f3e4-48b9-c20f-cbc99c3748c6",
        "colab": {
          "base_uri": "https://localhost:8080/",
          "height": 34
        }
      },
      "source": [
        "top5_vals"
      ],
      "execution_count": 28,
      "outputs": [
        {
          "output_type": "execute_result",
          "data": {
            "text/plain": [
              "array([2392, 2235, 2198, 1920, 1866], dtype=int32)"
            ]
          },
          "metadata": {
            "tags": []
          },
          "execution_count": 28
        }
      ]
    },
    {
      "cell_type": "code",
      "metadata": {
        "id": "WprEZ9hmwr4m",
        "colab_type": "code",
        "outputId": "350fde79-a7f4-47cb-9cca-ce3cebaaf63e",
        "colab": {
          "base_uri": "https://localhost:8080/",
          "height": 136
        }
      },
      "source": [
        "# look up the titles assoc'd with the top 5 ids\n",
        "movies.loc[top5_ids].title"
      ],
      "execution_count": 29,
      "outputs": [
        {
          "output_type": "execute_result",
          "data": {
            "text/plain": [
              "movieId\n",
              "1                          Toy Story (1995)\n",
              "356                     Forrest Gump (1994)\n",
              "780    Independence Day (a.k.a. ID4) (1996)\n",
              "62                Mr. Holland's Opus (1995)\n",
              "736                          Twister (1996)\n",
              "Name: title, dtype: object"
            ]
          },
          "metadata": {
            "tags": []
          },
          "execution_count": 29
        }
      ]
    },
    {
      "cell_type": "markdown",
      "metadata": {
        "id": "seXGAZltB2iG",
        "colab_type": "text"
      },
      "source": [
        "## Function to do it All"
      ]
    },
    {
      "cell_type": "code",
      "metadata": {
        "id": "d96B9VKcvUdi",
        "colab_type": "code",
        "colab": {}
      },
      "source": [
        "def get_recommendations(moviename, nrec=5, Jaccard=True):\n",
        "  \"\"\"\n",
        "  Returns at most nrec movie recommenations given an input movie name\n",
        "  using Jaccard normalization (default) or just number of co-occurrences\n",
        "  \"\"\"\n",
        "  \n",
        "  # which movie?\n",
        "  movieId = get_movieId(moviename)\n",
        "  \n",
        "  #get the cohorts of this movie \n",
        "  #(number of times users rated each movie AND this movieId)\n",
        "  cohorts = co_occurrence.getrow(movieId)\n",
        "  \n",
        "  #get the movieIds and # times reviewed for each cohort\n",
        "  cohort_ids = cohorts.indices\n",
        "  cohort_n   = cohorts.data\n",
        "  \n",
        "  if Jaccard:\n",
        "    # normalize by Jaccard measure\n",
        "    nreviews = tot_reviews[movieId]\n",
        "    cohort_jaccard = cohort_n/(nreviews+tot_reviews[cohort_ids]-cohort_n)\n",
        "    colname = 'Jaccard'\n",
        "  else:\n",
        "    # no normalization, just use the review counts\n",
        "    cohort_jaccard = cohort_n\n",
        "    colname = 'Score'\n",
        "  \n",
        "  #sort by Jaccard measure\n",
        "  cohort_sort = cohort_jaccard.argsort() #note, argsort() only sorts ascending\n",
        "\n",
        "  #slicer to get last nrec elements in reverse order\n",
        "  last_n_slice = slice(-1, -1*(nrec+1), -1)\n",
        "  \n",
        "  #get the ids and jaccards of the last(highest) nrec elements\n",
        "  last_n_ids =     cohort_ids[cohort_sort[last_n_slice]]\n",
        "  last_n_jaccard = cohort_jaccard[cohort_sort[last_n_slice]]\n",
        "  \n",
        "  #create a dataframe to contain the results\n",
        "  ret_df = pd.DataFrame({'title': movies.loc[last_n_ids].title,\n",
        "                         colname:last_n_jaccard,\n",
        "                         'movieId':last_n_ids}).set_index('movieId')\n",
        "  \n",
        "  #ship it!\n",
        "  return ret_df\n"
      ],
      "execution_count": 0,
      "outputs": []
    },
    {
      "cell_type": "code",
      "metadata": {
        "id": "5MV-EKG2ts7l",
        "colab_type": "code",
        "outputId": "618553dd-13b7-489d-9811-d082ef5d3ed3",
        "colab": {
          "base_uri": "https://localhost:8080/",
          "height": 390
        }
      },
      "source": [
        "mname = 'Father of the Bride Part II (1995)'\n",
        "get_recommendations(mname, nrec=10)"
      ],
      "execution_count": 31,
      "outputs": [
        {
          "output_type": "execute_result",
          "data": {
            "text/html": [
              "<div>\n",
              "<style scoped>\n",
              "    .dataframe tbody tr th:only-of-type {\n",
              "        vertical-align: middle;\n",
              "    }\n",
              "\n",
              "    .dataframe tbody tr th {\n",
              "        vertical-align: top;\n",
              "    }\n",
              "\n",
              "    .dataframe thead th {\n",
              "        text-align: right;\n",
              "    }\n",
              "</style>\n",
              "<table border=\"1\" class=\"dataframe\">\n",
              "  <thead>\n",
              "    <tr style=\"text-align: right;\">\n",
              "      <th></th>\n",
              "      <th>title</th>\n",
              "      <th>Jaccard</th>\n",
              "    </tr>\n",
              "    <tr>\n",
              "      <th>movieId</th>\n",
              "      <th></th>\n",
              "      <th></th>\n",
              "    </tr>\n",
              "  </thead>\n",
              "  <tbody>\n",
              "    <tr>\n",
              "      <th>3</th>\n",
              "      <td>Grumpier Old Men (1995)</td>\n",
              "      <td>0.138736</td>\n",
              "    </tr>\n",
              "    <tr>\n",
              "      <th>7</th>\n",
              "      <td>Sabrina (1995)</td>\n",
              "      <td>0.116772</td>\n",
              "    </tr>\n",
              "    <tr>\n",
              "      <th>62</th>\n",
              "      <td>Mr. Holland's Opus (1995)</td>\n",
              "      <td>0.106590</td>\n",
              "    </tr>\n",
              "    <tr>\n",
              "      <th>736</th>\n",
              "      <td>Twister (1996)</td>\n",
              "      <td>0.097233</td>\n",
              "    </tr>\n",
              "    <tr>\n",
              "      <th>494</th>\n",
              "      <td>Executive Decision (1996)</td>\n",
              "      <td>0.091037</td>\n",
              "    </tr>\n",
              "    <tr>\n",
              "      <th>317</th>\n",
              "      <td>Santa Clause, The (1994)</td>\n",
              "      <td>0.089347</td>\n",
              "    </tr>\n",
              "    <tr>\n",
              "      <th>788</th>\n",
              "      <td>Nutty Professor, The (1996)</td>\n",
              "      <td>0.087102</td>\n",
              "    </tr>\n",
              "    <tr>\n",
              "      <th>376</th>\n",
              "      <td>River Wild, The (1994)</td>\n",
              "      <td>0.085064</td>\n",
              "    </tr>\n",
              "    <tr>\n",
              "      <th>802</th>\n",
              "      <td>Phenomenon (1996)</td>\n",
              "      <td>0.084343</td>\n",
              "    </tr>\n",
              "    <tr>\n",
              "      <th>6944</th>\n",
              "      <td>Father of the Bride (1991)</td>\n",
              "      <td>0.084170</td>\n",
              "    </tr>\n",
              "  </tbody>\n",
              "</table>\n",
              "</div>"
            ],
            "text/plain": [
              "                               title   Jaccard\n",
              "movieId                                       \n",
              "3            Grumpier Old Men (1995)  0.138736\n",
              "7                     Sabrina (1995)  0.116772\n",
              "62         Mr. Holland's Opus (1995)  0.106590\n",
              "736                   Twister (1996)  0.097233\n",
              "494        Executive Decision (1996)  0.091037\n",
              "317         Santa Clause, The (1994)  0.089347\n",
              "788      Nutty Professor, The (1996)  0.087102\n",
              "376           River Wild, The (1994)  0.085064\n",
              "802                Phenomenon (1996)  0.084343\n",
              "6944      Father of the Bride (1991)  0.084170"
            ]
          },
          "metadata": {
            "tags": []
          },
          "execution_count": 31
        }
      ]
    },
    {
      "cell_type": "code",
      "metadata": {
        "id": "tpzWimWr9l9x",
        "colab_type": "code",
        "colab": {
          "base_uri": "https://localhost:8080/",
          "height": 390
        },
        "outputId": "462610df-9f9d-4349-978c-82ab75babe70"
      },
      "source": [
        "mname = 'Father of the Bride Part II (1995)'\n",
        "get_recommendations(mname, nrec=10, Jaccard=False)"
      ],
      "execution_count": 32,
      "outputs": [
        {
          "output_type": "execute_result",
          "data": {
            "text/html": [
              "<div>\n",
              "<style scoped>\n",
              "    .dataframe tbody tr th:only-of-type {\n",
              "        vertical-align: middle;\n",
              "    }\n",
              "\n",
              "    .dataframe tbody tr th {\n",
              "        vertical-align: top;\n",
              "    }\n",
              "\n",
              "    .dataframe thead th {\n",
              "        text-align: right;\n",
              "    }\n",
              "</style>\n",
              "<table border=\"1\" class=\"dataframe\">\n",
              "  <thead>\n",
              "    <tr style=\"text-align: right;\">\n",
              "      <th></th>\n",
              "      <th>title</th>\n",
              "      <th>Score</th>\n",
              "    </tr>\n",
              "    <tr>\n",
              "      <th>movieId</th>\n",
              "      <th></th>\n",
              "      <th></th>\n",
              "    </tr>\n",
              "  </thead>\n",
              "  <tbody>\n",
              "    <tr>\n",
              "      <th>1</th>\n",
              "      <td>Toy Story (1995)</td>\n",
              "      <td>2392</td>\n",
              "    </tr>\n",
              "    <tr>\n",
              "      <th>356</th>\n",
              "      <td>Forrest Gump (1994)</td>\n",
              "      <td>2235</td>\n",
              "    </tr>\n",
              "    <tr>\n",
              "      <th>780</th>\n",
              "      <td>Independence Day (a.k.a. ID4) (1996)</td>\n",
              "      <td>2198</td>\n",
              "    </tr>\n",
              "    <tr>\n",
              "      <th>62</th>\n",
              "      <td>Mr. Holland's Opus (1995)</td>\n",
              "      <td>1920</td>\n",
              "    </tr>\n",
              "    <tr>\n",
              "      <th>736</th>\n",
              "      <td>Twister (1996)</td>\n",
              "      <td>1866</td>\n",
              "    </tr>\n",
              "    <tr>\n",
              "      <th>318</th>\n",
              "      <td>Shawshank Redemption, The (1994)</td>\n",
              "      <td>1842</td>\n",
              "    </tr>\n",
              "    <tr>\n",
              "      <th>150</th>\n",
              "      <td>Apollo 13 (1995)</td>\n",
              "      <td>1812</td>\n",
              "    </tr>\n",
              "    <tr>\n",
              "      <th>260</th>\n",
              "      <td>Star Wars: Episode IV - A New Hope (1977)</td>\n",
              "      <td>1812</td>\n",
              "    </tr>\n",
              "    <tr>\n",
              "      <th>500</th>\n",
              "      <td>Mrs. Doubtfire (1993)</td>\n",
              "      <td>1785</td>\n",
              "    </tr>\n",
              "    <tr>\n",
              "      <th>733</th>\n",
              "      <td>Rock, The (1996)</td>\n",
              "      <td>1742</td>\n",
              "    </tr>\n",
              "  </tbody>\n",
              "</table>\n",
              "</div>"
            ],
            "text/plain": [
              "                                             title  Score\n",
              "movieId                                                  \n",
              "1                                 Toy Story (1995)   2392\n",
              "356                            Forrest Gump (1994)   2235\n",
              "780           Independence Day (a.k.a. ID4) (1996)   2198\n",
              "62                       Mr. Holland's Opus (1995)   1920\n",
              "736                                 Twister (1996)   1866\n",
              "318               Shawshank Redemption, The (1994)   1842\n",
              "150                               Apollo 13 (1995)   1812\n",
              "260      Star Wars: Episode IV - A New Hope (1977)   1812\n",
              "500                          Mrs. Doubtfire (1993)   1785\n",
              "733                               Rock, The (1996)   1742"
            ]
          },
          "metadata": {
            "tags": []
          },
          "execution_count": 32
        }
      ]
    },
    {
      "cell_type": "code",
      "metadata": {
        "id": "g6kSaBmb3wdA",
        "colab_type": "code",
        "outputId": "1ec5df02-b0c2-4610-d6ee-e779a64735ef",
        "colab": {
          "base_uri": "https://localhost:8080/",
          "height": 235
        }
      },
      "source": [
        "get_recommendations('Star Wars: Episode IV - A New Hope (1977)')"
      ],
      "execution_count": 33,
      "outputs": [
        {
          "output_type": "execute_result",
          "data": {
            "text/html": [
              "<div>\n",
              "<style scoped>\n",
              "    .dataframe tbody tr th:only-of-type {\n",
              "        vertical-align: middle;\n",
              "    }\n",
              "\n",
              "    .dataframe tbody tr th {\n",
              "        vertical-align: top;\n",
              "    }\n",
              "\n",
              "    .dataframe thead th {\n",
              "        text-align: right;\n",
              "    }\n",
              "</style>\n",
              "<table border=\"1\" class=\"dataframe\">\n",
              "  <thead>\n",
              "    <tr style=\"text-align: right;\">\n",
              "      <th></th>\n",
              "      <th>title</th>\n",
              "      <th>Jaccard</th>\n",
              "    </tr>\n",
              "    <tr>\n",
              "      <th>movieId</th>\n",
              "      <th></th>\n",
              "      <th></th>\n",
              "    </tr>\n",
              "  </thead>\n",
              "  <tbody>\n",
              "    <tr>\n",
              "      <th>1196</th>\n",
              "      <td>Star Wars: Episode V - The Empire Strikes Back...</td>\n",
              "      <td>0.598249</td>\n",
              "    </tr>\n",
              "    <tr>\n",
              "      <th>1210</th>\n",
              "      <td>Star Wars: Episode VI - Return of the Jedi (1983)</td>\n",
              "      <td>0.533106</td>\n",
              "    </tr>\n",
              "    <tr>\n",
              "      <th>1198</th>\n",
              "      <td>Raiders of the Lost Ark (Indiana Jones and the...</td>\n",
              "      <td>0.438439</td>\n",
              "    </tr>\n",
              "    <tr>\n",
              "      <th>2571</th>\n",
              "      <td>Matrix, The (1999)</td>\n",
              "      <td>0.385480</td>\n",
              "    </tr>\n",
              "    <tr>\n",
              "      <th>1291</th>\n",
              "      <td>Indiana Jones and the Last Crusade (1989)</td>\n",
              "      <td>0.333655</td>\n",
              "    </tr>\n",
              "  </tbody>\n",
              "</table>\n",
              "</div>"
            ],
            "text/plain": [
              "                                                     title   Jaccard\n",
              "movieId                                                             \n",
              "1196     Star Wars: Episode V - The Empire Strikes Back...  0.598249\n",
              "1210     Star Wars: Episode VI - Return of the Jedi (1983)  0.533106\n",
              "1198     Raiders of the Lost Ark (Indiana Jones and the...  0.438439\n",
              "2571                                    Matrix, The (1999)  0.385480\n",
              "1291             Indiana Jones and the Last Crusade (1989)  0.333655"
            ]
          },
          "metadata": {
            "tags": []
          },
          "execution_count": 33
        }
      ]
    },
    {
      "cell_type": "markdown",
      "metadata": {
        "id": "JGtxy9AFBtlt",
        "colab_type": "text"
      },
      "source": [
        "## Some Notable Recommendations"
      ]
    },
    {
      "cell_type": "code",
      "metadata": {
        "id": "8eerKKNE8RRn",
        "colab_type": "code",
        "outputId": "ad6ee931-0259-42de-e065-b86f8639678f",
        "colab": {
          "base_uri": "https://localhost:8080/",
          "height": 235
        }
      },
      "source": [
        "get_recommendations('The Shape of Water (2017)')"
      ],
      "execution_count": 34,
      "outputs": [
        {
          "output_type": "execute_result",
          "data": {
            "text/html": [
              "<div>\n",
              "<style scoped>\n",
              "    .dataframe tbody tr th:only-of-type {\n",
              "        vertical-align: middle;\n",
              "    }\n",
              "\n",
              "    .dataframe tbody tr th {\n",
              "        vertical-align: top;\n",
              "    }\n",
              "\n",
              "    .dataframe thead th {\n",
              "        text-align: right;\n",
              "    }\n",
              "</style>\n",
              "<table border=\"1\" class=\"dataframe\">\n",
              "  <thead>\n",
              "    <tr style=\"text-align: right;\">\n",
              "      <th></th>\n",
              "      <th>title</th>\n",
              "      <th>Jaccard</th>\n",
              "    </tr>\n",
              "    <tr>\n",
              "      <th>movieId</th>\n",
              "      <th></th>\n",
              "      <th></th>\n",
              "    </tr>\n",
              "  </thead>\n",
              "  <tbody>\n",
              "    <tr>\n",
              "      <th>177615</th>\n",
              "      <td>Lady Bird (2017)</td>\n",
              "      <td>0.249284</td>\n",
              "    </tr>\n",
              "    <tr>\n",
              "      <th>178061</th>\n",
              "      <td>I, Tonya (2017)</td>\n",
              "      <td>0.222472</td>\n",
              "    </tr>\n",
              "    <tr>\n",
              "      <th>177593</th>\n",
              "      <td>Three Billboards Outside Ebbing, Missouri (2017)</td>\n",
              "      <td>0.220504</td>\n",
              "    </tr>\n",
              "    <tr>\n",
              "      <th>179819</th>\n",
              "      <td>Star Wars: The Last Jedi (2017)</td>\n",
              "      <td>0.191381</td>\n",
              "    </tr>\n",
              "    <tr>\n",
              "      <th>122906</th>\n",
              "      <td>Black Panther (2017)</td>\n",
              "      <td>0.186115</td>\n",
              "    </tr>\n",
              "  </tbody>\n",
              "</table>\n",
              "</div>"
            ],
            "text/plain": [
              "                                                    title   Jaccard\n",
              "movieId                                                            \n",
              "177615                                   Lady Bird (2017)  0.249284\n",
              "178061                                    I, Tonya (2017)  0.222472\n",
              "177593   Three Billboards Outside Ebbing, Missouri (2017)  0.220504\n",
              "179819                    Star Wars: The Last Jedi (2017)  0.191381\n",
              "122906                               Black Panther (2017)  0.186115"
            ]
          },
          "metadata": {
            "tags": []
          },
          "execution_count": 34
        }
      ]
    },
    {
      "cell_type": "code",
      "metadata": {
        "id": "da-T1IaY8-ZL",
        "colab_type": "code",
        "outputId": "6b0bdb84-f63b-470a-ed35-3fd9dabff8f1",
        "colab": {
          "base_uri": "https://localhost:8080/",
          "height": 235
        }
      },
      "source": [
        "get_recommendations('Pulp Fiction (1994)')"
      ],
      "execution_count": 35,
      "outputs": [
        {
          "output_type": "execute_result",
          "data": {
            "text/html": [
              "<div>\n",
              "<style scoped>\n",
              "    .dataframe tbody tr th:only-of-type {\n",
              "        vertical-align: middle;\n",
              "    }\n",
              "\n",
              "    .dataframe tbody tr th {\n",
              "        vertical-align: top;\n",
              "    }\n",
              "\n",
              "    .dataframe thead th {\n",
              "        text-align: right;\n",
              "    }\n",
              "</style>\n",
              "<table border=\"1\" class=\"dataframe\">\n",
              "  <thead>\n",
              "    <tr style=\"text-align: right;\">\n",
              "      <th></th>\n",
              "      <th>title</th>\n",
              "      <th>Jaccard</th>\n",
              "    </tr>\n",
              "    <tr>\n",
              "      <th>movieId</th>\n",
              "      <th></th>\n",
              "      <th></th>\n",
              "    </tr>\n",
              "  </thead>\n",
              "  <tbody>\n",
              "    <tr>\n",
              "      <th>593</th>\n",
              "      <td>Silence of the Lambs, The (1991)</td>\n",
              "      <td>0.441820</td>\n",
              "    </tr>\n",
              "    <tr>\n",
              "      <th>318</th>\n",
              "      <td>Shawshank Redemption, The (1994)</td>\n",
              "      <td>0.414455</td>\n",
              "    </tr>\n",
              "    <tr>\n",
              "      <th>50</th>\n",
              "      <td>Usual Suspects, The (1995)</td>\n",
              "      <td>0.406862</td>\n",
              "    </tr>\n",
              "    <tr>\n",
              "      <th>47</th>\n",
              "      <td>Seven (a.k.a. Se7en) (1995)</td>\n",
              "      <td>0.384332</td>\n",
              "    </tr>\n",
              "    <tr>\n",
              "      <th>2959</th>\n",
              "      <td>Fight Club (1999)</td>\n",
              "      <td>0.381126</td>\n",
              "    </tr>\n",
              "  </tbody>\n",
              "</table>\n",
              "</div>"
            ],
            "text/plain": [
              "                                    title   Jaccard\n",
              "movieId                                            \n",
              "593      Silence of the Lambs, The (1991)  0.441820\n",
              "318      Shawshank Redemption, The (1994)  0.414455\n",
              "50             Usual Suspects, The (1995)  0.406862\n",
              "47            Seven (a.k.a. Se7en) (1995)  0.384332\n",
              "2959                    Fight Club (1999)  0.381126"
            ]
          },
          "metadata": {
            "tags": []
          },
          "execution_count": 35
        }
      ]
    },
    {
      "cell_type": "code",
      "metadata": {
        "id": "bGoLNrbu9JJ8",
        "colab_type": "code",
        "outputId": "6e264092-a15e-4b79-8215-3852cd8a1093",
        "colab": {
          "base_uri": "https://localhost:8080/",
          "height": 306
        }
      },
      "source": [
        "find_movies('friday')"
      ],
      "execution_count": 36,
      "outputs": [
        {
          "output_type": "execute_result",
          "data": {
            "text/plain": [
              "movieId\n",
              "69                                            Friday (1995)\n",
              "1974                                 Friday the 13th (1980)\n",
              "1975                          Friday the 13th Part 2 (1981)\n",
              "1976                      Friday the 13th Part 3: 3D (1982)\n",
              "1977      Friday the 13th Part IV: The Final Chapter (1984)\n",
              "1978         Friday the 13th Part V: A New Beginning (1985)\n",
              "1979            Friday the 13th Part VI: Jason Lives (1986)\n",
              "1980         Friday the 13th Part VII: The New Blood (1988)\n",
              "1981      Friday the 13th Part VIII: Jason Takes Manhatt...\n",
              "5874                               Friday After Next (2002)\n",
              "7880                    Friday Night (Vendredi Soir) (2002)\n",
              "8937                             Friday Night Lights (2004)\n",
              "66783                                Friday the 13th (2009)\n",
              "120408                                 Friday Foster (1975)\n",
              "161157                            Friday (Pyatnitsa) (2016)\n",
              "Name: title, dtype: object"
            ]
          },
          "metadata": {
            "tags": []
          },
          "execution_count": 36
        }
      ]
    },
    {
      "cell_type": "code",
      "metadata": {
        "id": "nijE7Ukr9UG3",
        "colab_type": "code",
        "outputId": "7b4b7e02-e7b1-49d8-8d40-319e11696b9f",
        "colab": {
          "base_uri": "https://localhost:8080/",
          "height": 235
        }
      },
      "source": [
        "get_recommendations('Friday the 13th (2009)')"
      ],
      "execution_count": 37,
      "outputs": [
        {
          "output_type": "execute_result",
          "data": {
            "text/html": [
              "<div>\n",
              "<style scoped>\n",
              "    .dataframe tbody tr th:only-of-type {\n",
              "        vertical-align: middle;\n",
              "    }\n",
              "\n",
              "    .dataframe tbody tr th {\n",
              "        vertical-align: top;\n",
              "    }\n",
              "\n",
              "    .dataframe thead th {\n",
              "        text-align: right;\n",
              "    }\n",
              "</style>\n",
              "<table border=\"1\" class=\"dataframe\">\n",
              "  <thead>\n",
              "    <tr style=\"text-align: right;\">\n",
              "      <th></th>\n",
              "      <th>title</th>\n",
              "      <th>Jaccard</th>\n",
              "    </tr>\n",
              "    <tr>\n",
              "      <th>movieId</th>\n",
              "      <th></th>\n",
              "      <th></th>\n",
              "    </tr>\n",
              "  </thead>\n",
              "  <tbody>\n",
              "    <tr>\n",
              "      <th>70994</th>\n",
              "      <td>Halloween II (2009)</td>\n",
              "      <td>0.152709</td>\n",
              "    </tr>\n",
              "    <tr>\n",
              "      <th>65601</th>\n",
              "      <td>My Bloody Valentine 3-D (2009)</td>\n",
              "      <td>0.148718</td>\n",
              "    </tr>\n",
              "    <tr>\n",
              "      <th>54785</th>\n",
              "      <td>Halloween (2007)</td>\n",
              "      <td>0.133787</td>\n",
              "    </tr>\n",
              "    <tr>\n",
              "      <th>77798</th>\n",
              "      <td>Nightmare on Elm Street, A (2010)</td>\n",
              "      <td>0.128788</td>\n",
              "    </tr>\n",
              "    <tr>\n",
              "      <th>51937</th>\n",
              "      <td>Hills Have Eyes II, The (2007)</td>\n",
              "      <td>0.123506</td>\n",
              "    </tr>\n",
              "  </tbody>\n",
              "</table>\n",
              "</div>"
            ],
            "text/plain": [
              "                                     title   Jaccard\n",
              "movieId                                             \n",
              "70994                  Halloween II (2009)  0.152709\n",
              "65601       My Bloody Valentine 3-D (2009)  0.148718\n",
              "54785                     Halloween (2007)  0.133787\n",
              "77798    Nightmare on Elm Street, A (2010)  0.128788\n",
              "51937       Hills Have Eyes II, The (2007)  0.123506"
            ]
          },
          "metadata": {
            "tags": []
          },
          "execution_count": 37
        }
      ]
    },
    {
      "cell_type": "code",
      "metadata": {
        "id": "yBsd6eW6DQ9l",
        "colab_type": "code",
        "colab": {
          "base_uri": "https://localhost:8080/",
          "height": 235
        },
        "outputId": "1b239c99-d2ab-4391-b973-32f4f16e8168"
      },
      "source": [
        "get_recommendations('Friday the 13th (2009)', Jaccard=False)"
      ],
      "execution_count": 38,
      "outputs": [
        {
          "output_type": "execute_result",
          "data": {
            "text/html": [
              "<div>\n",
              "<style scoped>\n",
              "    .dataframe tbody tr th:only-of-type {\n",
              "        vertical-align: middle;\n",
              "    }\n",
              "\n",
              "    .dataframe tbody tr th {\n",
              "        vertical-align: top;\n",
              "    }\n",
              "\n",
              "    .dataframe thead th {\n",
              "        text-align: right;\n",
              "    }\n",
              "</style>\n",
              "<table border=\"1\" class=\"dataframe\">\n",
              "  <thead>\n",
              "    <tr style=\"text-align: right;\">\n",
              "      <th></th>\n",
              "      <th>title</th>\n",
              "      <th>Score</th>\n",
              "    </tr>\n",
              "    <tr>\n",
              "      <th>movieId</th>\n",
              "      <th></th>\n",
              "      <th></th>\n",
              "    </tr>\n",
              "  </thead>\n",
              "  <tbody>\n",
              "    <tr>\n",
              "      <th>58559</th>\n",
              "      <td>Dark Knight, The (2008)</td>\n",
              "      <td>101</td>\n",
              "    </tr>\n",
              "    <tr>\n",
              "      <th>593</th>\n",
              "      <td>Silence of the Lambs, The (1991)</td>\n",
              "      <td>95</td>\n",
              "    </tr>\n",
              "    <tr>\n",
              "      <th>2959</th>\n",
              "      <td>Fight Club (1999)</td>\n",
              "      <td>90</td>\n",
              "    </tr>\n",
              "    <tr>\n",
              "      <th>2571</th>\n",
              "      <td>Matrix, The (1999)</td>\n",
              "      <td>88</td>\n",
              "    </tr>\n",
              "    <tr>\n",
              "      <th>296</th>\n",
              "      <td>Pulp Fiction (1994)</td>\n",
              "      <td>86</td>\n",
              "    </tr>\n",
              "  </tbody>\n",
              "</table>\n",
              "</div>"
            ],
            "text/plain": [
              "                                    title  Score\n",
              "movieId                                         \n",
              "58559             Dark Knight, The (2008)    101\n",
              "593      Silence of the Lambs, The (1991)     95\n",
              "2959                    Fight Club (1999)     90\n",
              "2571                   Matrix, The (1999)     88\n",
              "296                   Pulp Fiction (1994)     86"
            ]
          },
          "metadata": {
            "tags": []
          },
          "execution_count": 38
        }
      ]
    },
    {
      "cell_type": "code",
      "metadata": {
        "id": "mtFCEEGPDUFL",
        "colab_type": "code",
        "colab": {
          "base_uri": "https://localhost:8080/",
          "height": 68
        },
        "outputId": "08296fa3-3b7a-4843-d1ca-2e7b00ea8541"
      },
      "source": [
        "find_movies('Repo Man')"
      ],
      "execution_count": 39,
      "outputs": [
        {
          "output_type": "execute_result",
          "data": {
            "text/plain": [
              "movieId\n",
              "1965    Repo Man (1984)\n",
              "Name: title, dtype: object"
            ]
          },
          "metadata": {
            "tags": []
          },
          "execution_count": 39
        }
      ]
    },
    {
      "cell_type": "code",
      "metadata": {
        "id": "Sq5o5lalDtuu",
        "colab_type": "code",
        "colab": {
          "base_uri": "https://localhost:8080/",
          "height": 235
        },
        "outputId": "ca50ab57-d919-4168-c26b-7000420bbdb9"
      },
      "source": [
        "get_recommendations('Repo Man (1984)')"
      ],
      "execution_count": 40,
      "outputs": [
        {
          "output_type": "execute_result",
          "data": {
            "text/html": [
              "<div>\n",
              "<style scoped>\n",
              "    .dataframe tbody tr th:only-of-type {\n",
              "        vertical-align: middle;\n",
              "    }\n",
              "\n",
              "    .dataframe tbody tr th {\n",
              "        vertical-align: top;\n",
              "    }\n",
              "\n",
              "    .dataframe thead th {\n",
              "        text-align: right;\n",
              "    }\n",
              "</style>\n",
              "<table border=\"1\" class=\"dataframe\">\n",
              "  <thead>\n",
              "    <tr style=\"text-align: right;\">\n",
              "      <th></th>\n",
              "      <th>title</th>\n",
              "      <th>Jaccard</th>\n",
              "    </tr>\n",
              "    <tr>\n",
              "      <th>movieId</th>\n",
              "      <th></th>\n",
              "      <th></th>\n",
              "    </tr>\n",
              "  </thead>\n",
              "  <tbody>\n",
              "    <tr>\n",
              "      <th>1077</th>\n",
              "      <td>Sleeper (1973)</td>\n",
              "      <td>0.142954</td>\n",
              "    </tr>\n",
              "    <tr>\n",
              "      <th>2968</th>\n",
              "      <td>Time Bandits (1981)</td>\n",
              "      <td>0.135888</td>\n",
              "    </tr>\n",
              "    <tr>\n",
              "      <th>2289</th>\n",
              "      <td>Player, The (1992)</td>\n",
              "      <td>0.132812</td>\n",
              "    </tr>\n",
              "    <tr>\n",
              "      <th>2064</th>\n",
              "      <td>Roger &amp; Me (1989)</td>\n",
              "      <td>0.132747</td>\n",
              "    </tr>\n",
              "    <tr>\n",
              "      <th>1199</th>\n",
              "      <td>Brazil (1985)</td>\n",
              "      <td>0.130374</td>\n",
              "    </tr>\n",
              "  </tbody>\n",
              "</table>\n",
              "</div>"
            ],
            "text/plain": [
              "                       title   Jaccard\n",
              "movieId                               \n",
              "1077          Sleeper (1973)  0.142954\n",
              "2968     Time Bandits (1981)  0.135888\n",
              "2289      Player, The (1992)  0.132812\n",
              "2064       Roger & Me (1989)  0.132747\n",
              "1199           Brazil (1985)  0.130374"
            ]
          },
          "metadata": {
            "tags": []
          },
          "execution_count": 40
        }
      ]
    },
    {
      "cell_type": "code",
      "metadata": {
        "id": "HhwZSlfuD3r0",
        "colab_type": "code",
        "colab": {}
      },
      "source": [
        ""
      ],
      "execution_count": 0,
      "outputs": []
    }
  ]
}